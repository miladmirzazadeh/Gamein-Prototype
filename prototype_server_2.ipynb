{
  "nbformat": 4,
  "nbformat_minor": 0,
  "metadata": {
    "colab": {
      "name": "prototype_server.ipynb",
      "provenance": [],
      "collapsed_sections": [],
      "authorship_tag": "ABX9TyO1M4INPX34fntKsJKaKRPk",
      "include_colab_link": true
    },
    "kernelspec": {
      "name": "python3",
      "display_name": "Python 3"
    }
  },
  "cells": [
    {
      "cell_type": "markdown",
      "metadata": {
        "id": "view-in-github",
        "colab_type": "text"
      },
      "source": [
        "<a href=\"https://colab.research.google.com/github/miladmirzazadeh/Gamein-Prototype/blob/master/prototype_server_2.ipynb\" target=\"_parent\"><img src=\"https://colab.research.google.com/assets/colab-badge.svg\" alt=\"Open In Colab\"/></a>"
      ]
    },
    {
      "cell_type": "code",
      "metadata": {
        "id": "me_jifSwDnZZ",
        "colab_type": "code",
        "colab": {}
      },
      "source": [
        "Controller.create_player(\"milad\")"
      ],
      "execution_count": 64,
      "outputs": []
    },
    {
      "cell_type": "code",
      "metadata": {
        "id": "v7_gJp5UPpPz",
        "colab_type": "code",
        "colab": {
          "base_uri": "https://localhost:8080/",
          "height": 34
        },
        "outputId": "d4fefaf1-9004-4340-b2b7-45e89c3c480c"
      },
      "source": [
        "Controller.player_objects[\"milad\"].land_objects"
      ],
      "execution_count": 49,
      "outputs": [
        {
          "output_type": "execute_result",
          "data": {
            "text/plain": [
              "{}"
            ]
          },
          "metadata": {
            "tags": []
          },
          "execution_count": 49
        }
      ]
    },
    {
      "cell_type": "markdown",
      "metadata": {
        "id": "8p_X096sDtL4",
        "colab_type": "text"
      },
      "source": [
        "TESTING CODES\n"
      ]
    },
    {
      "cell_type": "code",
      "metadata": {
        "id": "_S-Zr1wfFzYX",
        "colab_type": "code",
        "colab": {}
      },
      "source": [
        "import numpy as np \n",
        "import pandas as pd \n",
        "import random"
      ],
      "execution_count": 77,
      "outputs": []
    },
    {
      "cell_type": "code",
      "metadata": {
        "id": "sY19sQdGuXWa",
        "colab_type": "code",
        "colab": {}
      },
      "source": [
        "class Material():\n",
        "  Prices = _ #dict (id , price)"
      ],
      "execution_count": 18,
      "outputs": []
    },
    {
      "cell_type": "code",
      "metadata": {
        "id": "00GXwbTjyWiP",
        "colab_type": "code",
        "colab": {
          "base_uri": "https://localhost:8080/",
          "height": 34
        },
        "outputId": "ef466f5f-7d11-432e-82f2-f3fc00a5c2ed"
      },
      "source": [
        "dic = dict({\"1\":\"hi\"})\n",
        "dic[list(dic.keys())[0]]"
      ],
      "execution_count": 19,
      "outputs": [
        {
          "output_type": "execute_result",
          "data": {
            "text/plain": [
              "'hi'"
            ]
          },
          "metadata": {
            "tags": []
          },
          "execution_count": 19
        }
      ]
    },
    {
      "cell_type": "code",
      "metadata": {
        "id": "XK2VZ3w0GcP-",
        "colab_type": "code",
        "colab": {
          "base_uri": "https://localhost:8080/",
          "height": 123
        },
        "outputId": "52450a83-57a9-4a79-cc4e-737a880110cc"
      },
      "source": [
        "x = pd.Series()\n",
        "x[\"ali\"] = 110\n",
        "x[\"milad\"] = 200\n",
        "x= x.sort_values(ascending=False)\n",
        "x"
      ],
      "execution_count": 20,
      "outputs": [
        {
          "output_type": "stream",
          "text": [
            "/usr/local/lib/python3.6/dist-packages/ipykernel_launcher.py:1: DeprecationWarning: The default dtype for empty Series will be 'object' instead of 'float64' in a future version. Specify a dtype explicitly to silence this warning.\n",
            "  \"\"\"Entry point for launching an IPython kernel.\n"
          ],
          "name": "stderr"
        },
        {
          "output_type": "execute_result",
          "data": {
            "text/plain": [
              "milad    200\n",
              "ali      110\n",
              "dtype: int64"
            ]
          },
          "metadata": {
            "tags": []
          },
          "execution_count": 20
        }
      ]
    },
    {
      "cell_type": "code",
      "metadata": {
        "id": "bpA_y1yTSZCr",
        "colab_type": "code",
        "colab": {
          "base_uri": "https://localhost:8080/",
          "height": 34
        },
        "outputId": "54034eaa-21ca-4ab5-eb6e-869dccb2a7c9"
      },
      "source": [
        "x = [1,2,3,4]\n",
        "x.remove(4)\n",
        "x"
      ],
      "execution_count": 85,
      "outputs": [
        {
          "output_type": "execute_result",
          "data": {
            "text/plain": [
              "[1, 2, 3]"
            ]
          },
          "metadata": {
            "tags": []
          },
          "execution_count": 85
        }
      ]
    },
    {
      "cell_type": "code",
      "metadata": {
        "id": "iFY3HwF4wsW5",
        "colab_type": "code",
        "colab": {}
      },
      "source": [
        "class Controller():\n",
        "  return_message=\"\"\n",
        "  turn = 0 \n",
        "  last_turn = 50\n",
        "  player_objects = dict()#name,object\n",
        "\n",
        "  def next_turn():\n",
        "    turn+=1\n",
        "    if turn == Controller.last_turn : \n",
        "      score_board = Controller.score_board()\n",
        "      Controller.return_message = \"End Game. Thank u \" + score_board\n",
        "\n",
        "  \n",
        "  def score_board():\n",
        "    net_worths = pd.Series([])\n",
        "    for player in list(player_objects.keys()):\n",
        "      obj = player_objects[player]\n",
        "      obj.calculate_final_net_worth()\n",
        "      net_worths[player] = obj \n",
        "    net_worths = net_worths.sort(ascending=False)\n",
        "    return net_worths\n",
        "\n",
        "\n",
        "\n",
        "\n",
        "\n",
        "  # def get_status(player_name):\n",
        "    # for land in player_objecs[player_name].\n",
        "\n",
        "\n",
        "  def create_player(player_name):\n",
        "    land_id = random.choice(Land.available_lands) #random از بین لیست زمین های در دسترس\n",
        "    Land.available_lands.remove(land_id)\n",
        "\n",
        "    machine_id = _ # از دیتافریم زمین و ماشین خوانده میشود\n",
        "    #remove from available lands\n",
        "    Controller.player_objects.update({player_name : Player(player_name)})\n",
        "    Controller.buy_land(player_name, land_id)\n",
        "    # Controller.buy_machine(player_name, land_id, machine_id)\n",
        "    \n",
        "  def buy_land(player_name, land_id):\n",
        "    Controller.player_objects[player_name].add_land(land_id)\n",
        "    # Controller.player_objects[name].cash -=         اینجا باید پول زمین رو از حسابش کم کنیم . فعلا لازم نیست  چون خودمون بهش زمین رو اختصاص میدیم \n",
        "  def buy_machine(player_name, land_id, machine_id):\n",
        "    Controller.player_objects[player_name].add_machine(land_id, machine_id)\n",
        "    \n",
        "  def put_into_market(player_name, product, amount, price):\n",
        "    pass\n",
        "  \n",
        "  def upgrade_stockhouse(player_name, land_id):\n",
        "    pass\n",
        "\n",
        "  def show_product_market_info():\n",
        "    return Market.products_on_vitrin\n",
        "  def buy_product(player_name, market_row): # شماره ردیف محصول مد نظر در ویترین مارکت به عنوان ورودی داده میشود و تعدادی که میخواد\n",
        "    pass"
      ],
      "execution_count": 56,
      "outputs": []
    },
    {
      "cell_type": "code",
      "metadata": {
        "id": "BSM5bwL62SjQ",
        "colab_type": "code",
        "colab": {}
      },
      "source": [
        "x = pd.DataFrame([1,2,3])"
      ],
      "execution_count": 57,
      "outputs": []
    },
    {
      "cell_type": "code",
      "metadata": {
        "id": "UAVI6tfGyhrI",
        "colab_type": "code",
        "colab": {}
      },
      "source": [
        "class Player():\n",
        "  players_name=[]\n",
        "\n",
        "  def __init__(self, player_name):\n",
        "    self.name = player_name\n",
        "    #remove from available\n",
        "    self.cash = 1000000 # بودجه اولیه\n",
        "    self.land_objects=dict()\n",
        "\n",
        "  def calculate_final_net_worth(self):\n",
        "    inventory_value_list = []\n",
        "    for land in list(self.land_objects.keys()):\n",
        "      inventory_value_list.append(self.land_objects[land].calculate_inventory_value()) # تو هر خونه این لیست ، ارزش دارایی های یک زمین از زمین های بازیکن ثبت میشه\n",
        "    inventory_value_sum = sum(inventory_value_list)\n",
        "    net_worth = inventory_value_sum + self.cash \n",
        "    return net_worth \n",
        "\n",
        "  def add_land(self, land_id):\n",
        "    pass\n",
        "    self.land_objects.update({land_id : Land(land_id)}) # یه اینستنس از لند میسازه که ورودی بهش آیدی میدیم . بعد توی خود لند ، بر حسب آیدی بقیه فیچر های لند رو ست میکنیم\n",
        "    \n",
        "\n",
        "  def add_machine(self, land_id, machine_id):\n",
        "    self.land_objects[land_id].add_machine(machine_id)\n",
        "\n",
        "\n",
        "\n",
        "\n",
        "    print(\"hi\")\n",
        "\n"
      ],
      "execution_count": 66,
      "outputs": []
    },
    {
      "cell_type": "code",
      "metadata": {
        "id": "-jc3xKAXRx2M",
        "colab_type": "code",
        "colab": {}
      },
      "source": [
        "ali = Player(\"ali\")"
      ],
      "execution_count": 67,
      "outputs": []
    },
    {
      "cell_type": "code",
      "metadata": {
        "id": "F6LJ1YXPR0tg",
        "colab_type": "code",
        "colab": {
          "base_uri": "https://localhost:8080/",
          "height": 286
        },
        "outputId": "3a09b042-b551-4468-fab5-9733bf5698c1"
      },
      "source": [
        "ali.add_land(_)\n"
      ],
      "execution_count": 70,
      "outputs": [
        {
          "output_type": "error",
          "ename": "TypeError",
          "evalue": "ignored",
          "traceback": [
            "\u001b[0;31m---------------------------------------------------------------------------\u001b[0m",
            "\u001b[0;31mTypeError\u001b[0m                                 Traceback (most recent call last)",
            "\u001b[0;32m<ipython-input-70-ca28c03f91fb>\u001b[0m in \u001b[0;36m<module>\u001b[0;34m()\u001b[0m\n\u001b[0;32m----> 1\u001b[0;31m \u001b[0mali\u001b[0m\u001b[0;34m.\u001b[0m\u001b[0madd_land\u001b[0m\u001b[0;34m(\u001b[0m\u001b[0m_\u001b[0m\u001b[0;34m)\u001b[0m\u001b[0;34m\u001b[0m\u001b[0;34m\u001b[0m\u001b[0m\n\u001b[0m",
            "\u001b[0;32m<ipython-input-66-ae08964d90dd>\u001b[0m in \u001b[0;36madd_land\u001b[0;34m(self, land_id)\u001b[0m\n\u001b[1;32m     18\u001b[0m   \u001b[0;32mdef\u001b[0m \u001b[0madd_land\u001b[0m\u001b[0;34m(\u001b[0m\u001b[0mself\u001b[0m\u001b[0;34m,\u001b[0m \u001b[0mland_id\u001b[0m\u001b[0;34m)\u001b[0m\u001b[0;34m:\u001b[0m\u001b[0;34m\u001b[0m\u001b[0;34m\u001b[0m\u001b[0m\n\u001b[1;32m     19\u001b[0m     \u001b[0;32mpass\u001b[0m\u001b[0;34m\u001b[0m\u001b[0;34m\u001b[0m\u001b[0m\n\u001b[0;32m---> 20\u001b[0;31m     \u001b[0mself\u001b[0m\u001b[0;34m.\u001b[0m\u001b[0mland_objects\u001b[0m\u001b[0;34m.\u001b[0m\u001b[0mupdate\u001b[0m\u001b[0;34m(\u001b[0m\u001b[0;34m{\u001b[0m\u001b[0mland_id\u001b[0m \u001b[0;34m:\u001b[0m \u001b[0mLand\u001b[0m\u001b[0;34m(\u001b[0m\u001b[0mland_id\u001b[0m\u001b[0;34m)\u001b[0m\u001b[0;34m}\u001b[0m\u001b[0;34m)\u001b[0m \u001b[0;31m# یه اینستنس از لند میسازه که ورودی بهش آیدی میدیم . بعد توی خود لند ، بر حسب آیدی بقیه فیچر های لند رو ست میکنیم\u001b[0m\u001b[0;34m\u001b[0m\u001b[0;34m\u001b[0m\u001b[0m\n\u001b[0m\u001b[1;32m     21\u001b[0m \u001b[0;34m\u001b[0m\u001b[0m\n\u001b[1;32m     22\u001b[0m \u001b[0;34m\u001b[0m\u001b[0m\n",
            "\u001b[0;31mTypeError\u001b[0m: unhashable type: 'dict'"
          ]
        }
      ]
    },
    {
      "cell_type": "code",
      "metadata": {
        "id": "SWhuw4ouR4Kp",
        "colab_type": "code",
        "colab": {
          "base_uri": "https://localhost:8080/",
          "height": 34
        },
        "outputId": "f4854c29-baca-4f08-efff-dc231ff52232"
      },
      "source": [
        "ali.land_objects"
      ],
      "execution_count": 69,
      "outputs": [
        {
          "output_type": "execute_result",
          "data": {
            "text/plain": [
              "{22: <__main__.Land at 0x7f7741c2f6d8>}"
            ]
          },
          "metadata": {
            "tags": []
          },
          "execution_count": 69
        }
      ]
    },
    {
      "cell_type": "code",
      "metadata": {
        "id": "nxzbUOx-4vyl",
        "colab_type": "code",
        "colab": {}
      },
      "source": [
        "class Land():\n",
        "  lands_list =[] #amirreza یه دیتا فریم که یه آی دی زمین داره و ماشین\n",
        "  available_lands=[] #آی دی های باقی مانده\n",
        "  machine_objects = dict()\n",
        "  def __init__(self, land_id):\n",
        "    pass\n",
        "    # self.stockhouse = StockHouse()\n",
        "  def add_machine(self, machine_id):\n",
        "    self.machine_objects.update({machine_id: Machine(machine_id)})\n",
        "\n",
        "    \n",
        "\n",
        "\n",
        "  "
      ],
      "execution_count": 59,
      "outputs": []
    },
    {
      "cell_type": "code",
      "metadata": {
        "id": "zBJoGtsnKT5a",
        "colab_type": "code",
        "colab": {}
      },
      "source": [
        "class StockHouse():\n",
        "  def __init__(self):\n",
        "    self.remaining_cap = 3000\n",
        "    self.inventory_df = pd.DataFrame()\n",
        "    self.cost_per_product = 100\n",
        "\n",
        "  "
      ],
      "execution_count": 60,
      "outputs": []
    },
    {
      "cell_type": "code",
      "metadata": {
        "id": "4od28VxTKTuq",
        "colab_type": "code",
        "colab": {}
      },
      "source": [
        ""
      ],
      "execution_count": 60,
      "outputs": []
    },
    {
      "cell_type": "code",
      "metadata": {
        "id": "CH8jlR1tKG81",
        "colab_type": "code",
        "colab": {}
      },
      "source": [
        "class Machine():\n",
        "  machines_list = _\n",
        "\n",
        "  def __init__(self):\n",
        "    self.production_id = _\n",
        "    self.price = _ \n",
        "    self.enabled = True\n",
        "    self.cost_per_production = _\n",
        "    self.working = 0\n",
        "    self.remaining_production = _\n",
        "  def start_production(self):\n",
        "    pass\n",
        "  def stop_production(self):\n",
        "    pass\n",
        "  \n",
        "\n",
        "  "
      ],
      "execution_count": 61,
      "outputs": []
    },
    {
      "cell_type": "code",
      "metadata": {
        "id": "d9StvdmzJvpc",
        "colab_type": "code",
        "colab": {}
      },
      "source": [
        "class Product():\n",
        "  def __init__(self):\n",
        "    self.lower_band = _\n",
        "    self.upper_band = _\n",
        "    \n",
        "    \n",
        "  "
      ],
      "execution_count": 29,
      "outputs": []
    },
    {
      "cell_type": "code",
      "metadata": {
        "id": "QL16AIzCutHl",
        "colab_type": "code",
        "colab": {}
      },
      "source": [
        "class Market():\n",
        "  products_on_vitrin = pd.DataFrame([], columns=[\"Supplier\", \"Product\", \"Amount\", \"Price\", \"Storehouse_object\"])\n",
        "def add_to_market(player_name,):\n",
        "  pass\n",
        "def remove_from_market():\n",
        "  pass "
      ],
      "execution_count": 30,
      "outputs": []
    },
    {
      "cell_type": "code",
      "metadata": {
        "id": "gfeack45vKsM",
        "colab_type": "code",
        "colab": {
          "base_uri": "https://localhost:8080/",
          "height": 49
        },
        "outputId": "8668599d-40b5-4c42-b10a-ea4f6271bb25"
      },
      "source": [
        "Market.products_on_vitrin"
      ],
      "execution_count": null,
      "outputs": [
        {
          "output_type": "execute_result",
          "data": {
            "text/html": [
              "<div>\n",
              "<style scoped>\n",
              "    .dataframe tbody tr th:only-of-type {\n",
              "        vertical-align: middle;\n",
              "    }\n",
              "\n",
              "    .dataframe tbody tr th {\n",
              "        vertical-align: top;\n",
              "    }\n",
              "\n",
              "    .dataframe thead th {\n",
              "        text-align: right;\n",
              "    }\n",
              "</style>\n",
              "<table border=\"1\" class=\"dataframe\">\n",
              "  <thead>\n",
              "    <tr style=\"text-align: right;\">\n",
              "      <th></th>\n",
              "      <th>hi</th>\n",
              "    </tr>\n",
              "  </thead>\n",
              "  <tbody>\n",
              "  </tbody>\n",
              "</table>\n",
              "</div>"
            ],
            "text/plain": [
              "Empty DataFrame\n",
              "Columns: [hi]\n",
              "Index: []"
            ]
          },
          "metadata": {
            "tags": []
          },
          "execution_count": 6
        }
      ]
    },
    {
      "cell_type": "code",
      "metadata": {
        "id": "7iBekYeIywSa",
        "colab_type": "code",
        "colab": {}
      },
      "source": [
        "ali = Player(\"aliagha\",1)\n",
        "milad = Player(\"mili\",1)"
      ],
      "execution_count": null,
      "outputs": []
    },
    {
      "cell_type": "code",
      "metadata": {
        "id": "hm0rNeuxy5u2",
        "colab_type": "code",
        "colab": {}
      },
      "source": [
        "Player.players_name.append(ali.name)\n",
        "Player.players_name.append(milad.name)"
      ],
      "execution_count": null,
      "outputs": []
    },
    {
      "cell_type": "code",
      "metadata": {
        "id": "0dLrPUgdzCQg",
        "colab_type": "code",
        "colab": {
          "base_uri": "https://localhost:8080/",
          "height": 286
        },
        "outputId": "57b28209-3746-4d28-dd81-6daedd6fcc91"
      },
      "source": [
        "ali.calculate_net_worth()"
      ],
      "execution_count": null,
      "outputs": [
        {
          "output_type": "error",
          "ename": "UnboundLocalError",
          "evalue": "ignored",
          "traceback": [
            "\u001b[0;31m---------------------------------------------------------------------------\u001b[0m",
            "\u001b[0;31mUnboundLocalError\u001b[0m                         Traceback (most recent call last)",
            "\u001b[0;32m<ipython-input-35-6a3c28d2011b>\u001b[0m in \u001b[0;36m<module>\u001b[0;34m()\u001b[0m\n\u001b[0;32m----> 1\u001b[0;31m \u001b[0mali\u001b[0m\u001b[0;34m.\u001b[0m\u001b[0mcalculate_net_worth\u001b[0m\u001b[0;34m(\u001b[0m\u001b[0;34m)\u001b[0m\u001b[0;34m\u001b[0m\u001b[0;34m\u001b[0m\u001b[0m\n\u001b[0m",
            "\u001b[0;32m<ipython-input-33-24de14b9d7d0>\u001b[0m in \u001b[0;36mcalculate_net_worth\u001b[0;34m(self)\u001b[0m\n\u001b[1;32m      9\u001b[0m     \u001b[0mself\u001b[0m\u001b[0;34m.\u001b[0m\u001b[0mland_objects\u001b[0m\u001b[0;34m=\u001b[0m\u001b[0mdict\u001b[0m\u001b[0;34m(\u001b[0m\u001b[0;34m)\u001b[0m\u001b[0;34m\u001b[0m\u001b[0;34m\u001b[0m\u001b[0m\n\u001b[1;32m     10\u001b[0m   \u001b[0;32mdef\u001b[0m \u001b[0mcalculate_net_worth\u001b[0m\u001b[0;34m(\u001b[0m\u001b[0mself\u001b[0m\u001b[0;34m)\u001b[0m\u001b[0;34m:\u001b[0m\u001b[0;34m\u001b[0m\u001b[0;34m\u001b[0m\u001b[0m\n\u001b[0;32m---> 11\u001b[0;31m     \u001b[0mcount\u001b[0m\u001b[0;34m+=\u001b[0m\u001b[0;36m1\u001b[0m\u001b[0;34m\u001b[0m\u001b[0;34m\u001b[0m\u001b[0m\n\u001b[0m\u001b[1;32m     12\u001b[0m     \u001b[0mprint\u001b[0m\u001b[0;34m(\u001b[0m\u001b[0;34m\"hi\"\u001b[0m\u001b[0;34m)\u001b[0m\u001b[0;34m\u001b[0m\u001b[0;34m\u001b[0m\u001b[0m\n\u001b[1;32m     13\u001b[0m \u001b[0;34m\u001b[0m\u001b[0m\n",
            "\u001b[0;31mUnboundLocalError\u001b[0m: local variable 'count' referenced before assignment"
          ]
        }
      ]
    },
    {
      "cell_type": "code",
      "metadata": {
        "id": "-UYSsO6TzFLr",
        "colab_type": "code",
        "colab": {}
      },
      "source": [
        "class a():\n",
        "  def x_2(): \n",
        "    print(\"hi\")\n",
        "  def y():\n",
        "    a.x_2()"
      ],
      "execution_count": null,
      "outputs": []
    }
  ]
}