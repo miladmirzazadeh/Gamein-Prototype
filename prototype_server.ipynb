{
  "nbformat": 4,
  "nbformat_minor": 0,
  "metadata": {
    "colab": {
      "name": "prototype_server.ipynb",
      "provenance": [],
      "collapsed_sections": [],
      "authorship_tag": "ABX9TyMYegpFAKtBRcL25+I4XB6m",
      "include_colab_link": true
    },
    "kernelspec": {
      "name": "python3",
      "display_name": "Python 3"
    }
  },
  "cells": [
    {
      "cell_type": "markdown",
      "metadata": {
        "id": "view-in-github",
        "colab_type": "text"
      },
      "source": [
        "<a href=\"https://colab.research.google.com/github/miladmirzazadeh/Gamein-Prototype/blob/master/prototype_server.ipynb\" target=\"_parent\"><img src=\"https://colab.research.google.com/assets/colab-badge.svg\" alt=\"Open In Colab\"/></a>"
      ]
    },
    {
      "cell_type": "code",
      "metadata": {
        "id": "_S-Zr1wfFzYX",
        "colab_type": "code",
        "colab": {}
      },
      "source": [
        "import numpy as np \n",
        "import pandas as pd "
      ],
      "execution_count": null,
      "outputs": []
    },
    {
      "cell_type": "code",
      "metadata": {
        "id": "sY19sQdGuXWa",
        "colab_type": "code",
        "colab": {}
      },
      "source": [
        "class Material():\n",
        "  Prices = _ #dict (id , price)"
      ],
      "execution_count": null,
      "outputs": []
    },
    {
      "cell_type": "code",
      "metadata": {
        "id": "00GXwbTjyWiP",
        "colab_type": "code",
        "colab": {
          "base_uri": "https://localhost:8080/",
          "height": 34
        },
        "outputId": "1485f204-48a9-44eb-f6c2-fb3329d7c1fc"
      },
      "source": [
        "dic = dict({\"1\":\"hi\"})\n",
        "dic[list(dic.keys())[0]]"
      ],
      "execution_count": null,
      "outputs": [
        {
          "output_type": "execute_result",
          "data": {
            "text/plain": [
              "'hi'"
            ]
          },
          "metadata": {
            "tags": []
          },
          "execution_count": 16
        }
      ]
    },
    {
      "cell_type": "code",
      "metadata": {
        "id": "XK2VZ3w0GcP-",
        "colab_type": "code",
        "colab": {
          "base_uri": "https://localhost:8080/",
          "height": 123
        },
        "outputId": "43c985f4-d6ce-47e7-e26e-1e3561ba4ed2"
      },
      "source": [
        "x = pd.Series()\n",
        "x[\"ali\"] = 110\n",
        "x[\"milad\"] = 200\n",
        "x= x.sort_values(ascending=False)\n",
        "x"
      ],
      "execution_count": null,
      "outputs": [
        {
          "output_type": "stream",
          "text": [
            "/usr/local/lib/python3.6/dist-packages/ipykernel_launcher.py:1: DeprecationWarning: The default dtype for empty Series will be 'object' instead of 'float64' in a future version. Specify a dtype explicitly to silence this warning.\n",
            "  \"\"\"Entry point for launching an IPython kernel.\n"
          ],
          "name": "stderr"
        },
        {
          "output_type": "execute_result",
          "data": {
            "text/plain": [
              "milad    200\n",
              "ali      110\n",
              "dtype: int64"
            ]
          },
          "metadata": {
            "tags": []
          },
          "execution_count": 50
        }
      ]
    },
    {
      "cell_type": "code",
      "metadata": {
        "id": "iFY3HwF4wsW5",
        "colab_type": "code",
        "colab": {}
      },
      "source": [
        "class Controller():\n",
        "  return_message=\"\"\n",
        "  turn = 0 \n",
        "  last_turn = 50\n",
        "  player_objects = dict()#name,object\n",
        "\n",
        "  def next_turn():\n",
        "    turn+=1\n",
        "    if turn == Controller.last_turn : \n",
        "      Controller.return_message = \"End Game. Thank u \"\n",
        "      score_board = Controller.score_board()\n",
        "\n",
        "  \n",
        "  def score_board():\n",
        "    net_worths = pd.Series([])\n",
        "    for player in list(player_objects.keys()):\n",
        "      obj = player_objects[player]\n",
        "      obj.calculate_final_net_worth()\n",
        "      net_worths[player] = obj \n",
        "    net_worths = net_worths.sort(ascending=False)\n",
        "    return net_worths\n",
        "\n",
        "\n",
        "\n",
        "\n",
        "\n",
        "  def get_status(player_name):\n",
        "    pass\n",
        "  def calculate_net_worth(player_name):\n",
        "    pass\n",
        "  def create_player(player_name):\n",
        "    land_id = _#random از بین لیست زمین های در دسترس\n",
        "    #remove from available lands\n",
        "    Controller.player_objects.update({name : Player(name, land_id)})\n",
        "    \n",
        "  def buy_land(player_name, land_id):\n",
        "    Controller.player_objects[name].add_land(land_id)\n",
        "    # Controller.player_objects[name].cash -=         اینجا باید پول زمین رو از حسابش کم کنیم . فعلا لازم نیست  چون خودمون بهش زمین رو اختصاص میدیم \n",
        "    \n",
        "    \n",
        "\n",
        "\n",
        "  def upgrade_stockhouse(player_name, land_id):\n",
        "    pass\n",
        "  def buy_machine(player_name, land_id, machine_id):\n",
        "    pass\n",
        "  def show_product_market_info():\n",
        "    pass\n",
        "  def buy_product(player_name, market_row): # شماره ردیف محصول مد نظر در ویترین مارکت به عنوان ورودی داده میشود\n",
        "    pass"
      ],
      "execution_count": null,
      "outputs": []
    },
    {
      "cell_type": "code",
      "metadata": {
        "id": "SdZBSBGc2q_d",
        "colab_type": "code",
        "colab": {
          "base_uri": "https://localhost:8080/",
          "height": 200
        },
        "outputId": "59ee1e15-1551-4cc5-dcbe-d7fa7d300fa2"
      },
      "source": [
        "Controller.create_player(\"Milad\")\n",
        "Controller.create_player(\"Pouria\")\n",
        "Controller.create_player(\"Faezeh\")"
      ],
      "execution_count": null,
      "outputs": [
        {
          "output_type": "error",
          "ename": "NameError",
          "evalue": "ignored",
          "traceback": [
            "\u001b[0;31m---------------------------------------------------------------------------\u001b[0m",
            "\u001b[0;31mNameError\u001b[0m                                 Traceback (most recent call last)",
            "\u001b[0;32m<ipython-input-3-be5097ba99d0>\u001b[0m in \u001b[0;36m<module>\u001b[0;34m()\u001b[0m\n\u001b[0;32m----> 1\u001b[0;31m \u001b[0mController\u001b[0m\u001b[0;34m.\u001b[0m\u001b[0mcreate_player\u001b[0m\u001b[0;34m(\u001b[0m\u001b[0;34m\"Milad\"\u001b[0m\u001b[0;34m)\u001b[0m\u001b[0;34m\u001b[0m\u001b[0;34m\u001b[0m\u001b[0m\n\u001b[0m\u001b[1;32m      2\u001b[0m \u001b[0mController\u001b[0m\u001b[0;34m.\u001b[0m\u001b[0mcreate_player\u001b[0m\u001b[0;34m(\u001b[0m\u001b[0;34m\"Pouria\"\u001b[0m\u001b[0;34m)\u001b[0m\u001b[0;34m\u001b[0m\u001b[0;34m\u001b[0m\u001b[0m\n\u001b[1;32m      3\u001b[0m \u001b[0mController\u001b[0m\u001b[0;34m.\u001b[0m\u001b[0mcreate_player\u001b[0m\u001b[0;34m(\u001b[0m\u001b[0;34m\"Faezeh\"\u001b[0m\u001b[0;34m)\u001b[0m\u001b[0;34m\u001b[0m\u001b[0;34m\u001b[0m\u001b[0m\n",
            "\u001b[0;31mNameError\u001b[0m: name 'Controller' is not defined"
          ]
        }
      ]
    },
    {
      "cell_type": "code",
      "metadata": {
        "id": "UAVI6tfGyhrI",
        "colab_type": "code",
        "colab": {}
      },
      "source": [
        "class Player():\n",
        "  players_name=[]\n",
        "\n",
        "  def __init__(self, name, land_id):\n",
        "    self.name = name\n",
        "    #remove from available\n",
        "    self.cash = 1000000 # بودجه اولیه\n",
        "    self.land_objects=dict()\n",
        "\n",
        "  def calculate_final_net_worth(self):\n",
        "    inventory_value_list = []\n",
        "    for land in list(self.land_objects.keys()):\n",
        "      inventory_value_list.append(self.land_objects[land].calculate_inventory_value()) # تو هر خونه این لیست ، ارزش دارایی های یک زمین از زمین های بازیکن ثبت میشه\n",
        "    inventory_value_sum = sum(inventory_value_list)\n",
        "    net_worth = inventory_value_sum + self.cash \n",
        "    return net_worth \n",
        "\n",
        "  def add_land(self, land_id):\n",
        "    self.land_objects.update({land_id, Land(land_id)}) # یه اینستنس از لند میسازه که ورودی بهش آیدی میدیم . بعد توی خود لند ، بر حسب آیدی بقیه فیچر های لند رو ست میکنیم\n",
        "    \n",
        "\n",
        "      \n",
        "\n",
        "\n",
        "\n",
        "    print(\"hi\")\n",
        "\n"
      ],
      "execution_count": null,
      "outputs": []
    },
    {
      "cell_type": "code",
      "metadata": {
        "id": "nxzbUOx-4vyl",
        "colab_type": "code",
        "colab": {}
      },
      "source": [
        "class Land():\n",
        "  lands_list =[] #amirreza یه دیتا فریم که یه آی دی زمین داره و ماشین\n",
        "  available_lands=[] #آی دی های باقی مانده\n",
        "  def __init__(self):\n",
        "    self.stockhouse = StockHouse()\n",
        "    \n",
        "\n",
        "\n",
        "  "
      ],
      "execution_count": null,
      "outputs": []
    },
    {
      "cell_type": "code",
      "metadata": {
        "id": "zBJoGtsnKT5a",
        "colab_type": "code",
        "colab": {}
      },
      "source": [
        "class StockHouse():\n",
        "  def __init__(self):\n",
        "    self.remaining_cap = 3000\n",
        "    self.inventory_df = pd.DataFrame()\n",
        "    self.cost_per_product = 100\n",
        "\n",
        "  "
      ],
      "execution_count": null,
      "outputs": []
    },
    {
      "cell_type": "code",
      "metadata": {
        "id": "4od28VxTKTuq",
        "colab_type": "code",
        "colab": {}
      },
      "source": [
        ""
      ],
      "execution_count": null,
      "outputs": []
    },
    {
      "cell_type": "code",
      "metadata": {
        "id": "CH8jlR1tKG81",
        "colab_type": "code",
        "colab": {}
      },
      "source": [
        "class Machine() "
      ],
      "execution_count": null,
      "outputs": []
    },
    {
      "cell_type": "code",
      "metadata": {
        "id": "d9StvdmzJvpc",
        "colab_type": "code",
        "colab": {}
      },
      "source": [
        "class Product():\n",
        "  "
      ],
      "execution_count": null,
      "outputs": []
    },
    {
      "cell_type": "code",
      "metadata": {
        "id": "7iBekYeIywSa",
        "colab_type": "code",
        "colab": {}
      },
      "source": [
        "ali = Player(\"aliagha\",1)\n",
        "milad = Player(\"mili\",1)"
      ],
      "execution_count": null,
      "outputs": []
    },
    {
      "cell_type": "code",
      "metadata": {
        "id": "hm0rNeuxy5u2",
        "colab_type": "code",
        "colab": {}
      },
      "source": [
        "Player.players_name.append(ali.name)\n",
        "Player.players_name.append(milad.name)"
      ],
      "execution_count": null,
      "outputs": []
    },
    {
      "cell_type": "code",
      "metadata": {
        "id": "0dLrPUgdzCQg",
        "colab_type": "code",
        "colab": {
          "base_uri": "https://localhost:8080/",
          "height": 286
        },
        "outputId": "57b28209-3746-4d28-dd81-6daedd6fcc91"
      },
      "source": [
        "ali.calculate_net_worth()"
      ],
      "execution_count": null,
      "outputs": [
        {
          "output_type": "error",
          "ename": "UnboundLocalError",
          "evalue": "ignored",
          "traceback": [
            "\u001b[0;31m---------------------------------------------------------------------------\u001b[0m",
            "\u001b[0;31mUnboundLocalError\u001b[0m                         Traceback (most recent call last)",
            "\u001b[0;32m<ipython-input-35-6a3c28d2011b>\u001b[0m in \u001b[0;36m<module>\u001b[0;34m()\u001b[0m\n\u001b[0;32m----> 1\u001b[0;31m \u001b[0mali\u001b[0m\u001b[0;34m.\u001b[0m\u001b[0mcalculate_net_worth\u001b[0m\u001b[0;34m(\u001b[0m\u001b[0;34m)\u001b[0m\u001b[0;34m\u001b[0m\u001b[0;34m\u001b[0m\u001b[0m\n\u001b[0m",
            "\u001b[0;32m<ipython-input-33-24de14b9d7d0>\u001b[0m in \u001b[0;36mcalculate_net_worth\u001b[0;34m(self)\u001b[0m\n\u001b[1;32m      9\u001b[0m     \u001b[0mself\u001b[0m\u001b[0;34m.\u001b[0m\u001b[0mland_objects\u001b[0m\u001b[0;34m=\u001b[0m\u001b[0mdict\u001b[0m\u001b[0;34m(\u001b[0m\u001b[0;34m)\u001b[0m\u001b[0;34m\u001b[0m\u001b[0;34m\u001b[0m\u001b[0m\n\u001b[1;32m     10\u001b[0m   \u001b[0;32mdef\u001b[0m \u001b[0mcalculate_net_worth\u001b[0m\u001b[0;34m(\u001b[0m\u001b[0mself\u001b[0m\u001b[0;34m)\u001b[0m\u001b[0;34m:\u001b[0m\u001b[0;34m\u001b[0m\u001b[0;34m\u001b[0m\u001b[0m\n\u001b[0;32m---> 11\u001b[0;31m     \u001b[0mcount\u001b[0m\u001b[0;34m+=\u001b[0m\u001b[0;36m1\u001b[0m\u001b[0;34m\u001b[0m\u001b[0;34m\u001b[0m\u001b[0m\n\u001b[0m\u001b[1;32m     12\u001b[0m     \u001b[0mprint\u001b[0m\u001b[0;34m(\u001b[0m\u001b[0;34m\"hi\"\u001b[0m\u001b[0;34m)\u001b[0m\u001b[0;34m\u001b[0m\u001b[0;34m\u001b[0m\u001b[0m\n\u001b[1;32m     13\u001b[0m \u001b[0;34m\u001b[0m\u001b[0m\n",
            "\u001b[0;31mUnboundLocalError\u001b[0m: local variable 'count' referenced before assignment"
          ]
        }
      ]
    },
    {
      "cell_type": "code",
      "metadata": {
        "id": "-UYSsO6TzFLr",
        "colab_type": "code",
        "colab": {}
      },
      "source": [
        "class a():\n",
        "  def x_2(): \n",
        "    print(\"hi\")\n",
        "  def y():\n",
        "    a.x_2()"
      ],
      "execution_count": null,
      "outputs": []
    },
    {
      "cell_type": "code",
      "metadata": {
        "id": "2BaFTdrQIjXS",
        "colab_type": "code",
        "colab": {
          "base_uri": "https://localhost:8080/",
          "height": 34
        },
        "outputId": "9b3cd00f-e1c2-4ef0-f4c8-ed7d77bbbd5d"
      },
      "source": [
        "a.y()"
      ],
      "execution_count": null,
      "outputs": [
        {
          "output_type": "stream",
          "text": [
            "hi\n"
          ],
          "name": "stdout"
        }
      ]
    },
    {
      "cell_type": "code",
      "metadata": {
        "id": "UkF1e9B8Inx1",
        "colab_type": "code",
        "colab": {}
      },
      "source": [
        ""
      ],
      "execution_count": null,
      "outputs": []
    }
  ]
}