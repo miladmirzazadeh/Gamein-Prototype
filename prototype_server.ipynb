{
  "nbformat": 4,
  "nbformat_minor": 0,
  "metadata": {
    "colab": {
      "name": "prototype_server.ipynb",
      "provenance": [],
      "collapsed_sections": [],
      "mount_file_id": "1YTqvxsEQqKmzXwOYtNtDkVyvJI7l8luN",
      "authorship_tag": "ABX9TyPVBS5RnBvq7H504EKjuc9W",
      "include_colab_link": true
    },
    "kernelspec": {
      "name": "python3",
      "display_name": "Python 3"
    }
  },
  "cells": [
    {
      "cell_type": "markdown",
      "metadata": {
        "id": "view-in-github",
        "colab_type": "text"
      },
      "source": [
        "<a href=\"https://colab.research.google.com/github/miladmirzazadeh/Gamein-Prototype/blob/master/prototype_server.ipynb\" target=\"_parent\"><img src=\"https://colab.research.google.com/assets/colab-badge.svg\" alt=\"Open In Colab\"/></a>"
      ]
    },
    {
      "cell_type": "markdown",
      "metadata": {
        "id": "6O0_cMEK_2sl",
        "colab_type": "text"
      },
      "source": [
        "\n",
        "\n",
        "TESTING CODES ############################################################################\n",
        "\n"
      ]
    },
    {
      "cell_type": "code",
      "metadata": {
        "id": "b7zAAhDEPCRO",
        "colab_type": "code",
        "colab": {
          "base_uri": "https://localhost:8080/",
          "height": 141
        },
        "outputId": "8b713372-0bc8-465d-edfd-6cb21a90d34f"
      },
      "source": [
        "df = pd.DataFrame([[0, 2, 3], [0, 4, 1], [10, 20, 30]],\n",
        "                  index=[4, 5, 6], columns=['A', 'B', 'C'])\n",
        "\n",
        "df"
      ],
      "execution_count": null,
      "outputs": [
        {
          "output_type": "execute_result",
          "data": {
            "text/html": [
              "<div>\n",
              "<style scoped>\n",
              "    .dataframe tbody tr th:only-of-type {\n",
              "        vertical-align: middle;\n",
              "    }\n",
              "\n",
              "    .dataframe tbody tr th {\n",
              "        vertical-align: top;\n",
              "    }\n",
              "\n",
              "    .dataframe thead th {\n",
              "        text-align: right;\n",
              "    }\n",
              "</style>\n",
              "<table border=\"1\" class=\"dataframe\">\n",
              "  <thead>\n",
              "    <tr style=\"text-align: right;\">\n",
              "      <th></th>\n",
              "      <th>A</th>\n",
              "      <th>B</th>\n",
              "      <th>C</th>\n",
              "    </tr>\n",
              "  </thead>\n",
              "  <tbody>\n",
              "    <tr>\n",
              "      <th>4</th>\n",
              "      <td>0</td>\n",
              "      <td>2</td>\n",
              "      <td>3</td>\n",
              "    </tr>\n",
              "    <tr>\n",
              "      <th>5</th>\n",
              "      <td>0</td>\n",
              "      <td>4</td>\n",
              "      <td>1</td>\n",
              "    </tr>\n",
              "    <tr>\n",
              "      <th>6</th>\n",
              "      <td>10</td>\n",
              "      <td>20</td>\n",
              "      <td>30</td>\n",
              "    </tr>\n",
              "  </tbody>\n",
              "</table>\n",
              "</div>"
            ],
            "text/plain": [
              "    A   B   C\n",
              "4   0   2   3\n",
              "5   0   4   1\n",
              "6  10  20  30"
            ]
          },
          "metadata": {
            "tags": []
          },
          "execution_count": 4
        }
      ]
    },
    {
      "cell_type": "code",
      "metadata": {
        "id": "-Rj2o1kc4nM8",
        "colab_type": "code",
        "colab": {
          "base_uri": "https://localhost:8080/",
          "height": 69
        },
        "outputId": "e8a8c5b1-f7b3-415b-b2f5-1a79cef06ac8"
      },
      "source": [
        "for i,row in df.iterrows():\n",
        "  for ind,ro in row.iteritems() :\n",
        "    print(ro)\n",
        "  break"
      ],
      "execution_count": null,
      "outputs": [
        {
          "output_type": "stream",
          "text": [
            "0\n",
            "2\n",
            "3\n"
          ],
          "name": "stdout"
        }
      ]
    },
    {
      "cell_type": "code",
      "metadata": {
        "id": "BmiNJrIACF4B",
        "colab_type": "code",
        "colab": {}
      },
      "source": [
        "Controller.create_player(\"raman\")\n",
        "Controller.create_player(\"ali\") \n",
        "\n",
        "raman = Controller.player_objects[\"raman\"]\n",
        "raman_stockhouse = list(raman.land_objects.values())[0].stockhouse\n",
        "\n",
        "ali = Controller.player_objects[\"ali\"]\n",
        "ali_stockhouse = list(ali.land_objects.values())[0].stockhouse\n"
      ],
      "execution_count": 16,
      "outputs": []
    },
    {
      "cell_type": "code",
      "metadata": {
        "id": "jPoJHGmbUsLv",
        "colab_type": "code",
        "colab": {
          "base_uri": "https://localhost:8080/",
          "height": 311
        },
        "outputId": "df76a0ec-852a-49b5-eee5-0c67d8ac1e0c"
      },
      "source": [
        "Controller.start_production(\"ali\",\"چوب\", 1110)"
      ],
      "execution_count": 17,
      "outputs": [
        {
          "output_type": "error",
          "ename": "ValueError",
          "evalue": "ignored",
          "traceback": [
            "\u001b[0;31m---------------------------------------------------------------------------\u001b[0m",
            "\u001b[0;31mValueError\u001b[0m                                Traceback (most recent call last)",
            "\u001b[0;32m<ipython-input-17-57d134b4da98>\u001b[0m in \u001b[0;36m<module>\u001b[0;34m()\u001b[0m\n\u001b[0;32m----> 1\u001b[0;31m \u001b[0mController\u001b[0m\u001b[0;34m.\u001b[0m\u001b[0mstart_production\u001b[0m\u001b[0;34m(\u001b[0m\u001b[0;34m\"ali\"\u001b[0m\u001b[0;34m,\u001b[0m\u001b[0;34m\"چوب\"\u001b[0m\u001b[0;34m,\u001b[0m \u001b[0;36m1110\u001b[0m\u001b[0;34m)\u001b[0m\u001b[0;34m\u001b[0m\u001b[0;34m\u001b[0m\u001b[0m\n\u001b[0m",
            "\u001b[0;32m<ipython-input-15-daa4bcf1f774>\u001b[0m in \u001b[0;36mstart_production\u001b[0;34m(player_name, product_name, amount)\u001b[0m\n\u001b[1;32m     55\u001b[0m     \u001b[0;32mif\u001b[0m \u001b[0mplayer_obj\u001b[0m\u001b[0;34m.\u001b[0m\u001b[0mcash\u001b[0m \u001b[0;34m<=\u001b[0m \u001b[0mcost\u001b[0m \u001b[0;34m:\u001b[0m  \u001b[0;31m############## Checking Player Cash\u001b[0m\u001b[0;34m\u001b[0m\u001b[0;34m\u001b[0m\u001b[0m\n\u001b[1;32m     56\u001b[0m       \u001b[0;32mreturn\u001b[0m \u001b[0;34m(\u001b[0m\u001b[0;34m\"No Enough Cash\"\u001b[0m\u001b[0;34m)\u001b[0m\u001b[0;34m\u001b[0m\u001b[0;34m\u001b[0m\u001b[0m\n\u001b[0;32m---> 57\u001b[0;31m     \u001b[0;32mif\u001b[0m \u001b[0mstockhouse\u001b[0m\u001b[0;34m.\u001b[0m\u001b[0mremaining_cap\u001b[0m \u001b[0;34m<=\u001b[0m \u001b[0mvolume\u001b[0m\u001b[0;34m:\u001b[0m \u001b[0;31m############### Checking Inventory Remaining Cap\u001b[0m\u001b[0;34m\u001b[0m\u001b[0;34m\u001b[0m\u001b[0m\n\u001b[0m\u001b[1;32m     58\u001b[0m       \u001b[0;32mreturn\u001b[0m \u001b[0;34m(\u001b[0m\u001b[0;34m\"No Enough Space\"\u001b[0m\u001b[0;34m)\u001b[0m\u001b[0;34m\u001b[0m\u001b[0;34m\u001b[0m\u001b[0m\n\u001b[1;32m     59\u001b[0m \u001b[0;34m\u001b[0m\u001b[0m\n",
            "\u001b[0;32m/usr/local/lib/python3.6/dist-packages/pandas/core/generic.py\u001b[0m in \u001b[0;36m__nonzero__\u001b[0;34m(self)\u001b[0m\n\u001b[1;32m   1477\u001b[0m     \u001b[0;32mdef\u001b[0m \u001b[0m__nonzero__\u001b[0m\u001b[0;34m(\u001b[0m\u001b[0mself\u001b[0m\u001b[0;34m)\u001b[0m\u001b[0;34m:\u001b[0m\u001b[0;34m\u001b[0m\u001b[0;34m\u001b[0m\u001b[0m\n\u001b[1;32m   1478\u001b[0m         raise ValueError(\n\u001b[0;32m-> 1479\u001b[0;31m             \u001b[0;34mf\"The truth value of a {type(self).__name__} is ambiguous. \"\u001b[0m\u001b[0;34m\u001b[0m\u001b[0;34m\u001b[0m\u001b[0m\n\u001b[0m\u001b[1;32m   1480\u001b[0m             \u001b[0;34m\"Use a.empty, a.bool(), a.item(), a.any() or a.all().\"\u001b[0m\u001b[0;34m\u001b[0m\u001b[0;34m\u001b[0m\u001b[0m\n\u001b[1;32m   1481\u001b[0m         )\n",
            "\u001b[0;31mValueError\u001b[0m: The truth value of a DataFrame is ambiguous. Use a.empty, a.bool(), a.item(), a.any() or a.all()."
          ]
        }
      ]
    },
    {
      "cell_type": "code",
      "metadata": {
        "id": "3aNDcbKmoucA",
        "colab_type": "code",
        "colab": {
          "base_uri": "https://localhost:8080/",
          "height": 79
        },
        "outputId": "380ed163-9c10-4d03-8cbd-29da87be7e12"
      },
      "source": [
        "ali_stockhouse.inventory_df"
      ],
      "execution_count": null,
      "outputs": [
        {
          "output_type": "execute_result",
          "data": {
            "text/html": [
              "<div>\n",
              "<style scoped>\n",
              "    .dataframe tbody tr th:only-of-type {\n",
              "        vertical-align: middle;\n",
              "    }\n",
              "\n",
              "    .dataframe tbody tr th {\n",
              "        vertical-align: top;\n",
              "    }\n",
              "\n",
              "    .dataframe thead th {\n",
              "        text-align: right;\n",
              "    }\n",
              "</style>\n",
              "<table border=\"1\" class=\"dataframe\">\n",
              "  <thead>\n",
              "    <tr style=\"text-align: right;\">\n",
              "      <th></th>\n",
              "      <th>total_inventory</th>\n",
              "      <th>inhand_inventory</th>\n",
              "    </tr>\n",
              "  </thead>\n",
              "  <tbody>\n",
              "    <tr>\n",
              "      <th>tomato</th>\n",
              "      <td>1110</td>\n",
              "      <td>1110</td>\n",
              "    </tr>\n",
              "  </tbody>\n",
              "</table>\n",
              "</div>"
            ],
            "text/plain": [
              "       total_inventory inhand_inventory\n",
              "tomato            1110             1110"
            ]
          },
          "metadata": {
            "tags": []
          },
          "execution_count": 127
        }
      ]
    },
    {
      "cell_type": "code",
      "metadata": {
        "id": "7NAdyYUVs7uE",
        "colab_type": "code",
        "colab": {
          "base_uri": "https://localhost:8080/",
          "height": 35
        },
        "outputId": "4dc5badf-2488-482c-eb71-9968b970b7d3"
      },
      "source": [
        "Controller.put_into_market(\"ali\", \"tomato\", 500, 200)"
      ],
      "execution_count": null,
      "outputs": [
        {
          "output_type": "execute_result",
          "data": {
            "application/vnd.google.colaboratory.intrinsic": {
              "type": "string"
            },
            "text/plain": [
              "'Done :)'"
            ]
          },
          "metadata": {
            "tags": []
          },
          "execution_count": 120
        }
      ]
    },
    {
      "cell_type": "code",
      "metadata": {
        "id": "Q4GHuGMOGQdt",
        "colab_type": "code",
        "colab": {
          "base_uri": "https://localhost:8080/",
          "height": 110
        },
        "outputId": "212c1dff-95a7-43a5-c240-b9873977556e"
      },
      "source": [
        "Controller.show_product_market_info()"
      ],
      "execution_count": null,
      "outputs": [
        {
          "output_type": "execute_result",
          "data": {
            "text/html": [
              "<div>\n",
              "<style scoped>\n",
              "    .dataframe tbody tr th:only-of-type {\n",
              "        vertical-align: middle;\n",
              "    }\n",
              "\n",
              "    .dataframe tbody tr th {\n",
              "        vertical-align: top;\n",
              "    }\n",
              "\n",
              "    .dataframe thead th {\n",
              "        text-align: right;\n",
              "    }\n",
              "</style>\n",
              "<table border=\"1\" class=\"dataframe\">\n",
              "  <thead>\n",
              "    <tr style=\"text-align: right;\">\n",
              "      <th></th>\n",
              "      <th>id</th>\n",
              "      <th>product_name</th>\n",
              "      <th>amount</th>\n",
              "      <th>price</th>\n",
              "      <th>seller_name</th>\n",
              "    </tr>\n",
              "  </thead>\n",
              "  <tbody>\n",
              "    <tr>\n",
              "      <th>88</th>\n",
              "      <td>88</td>\n",
              "      <td>tomato</td>\n",
              "      <td>400</td>\n",
              "      <td>200</td>\n",
              "      <td>ali</td>\n",
              "    </tr>\n",
              "    <tr>\n",
              "      <th>29</th>\n",
              "      <td>29</td>\n",
              "      <td>tomato</td>\n",
              "      <td>500</td>\n",
              "      <td>200</td>\n",
              "      <td>ali</td>\n",
              "    </tr>\n",
              "  </tbody>\n",
              "</table>\n",
              "</div>"
            ],
            "text/plain": [
              "    id product_name amount price seller_name\n",
              "88  88       tomato    400   200         ali\n",
              "29  29       tomato    500   200         ali"
            ]
          },
          "metadata": {
            "tags": []
          },
          "execution_count": 122
        }
      ]
    },
    {
      "cell_type": "code",
      "metadata": {
        "id": "qXpPFhtD4Kba",
        "colab_type": "code",
        "colab": {
          "base_uri": "https://localhost:8080/",
          "height": 35
        },
        "outputId": "3819d421-b5b3-47c0-af33-46dfeabe8a8a"
      },
      "source": [
        "Controller.buy_product(\"ali\",Market.vitrin.index[0],100)"
      ],
      "execution_count": null,
      "outputs": [
        {
          "output_type": "execute_result",
          "data": {
            "application/vnd.google.colaboratory.intrinsic": {
              "type": "string"
            },
            "text/plain": [
              "'Done :)'"
            ]
          },
          "metadata": {
            "tags": []
          },
          "execution_count": 116
        }
      ]
    },
    {
      "cell_type": "code",
      "metadata": {
        "id": "XjeEiqNE_wtd",
        "colab_type": "code",
        "colab": {
          "base_uri": "https://localhost:8080/",
          "height": 34
        },
        "outputId": "ff149530-327f-4383-f139-17c69aa9b67f"
      },
      "source": [
        "ali.cash"
      ],
      "execution_count": null,
      "outputs": [
        {
          "output_type": "execute_result",
          "data": {
            "text/plain": [
              "1000000"
            ]
          },
          "metadata": {
            "tags": []
          },
          "execution_count": 128
        }
      ]
    },
    {
      "cell_type": "code",
      "metadata": {
        "id": "RQ8triTuOyy_",
        "colab_type": "code",
        "colab": {
          "base_uri": "https://localhost:8080/",
          "height": 110
        },
        "outputId": "abb04e6e-829c-420a-af45-dc3ff39fd285"
      },
      "source": [
        ""
      ],
      "execution_count": null,
      "outputs": [
        {
          "output_type": "execute_result",
          "data": {
            "text/html": [
              "<div>\n",
              "<style scoped>\n",
              "    .dataframe tbody tr th:only-of-type {\n",
              "        vertical-align: middle;\n",
              "    }\n",
              "\n",
              "    .dataframe tbody tr th {\n",
              "        vertical-align: top;\n",
              "    }\n",
              "\n",
              "    .dataframe thead th {\n",
              "        text-align: right;\n",
              "    }\n",
              "</style>\n",
              "<table border=\"1\" class=\"dataframe\">\n",
              "  <thead>\n",
              "    <tr style=\"text-align: right;\">\n",
              "      <th></th>\n",
              "      <th>id</th>\n",
              "      <th>product_name</th>\n",
              "      <th>amount</th>\n",
              "      <th>price</th>\n",
              "      <th>seller_name</th>\n",
              "    </tr>\n",
              "  </thead>\n",
              "  <tbody>\n",
              "    <tr>\n",
              "      <th>40</th>\n",
              "      <td>40</td>\n",
              "      <td>potato</td>\n",
              "      <td>400</td>\n",
              "      <td>200</td>\n",
              "      <td>raman</td>\n",
              "    </tr>\n",
              "    <tr>\n",
              "      <th>506</th>\n",
              "      <td>506</td>\n",
              "      <td>tomato</td>\n",
              "      <td>500</td>\n",
              "      <td>200</td>\n",
              "      <td>ali</td>\n",
              "    </tr>\n",
              "  </tbody>\n",
              "</table>\n",
              "</div>"
            ],
            "text/plain": [
              "      id product_name amount price seller_name\n",
              "40    40       potato    400   200       raman\n",
              "506  506       tomato    500   200         ali"
            ]
          },
          "metadata": {
            "tags": []
          },
          "execution_count": 93
        }
      ]
    },
    {
      "cell_type": "markdown",
      "metadata": {
        "id": "8p_X096sDtL4",
        "colab_type": "text"
      },
      "source": [
        "END   TESTING CODES ######################################################################\n",
        "\n",
        "\n",
        "\n",
        "\n",
        "\n",
        "\n",
        "\n"
      ]
    },
    {
      "cell_type": "code",
      "metadata": {
        "id": "_S-Zr1wfFzYX",
        "colab_type": "code",
        "colab": {}
      },
      "source": [
        "import numpy as np \n",
        "import pandas as pd \n",
        "import random"
      ],
      "execution_count": 2,
      "outputs": []
    },
    {
      "cell_type": "code",
      "metadata": {
        "id": "Tw_EI3xODx-6",
        "colab_type": "code",
        "colab": {
          "base_uri": "https://localhost:8080/",
          "height": 34
        },
        "outputId": "7579fbf5-1b34-4a5d-d310-3492267c7a52"
      },
      "source": [
        "type(pd.read_excel(\"/content/drive/My Drive/gamein_prototype/parameters.xlsx\",sheet_name=\"land_machine\", header=0,index_col=0).loc[30001])"
      ],
      "execution_count": 28,
      "outputs": [
        {
          "output_type": "execute_result",
          "data": {
            "text/plain": [
              "pandas.core.series.Series"
            ]
          },
          "metadata": {
            "tags": []
          },
          "execution_count": 28
        }
      ]
    },
    {
      "cell_type": "code",
      "metadata": {
        "id": "iFY3HwF4wsW5",
        "colab_type": "code",
        "colab": {}
      },
      "source": [
        "class Controller():\n",
        "\n",
        "  # We have to set All initial values here ...... why ? because we wanna reset them everytime we build Controller class \n",
        "  Market.vitrin = pd.DataFrame([], columns=[\"seller_obj\",\"product_name\",\"amount\", \"price\"])\n",
        "  Land.available_lands = Land.lands_list\n",
        "  ##############################\n",
        "  return_message=\"\"\n",
        "  turn = 0 \n",
        "  last_turn = 50\n",
        "  player_objects = dict()#name,object\n",
        "\n",
        "  def next_turn():\n",
        "    turn+=1\n",
        "    if turn == Controller.last_turn : \n",
        "      score_board = Controller.score_board()\n",
        "      Controller.return_message = \"End Game. Thank u \" + score_board\n",
        "\n",
        "  \n",
        "  def score_board():\n",
        "    net_worths = pd.Series([])\n",
        "    for player in list(player_objects.keys()):\n",
        "      obj = player_objects[player]\n",
        "      obj.calculate_final_net_worth()\n",
        "      net_worths[player] = obj \n",
        "    net_worths = net_worths.sort(ascending=False)\n",
        "    return net_worths\n",
        "\n",
        "\n",
        "  # def get_status(player_name):\n",
        "    # for land in player_objecs[player_name].\n",
        "\n",
        "  def create_player(player_name):\n",
        "    land_id = random.choice(Land.available_lands) #random از بین لیست زمین های در دسترس\n",
        "    Land.available_lands.remove(land_id)   #remove from available lands\n",
        "    \n",
        "    machine_id =  Parameters.land_machine_df.loc[land_id, machine_id] # از دیتافریم زمین و ماشین خوانده میشود\n",
        "    \n",
        "    Controller.player_objects.update({player_name : Player(player_name)})\n",
        "    Controller.buy_land(player_name, land_id)\n",
        "    Controller.buy_machine(player_name, land_id, machine_id)\n",
        "    \n",
        "  def buy_land(player_name, land_id):\n",
        "    Controller.player_objects[player_name].add_land(land_id)\n",
        "    # Controller.player_objects[name].cash -=         اینجا باید پول زمین رو از حسابش کم کنیم . فعلا لازم نیست  چون خودمون بهش زمین رو اختصاص میدیم \n",
        "\n",
        "  def buy_machine(player_name, land_id, machine_id):\n",
        "    Controller.player_objects[player_name].add_machine(land_id, machine_id)\n",
        "\n",
        "  def start_production(player_name, product_name, amount):# This Func should take machine_id too ( Later Inshallah)\n",
        "    player_obj = Controller.player_objects[player_name]\n",
        "    stockhouse = list(player_obj.land_objects.values())[0].stockhouse\n",
        "    if not (product_name in Product.products_df.index): ### checking existence\n",
        "      return (\"Do we have this Product in the Game ?!\") \n",
        "    product_inf = Product.products_df.loc[product_name]\n",
        "    cost = product_inf.production_cost * amount\n",
        "    volume = _ * amount # _ is Defined\n",
        "\n",
        "    if player_obj.cash <= cost :  ############## Checking Player Cash\n",
        "      return (\"No Enough Cash\")\n",
        "    if stockhouse.remaining_cap <= volume: ############### Checking Inventory Remaining Cap\n",
        "      return (\"No Enough Space\")\n",
        "  \n",
        "    materials = product_inf.drop([\"production_cost\", \"lower_band\", \"upper_band\"]) ############ Checking Materials\n",
        "    for mat, number in materials.iteritems():\n",
        "      if number > 0 :\n",
        "        if (not (mat in stockhouse.inventory_df.index) or (number*amount > stockhouse.inventory_df.loc[mat])):\n",
        "          return (\"No enough\" + mat)\n",
        "        stockhouse.remove(mat, number*amount, just_total = False)\n",
        "    ##################################### when u get here , everything is OK\n",
        "    player_obj.cash -= cost\n",
        "    print(\"yesss\")\n",
        "    stockhouse.add(product_name, amount)\n",
        "    \n",
        "      \n",
        "\n",
        "\n",
        "  def put_into_market(player_name, product_name, amount, price):# it doesn't get stockhouse_id or etc. until we have more than one stockhouse\n",
        "    player_obj = Controller.player_objects[player_name]\n",
        "    product_on_vitrin_id = random.choice([i for i in range(100) if not(i in Market.vitrin.index)])   # a random unique id , that will assign to vitrin objects\n",
        "    stockhouse_obj = list(player_obj.land_objects.values())[0].stockhouse\n",
        "    \n",
        "\n",
        "    #check the inventory\n",
        "    if not (product_name in stockhouse_obj.inventory_df.index):\n",
        "      return (\"Doesn't Exist\")\n",
        "\n",
        "    if stockhouse_obj.inventory_df.loc[product_name, \"inhand_inventory\"] < amount : \n",
        "      return (\"No Enough Inventory\")\n",
        "    \n",
        "    existing_row = Market.vitrin[np.logical_and(np.logical_and(Market.vitrin.product_name == product_name, Market.vitrin.amount== amoun), Market.vitrin.seller_obj == player_obj)]\n",
        "    if len(existing_row) != 0:\n",
        "      # add to existing row IF player_name, product_name and price are equal \n",
        "      Market.vitrin.loc[existing_row.index, \"amount\"] += amount\n",
        "    else : \n",
        "      Market.vitrin.loc[product_on_vitrin_id] = [player_obj, product_name, amount, price]\n",
        "      stockhouse_obj.inventory_df.loc[product_name, \"inhand_inventory\"] -= amount\n",
        "    return (\"Done :)\")\n",
        "    \n",
        "  \n",
        "  def upgrade_stockhouse(player_name, land_id):\n",
        "    pass\n",
        "\n",
        "  def show_product_market_info():\n",
        "    vitrin = Market.vitrin.copy()\n",
        "    vitrin[\"seller_name\"] = [obj.name for obj in vitrin.seller_obj]\n",
        "    vitrin[\"id\"] = vitrin.index\n",
        "    vitrin = vitrin[[\"id\", \"product_name\" , \"amount\", \"price\", \"seller_name\"]]\n",
        "    return vitrin\n",
        "\n",
        "  def buy_product(player_name, product_on_vitrin_id, amount): # آیدی محصول داخل ویترین رو میده که بریم از روی دیکشنری توی مارکت آبجکتش رو پیدا کنیم و انتقال رو انجام بدیم \n",
        "    buyer_player = Controller.player_objects[player_name]\n",
        "    buyer_stockhouse = list(buyer_player.land_objects.values())[0].stockhouse\n",
        "    product_on_vitrin_obj = Market.vitrin.loc[product_on_vitrin_id]\n",
        "    seller_player = product_on_vitrin_obj.seller_obj\n",
        "    \n",
        "    if amount > buyer_stockhouse.remaining_cap:\n",
        "      return (\"No Enough Space\")\n",
        "    elif buyer_player.cash < product_on_vitrin_obj.price * amount :\n",
        "      return (\"No Enough Cash\")\n",
        "    elif amount > product_on_vitrin_obj.amount :\n",
        "      return (\"No Enough Product In Vitrin\")\n",
        "    else:\n",
        "      buyer_player.cash -= amount * product_on_vitrin_obj.price #update cash\n",
        "      buyer_stockhouse.add(product_on_vitrin_obj.product_name, amount) #updata buuyer inventory\n",
        "\n",
        "\n",
        "      #update seller inventory :\n",
        "      seller_stockhouse = list(seller_player.land_objects.values())[0].stockhouse\n",
        "      seller_stockhouse.remove(product_on_vitrin_obj.product_name, amount)\n",
        "      seller_player.cash += amount * product_on_vitrin_obj.price # add cash to seller player\n",
        "\n",
        "\n",
        "      #update vitrin\n",
        "      product_on_vitrin_obj.amount -= amount\n",
        "      if product_on_vitrin_obj.amount == 0 : #### deleting vitrin row ir amount == 0 \n",
        "        Market.vitrin.drop(product_on_vitrin_id)\n",
        "        \n",
        "\n",
        "      return (\"Done :)\")\n",
        "    \n",
        "   "
      ],
      "execution_count": 29,
      "outputs": []
    },
    {
      "cell_type": "code",
      "metadata": {
        "id": "UAVI6tfGyhrI",
        "colab_type": "code",
        "colab": {}
      },
      "source": [
        "class Player():\n",
        "  players_name=[]\n",
        "\n",
        "  def __init__(self, player_name):\n",
        "    self.name = player_name\n",
        "    #remove from available\n",
        "    self.cash = 1000000 # بودجه اولیه\n",
        "    self.land_objects=dict()\n",
        "\n",
        "  def calculate_final_net_worth(self):\n",
        "    inventory_value_list = []\n",
        "    for land in list(self.land_objects.keys()):\n",
        "      inventory_value_list.append(self.land_objects[land].calculate_inventory_value()) # تو هر خونه این لیست ، ارزش دارایی های یک زمین از زمین های بازیکن ثبت میشه\n",
        "    inventory_value_sum = sum(inventory_value_list)\n",
        "    net_worth = inventory_value_sum + self.cash \n",
        "    return net_worth \n",
        "\n",
        "  def add_land(self, land_id):\n",
        "    self.land_objects.update({land_id : Land(land_id)}) # یه اینستنس از لند میسازه که ورودی بهش آیدی میدیم . بعد توی خود لند ، بر حسب آیدی بقیه فیچر های لند رو ست میکنیم\n",
        "    \n",
        "\n",
        "  def add_machine(self, land_id, machine_id):\n",
        "    self.land_objects[land_id].add_machine(machine_id)\n",
        "\n",
        "\n",
        "\n",
        "\n",
        "\n"
      ],
      "execution_count": 4,
      "outputs": []
    },
    {
      "cell_type": "code",
      "metadata": {
        "id": "u9sOTqeIcQw0",
        "colab_type": "code",
        "colab": {}
      },
      "source": [
        "class Gamein_Bazaar():\n",
        "  def put_into_market():\n",
        "    pass"
      ],
      "execution_count": 5,
      "outputs": []
    },
    {
      "cell_type": "code",
      "metadata": {
        "id": "nxzbUOx-4vyl",
        "colab_type": "code",
        "colab": {}
      },
      "source": [
        "class Land():\n",
        "  lands_list = [30001,30002,30003,30004,30005,30006,30007,30008,\n",
        "                30009,300010,300011,300012,300013,300014,300015] #amirreza یه دیتا فریم که یه آی دی زمین داره و ماشین\n",
        "  available_lands= lands_list#آی دی های باقی مانده\n",
        "  \n",
        "  def __init__(self, land_id):\n",
        "    \n",
        "    self.cap = Parameters.land_stockhouse\n",
        "    self.machine_objects = dict()\n",
        "    self.land_id = land_id\n",
        "    self.stockhouse = StockHouse(cap)# اینجا دیگه دیکشنری نیست چون فرض بر اینه که یه دونه انبار بیشتر نداریم \n",
        "\n",
        "\n",
        "    # self.stockhouse = StockHouse()\n",
        "  def add_machine(self, machine_id):\n",
        "    self.machine_objects.update({machine_id: Machine(machine_id)})\n",
        "\n",
        "    \n",
        "\n",
        "\n",
        "  "
      ],
      "execution_count": 6,
      "outputs": []
    },
    {
      "cell_type": "code",
      "metadata": {
        "id": "zBJoGtsnKT5a",
        "colab_type": "code",
        "colab": {}
      },
      "source": [
        "\n",
        "class StockHouse():\n",
        "  def __init__(self, cap):\n",
        "    self.total_cap = cap\n",
        "    self.remaining_cap = self.total_cap\n",
        "    self.inventory_df = pd.DataFrame([], columns= [\"total_inventory\", \"inhand_inventory\"]) # indexes = product names \n",
        "    self.cost_per_product = 100\n",
        "  def add(self, product_name, amount):\n",
        "    if self.remaining_cap <= amount : \n",
        "      return (\"No Enough Space\")\n",
        "    else :\n",
        "      if product_name in self.inventory_df.index:\n",
        "        self.inventory_df.loc[product_name, [\"total_inventory\", \"inhand_inventory\"]] += amount\n",
        "      else:\n",
        "        self.inventory_df.loc[product_name, [\"total_inventory\", \"inhand_inventory\"]] = amount \n",
        "      self.remaining_cap = self.total_cap - self.inventory_df.total_inventory.sum()\n",
        "      return (True)\n",
        "  def remove(self, product_name, amount, just_total=True):\n",
        "    volume = amount * _ # _ From Csv  \n",
        "    self.inventory_df.loc[product_name, [\"total_inventory\"]] -= amount \n",
        "    self.remaining_cap += volumne \n",
        "    if not just_total : \n",
        "      self.inventory_df.loc[product_name, [\"inhand_inventory\"]] -= amount\n",
        "\n",
        "\n",
        "    \n",
        "\n",
        "\n",
        "\n",
        "  "
      ],
      "execution_count": 7,
      "outputs": []
    },
    {
      "cell_type": "code",
      "metadata": {
        "id": "CH8jlR1tKG81",
        "colab_type": "code",
        "colab": {}
      },
      "source": [
        "class Machine():\n",
        "\n",
        "\n",
        "  def __init__(self,machine_id):\n",
        "    self.product_name = _\n",
        "    # self.price = _ \n",
        "    self.enabled = True\n",
        "    self.production_cost_per_unit = _\n",
        "    self.fixed_production_cost = _\n",
        "    self.working = 0\n",
        "    self.remaining_production = _\n",
        "    \n",
        "  def start_production(self):\n",
        "    pass\n",
        "  def stop_production(self):\n",
        "    pass\n",
        "  \n",
        "\n",
        "  "
      ],
      "execution_count": 24,
      "outputs": []
    },
    {
      "cell_type": "code",
      "metadata": {
        "id": "MNC0GPxJSQaL",
        "colab_type": "code",
        "colab": {
          "base_uri": "https://localhost:8080/",
          "height": 202
        },
        "outputId": "56d18a8f-3f74-443e-a592-c3d50761cb70"
      },
      "source": [
        "pd.read_excel(\"/content/drive/My Drive/gamein_prototype/parameters.xlsx\",sheet_name=\"bom\", header=0,index_col=0)"
      ],
      "execution_count": 21,
      "outputs": [
        {
          "output_type": "execute_result",
          "data": {
            "text/html": [
              "<div>\n",
              "<style scoped>\n",
              "    .dataframe tbody tr th:only-of-type {\n",
              "        vertical-align: middle;\n",
              "    }\n",
              "\n",
              "    .dataframe tbody tr th {\n",
              "        vertical-align: top;\n",
              "    }\n",
              "\n",
              "    .dataframe thead th {\n",
              "        text-align: right;\n",
              "    }\n",
              "</style>\n",
              "<table border=\"1\" class=\"dataframe\">\n",
              "  <thead>\n",
              "    <tr style=\"text-align: right;\">\n",
              "      <th></th>\n",
              "      <th>الوار</th>\n",
              "      <th>چوب</th>\n",
              "      <th>نخ</th>\n",
              "      <th>پارچه</th>\n",
              "      <th>رنگ</th>\n",
              "      <th>آهن</th>\n",
              "      <th>میخ</th>\n",
              "    </tr>\n",
              "  </thead>\n",
              "  <tbody>\n",
              "    <tr>\n",
              "      <th>چوب</th>\n",
              "      <td>1</td>\n",
              "      <td>0</td>\n",
              "      <td>0</td>\n",
              "      <td>0</td>\n",
              "      <td>0</td>\n",
              "      <td>0</td>\n",
              "      <td>0</td>\n",
              "    </tr>\n",
              "    <tr>\n",
              "      <th>پارچه</th>\n",
              "      <td>0</td>\n",
              "      <td>0</td>\n",
              "      <td>500</td>\n",
              "      <td>0</td>\n",
              "      <td>0</td>\n",
              "      <td>0</td>\n",
              "      <td>0</td>\n",
              "    </tr>\n",
              "    <tr>\n",
              "      <th>میخ</th>\n",
              "      <td>0</td>\n",
              "      <td>0</td>\n",
              "      <td>0</td>\n",
              "      <td>0</td>\n",
              "      <td>0</td>\n",
              "      <td>20</td>\n",
              "      <td>0</td>\n",
              "    </tr>\n",
              "    <tr>\n",
              "      <th>کمد</th>\n",
              "      <td>0</td>\n",
              "      <td>2</td>\n",
              "      <td>0</td>\n",
              "      <td>0</td>\n",
              "      <td>2</td>\n",
              "      <td>0</td>\n",
              "      <td>50</td>\n",
              "    </tr>\n",
              "    <tr>\n",
              "      <th>صندلی</th>\n",
              "      <td>0</td>\n",
              "      <td>1</td>\n",
              "      <td>0</td>\n",
              "      <td>1</td>\n",
              "      <td>1</td>\n",
              "      <td>0</td>\n",
              "      <td>0</td>\n",
              "    </tr>\n",
              "  </tbody>\n",
              "</table>\n",
              "</div>"
            ],
            "text/plain": [
              "       الوار  چوب   نخ  پارچه  رنگ  آهن  میخ\n",
              "چوب        1    0    0      0    0    0    0\n",
              "پارچه      0    0  500      0    0    0    0\n",
              "میخ        0    0    0      0    0   20    0\n",
              "کمد        0    2    0      0    2    0   50\n",
              "صندلی      0    1    0      1    1    0    0"
            ]
          },
          "metadata": {
            "tags": []
          },
          "execution_count": 21
        }
      ]
    },
    {
      "cell_type": "code",
      "metadata": {
        "id": "d9StvdmzJvpc",
        "colab_type": "code",
        "colab": {}
      },
      "source": [
        "class Product():\n",
        "\n",
        "  products_bom = pd.read_excel(\"/content/drive/My Drive/gamein_prototype/parameters.xlsx\",sheet_name=\"bom\", header=0,index_col=0)\n",
        "  products_space = _\n",
        "  \n",
        "  def __init__(self):\n",
        "\n",
        "    self.material_needed = 10\n",
        "    self.lower_band = 1\n",
        "    self.upper_band = 20\n",
        "\n",
        "    \n",
        "  "
      ],
      "execution_count": 10,
      "outputs": []
    },
    {
      "cell_type": "code",
      "metadata": {
        "id": "um3-F2-h7iag",
        "colab_type": "code",
        "colab": {
          "base_uri": "https://localhost:8080/",
          "height": 202
        },
        "outputId": "7c5a83e9-57c4-4b9c-81c5-6d2e099cf590"
      },
      "source": [
        "Product.products_df"
      ],
      "execution_count": 11,
      "outputs": [
        {
          "output_type": "execute_result",
          "data": {
            "text/html": [
              "<div>\n",
              "<style scoped>\n",
              "    .dataframe tbody tr th:only-of-type {\n",
              "        vertical-align: middle;\n",
              "    }\n",
              "\n",
              "    .dataframe tbody tr th {\n",
              "        vertical-align: top;\n",
              "    }\n",
              "\n",
              "    .dataframe thead th {\n",
              "        text-align: right;\n",
              "    }\n",
              "</style>\n",
              "<table border=\"1\" class=\"dataframe\">\n",
              "  <thead>\n",
              "    <tr style=\"text-align: right;\">\n",
              "      <th></th>\n",
              "      <th>production_cost</th>\n",
              "      <th>lower_band</th>\n",
              "      <th>upper_band</th>\n",
              "      <th>الوار</th>\n",
              "      <th>چوب</th>\n",
              "      <th>نخ</th>\n",
              "      <th>پارچه</th>\n",
              "      <th>رنگ</th>\n",
              "      <th>آهن</th>\n",
              "      <th>میخ</th>\n",
              "    </tr>\n",
              "  </thead>\n",
              "  <tbody>\n",
              "    <tr>\n",
              "      <th>چوب</th>\n",
              "      <td>NaN</td>\n",
              "      <td>NaN</td>\n",
              "      <td>NaN</td>\n",
              "      <td>NaN</td>\n",
              "      <td>NaN</td>\n",
              "      <td>NaN</td>\n",
              "      <td>NaN</td>\n",
              "      <td>NaN</td>\n",
              "      <td>NaN</td>\n",
              "      <td>NaN</td>\n",
              "    </tr>\n",
              "    <tr>\n",
              "      <th>پارچه</th>\n",
              "      <td>NaN</td>\n",
              "      <td>NaN</td>\n",
              "      <td>NaN</td>\n",
              "      <td>NaN</td>\n",
              "      <td>NaN</td>\n",
              "      <td>NaN</td>\n",
              "      <td>NaN</td>\n",
              "      <td>NaN</td>\n",
              "      <td>NaN</td>\n",
              "      <td>NaN</td>\n",
              "    </tr>\n",
              "    <tr>\n",
              "      <th>میخ</th>\n",
              "      <td>NaN</td>\n",
              "      <td>NaN</td>\n",
              "      <td>NaN</td>\n",
              "      <td>NaN</td>\n",
              "      <td>NaN</td>\n",
              "      <td>NaN</td>\n",
              "      <td>NaN</td>\n",
              "      <td>NaN</td>\n",
              "      <td>NaN</td>\n",
              "      <td>NaN</td>\n",
              "    </tr>\n",
              "    <tr>\n",
              "      <th>کمد</th>\n",
              "      <td>NaN</td>\n",
              "      <td>NaN</td>\n",
              "      <td>NaN</td>\n",
              "      <td>NaN</td>\n",
              "      <td>NaN</td>\n",
              "      <td>NaN</td>\n",
              "      <td>NaN</td>\n",
              "      <td>NaN</td>\n",
              "      <td>NaN</td>\n",
              "      <td>NaN</td>\n",
              "    </tr>\n",
              "    <tr>\n",
              "      <th>صندلی</th>\n",
              "      <td>NaN</td>\n",
              "      <td>NaN</td>\n",
              "      <td>NaN</td>\n",
              "      <td>NaN</td>\n",
              "      <td>NaN</td>\n",
              "      <td>NaN</td>\n",
              "      <td>NaN</td>\n",
              "      <td>NaN</td>\n",
              "      <td>NaN</td>\n",
              "      <td>NaN</td>\n",
              "    </tr>\n",
              "  </tbody>\n",
              "</table>\n",
              "</div>"
            ],
            "text/plain": [
              "      production_cost lower_band upper_band الوار  ... پارچه  رنگ  آهن  میخ\n",
              "چوب               NaN        NaN        NaN   NaN  ...   NaN  NaN  NaN  NaN\n",
              "پارچه             NaN        NaN        NaN   NaN  ...   NaN  NaN  NaN  NaN\n",
              "میخ               NaN        NaN        NaN   NaN  ...   NaN  NaN  NaN  NaN\n",
              "کمد               NaN        NaN        NaN   NaN  ...   NaN  NaN  NaN  NaN\n",
              "صندلی             NaN        NaN        NaN   NaN  ...   NaN  NaN  NaN  NaN\n",
              "\n",
              "[5 rows x 10 columns]"
            ]
          },
          "metadata": {
            "tags": []
          },
          "execution_count": 11
        }
      ]
    },
    {
      "cell_type": "code",
      "metadata": {
        "id": "sY19sQdGuXWa",
        "colab_type": "code",
        "colab": {}
      },
      "source": [
        "class Material():\n",
        "  Prices = _ #dict (id , price)"
      ],
      "execution_count": 12,
      "outputs": []
    },
    {
      "cell_type": "code",
      "metadata": {
        "id": "QL16AIzCutHl",
        "colab_type": "code",
        "colab": {}
      },
      "source": [
        "class Market():\n",
        "  vitrin = pd.DataFrame([], columns=[\"seller_obj\",\"product_name\", \"amount\", \"price\"])\n"
      ],
      "execution_count": 13,
      "outputs": []
    },
    {
      "cell_type": "code",
      "metadata": {
        "id": "gfeack45vKsM",
        "colab_type": "code",
        "colab": {}
      },
      "source": [
        "#####################################################\n",
        "#################################################### DELETED\n",
        "\n",
        "\n",
        "class ProductOnVitrin():\n",
        "  def __init__(self, ):\n",
        "    self.seller_obj = player_obj\n",
        "    self.stockhouse_obj = stockhouse_obj\n",
        "    self.product_obj = product_obj\n",
        "    self.amount = amount\n",
        "    self.price = price"
      ],
      "execution_count": 14,
      "outputs": []
    },
    {
      "cell_type": "code",
      "metadata": {
        "id": "sUpar6s064YH",
        "colab_type": "code",
        "colab": {}
      },
      "source": [
        "class Parameters():\n",
        "  ###################### reading all the dataframes from google drive ...... to call them faster and easier \n",
        "\n",
        "  land_stockhouse_df = pd.read_excel(\"/content/drive/My Drive/gamein_prototype/parameters.xlsx\",sheet_name=\"land_stockhouse\", header=0,index_col=0)\n",
        "  land_machine_df = pd.read_excel(\"/content/drive/My Drive/gamein_prototype/parameters.xlsx\",sheet_name=\"land_machine\", header=0,index_col=0)\n",
        "  machines_info_df = pd.read_excel(\"/content/drive/My Drive/gamein_prototype/parameters.xlsx\",sheet_name=\"machines_info\", header=0,index_col=0)\n",
        "  bom_df = pd.read_excel(\"/content/drive/My Drive/gamein_prototype/parameters.xlsx\",sheet_name=\"bom\", header=0,index_col=0)"
      ],
      "execution_count": 31,
      "outputs": []
    }
  ]
}