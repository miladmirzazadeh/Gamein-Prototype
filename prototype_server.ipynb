{
  "nbformat": 4,
  "nbformat_minor": 0,
  "metadata": {
    "colab": {
      "name": "prototype_server.ipynb",
      "provenance": [],
      "collapsed_sections": [],
      "authorship_tag": "ABX9TyNDnxkaVgTs5joYtXtk0BtS",
      "include_colab_link": true
    },
    "kernelspec": {
      "name": "python3",
      "display_name": "Python 3"
    }
  },
  "cells": [
    {
      "cell_type": "markdown",
      "metadata": {
        "id": "view-in-github",
        "colab_type": "text"
      },
      "source": [
        "<a href=\"https://colab.research.google.com/github/miladmirzazadeh/Gamein-Prototype/blob/master/prototype_server.ipynb\" target=\"_parent\"><img src=\"https://colab.research.google.com/assets/colab-badge.svg\" alt=\"Open In Colab\"/></a>"
      ]
    },
    {
      "cell_type": "markdown",
      "metadata": {
        "id": "6O0_cMEK_2sl",
        "colab_type": "text"
      },
      "source": [
        "TESTING CODES"
      ]
    },
    {
      "cell_type": "code",
      "metadata": {
        "id": "BmiNJrIACF4B",
        "colab_type": "code",
        "colab": {}
      },
      "source": [
        "Controller.create_player(\"raman\")"
      ],
      "execution_count": 59,
      "outputs": []
    },
    {
      "cell_type": "code",
      "metadata": {
        "id": "me_jifSwDnZZ",
        "colab_type": "code",
        "colab": {}
      },
      "source": [
        "Controller.create_player(\"milad\") \n"
      ],
      "execution_count": 57,
      "outputs": []
    },
    {
      "cell_type": "code",
      "metadata": {
        "id": "PdfIZdxoA1RY",
        "colab_type": "code",
        "colab": {}
      },
      "source": [
        "Controller.put_into_market(\"milad\", \"product1\", 1000, 200)"
      ],
      "execution_count": 61,
      "outputs": []
    },
    {
      "cell_type": "code",
      "metadata": {
        "id": "bql681huB807",
        "colab_type": "code",
        "colab": {
          "base_uri": "https://localhost:8080/",
          "height": 52
        },
        "outputId": "03e1d7a8-8654-41f1-e9a0-6776afcd35ca"
      },
      "source": [
        "Controller.player_objects"
      ],
      "execution_count": 62,
      "outputs": [
        {
          "output_type": "execute_result",
          "data": {
            "text/plain": [
              "{'milad': <__main__.Player at 0x7f08eb66f0b8>,\n",
              " 'raman': <__main__.Player at 0x7f08eb66f518>}"
            ]
          },
          "metadata": {
            "tags": []
          },
          "execution_count": 62
        }
      ]
    },
    {
      "cell_type": "code",
      "metadata": {
        "id": "oW4mKzTwBZCC",
        "colab_type": "code",
        "colab": {
          "base_uri": "https://localhost:8080/",
          "height": 167
        },
        "outputId": "a6f57e8f-866d-4310-b154-736e5844c8b7"
      },
      "source": [
        "Market.product_on_vitrin_objects[310].player_obj.name"
      ],
      "execution_count": 71,
      "outputs": [
        {
          "output_type": "error",
          "ename": "AttributeError",
          "evalue": "ignored",
          "traceback": [
            "\u001b[0;31m---------------------------------------------------------------------------\u001b[0m",
            "\u001b[0;31mAttributeError\u001b[0m                            Traceback (most recent call last)",
            "\u001b[0;32m<ipython-input-71-346e7599f4c7>\u001b[0m in \u001b[0;36m<module>\u001b[0;34m()\u001b[0m\n\u001b[0;32m----> 1\u001b[0;31m \u001b[0mMarket\u001b[0m\u001b[0;34m.\u001b[0m\u001b[0mproduct_on_vitrin_objects\u001b[0m\u001b[0;34m[\u001b[0m\u001b[0;36m310\u001b[0m\u001b[0;34m]\u001b[0m\u001b[0;34m.\u001b[0m\u001b[0mplayer_obj\u001b[0m\u001b[0;34m.\u001b[0m\u001b[0mname\u001b[0m\u001b[0;34m\u001b[0m\u001b[0;34m\u001b[0m\u001b[0m\n\u001b[0m",
            "\u001b[0;31mAttributeError\u001b[0m: 'ProductOnVitrin' object has no attribute 'player_obj'"
          ]
        }
      ]
    },
    {
      "cell_type": "code",
      "metadata": {
        "id": "6dFShs6CBmCO",
        "colab_type": "code",
        "colab": {
          "base_uri": "https://localhost:8080/",
          "height": 34
        },
        "outputId": "fb0c76f3-6ea1-444c-9baf-50231af30750"
      },
      "source": [
        "list(Controller.player_objects[\"milad\"].land_objects.values())[0]. machine_objects"
      ],
      "execution_count": null,
      "outputs": [
        {
          "output_type": "execute_result",
          "data": {
            "text/plain": [
              "{2: <__main__.Machine at 0x7f7741c37898>}"
            ]
          },
          "metadata": {
            "tags": []
          },
          "execution_count": 123
        }
      ]
    },
    {
      "cell_type": "code",
      "metadata": {
        "id": "3xhn_PzZV_qe",
        "colab_type": "code",
        "colab": {}
      },
      "source": [
        "Controller.create_player(\"hasan\")"
      ],
      "execution_count": null,
      "outputs": []
    },
    {
      "cell_type": "code",
      "metadata": {
        "id": "v7_gJp5UPpPz",
        "colab_type": "code",
        "colab": {
          "base_uri": "https://localhost:8080/",
          "height": 52
        },
        "outputId": "a75d8c59-3eb6-4b32-ca6b-410b6174e7f1"
      },
      "source": [
        "Controller.player_objects[\"hasan\"].land_objects \n",
        "for i in Controller.player_objects.keys():\n",
        "  for land in Controller.player_objects[i].land_objects.values():\n",
        "    print(i,land, land.machine_objects.keys())"
      ],
      "execution_count": null,
      "outputs": [
        {
          "output_type": "stream",
          "text": [
            "milad <__main__.Land object at 0x7f7741c377b8> dict_keys([2])\n",
            "hasan <__main__.Land object at 0x7f7741c37160> dict_keys([2])\n"
          ],
          "name": "stdout"
        }
      ]
    },
    {
      "cell_type": "markdown",
      "metadata": {
        "id": "8p_X096sDtL4",
        "colab_type": "text"
      },
      "source": [
        "END   TESTING CODES\n",
        "\n",
        "\n",
        "\n"
      ]
    },
    {
      "cell_type": "code",
      "metadata": {
        "id": "_S-Zr1wfFzYX",
        "colab_type": "code",
        "colab": {}
      },
      "source": [
        "import numpy as np \n",
        "import pandas as pd \n",
        "import random"
      ],
      "execution_count": 2,
      "outputs": []
    },
    {
      "cell_type": "code",
      "metadata": {
        "id": "iFY3HwF4wsW5",
        "colab_type": "code",
        "colab": {}
      },
      "source": [
        "class Controller():\n",
        "  return_message=\"\"\n",
        "  turn = 0 \n",
        "  last_turn = 50\n",
        "  player_objects = dict()#name,object\n",
        "\n",
        "  def next_turn():\n",
        "    turn+=1\n",
        "    if turn == Controller.last_turn : \n",
        "      score_board = Controller.score_board()\n",
        "      Controller.return_message = \"End Game. Thank u \" + score_board\n",
        "\n",
        "  \n",
        "  def score_board():\n",
        "    net_worths = pd.Series([])\n",
        "    for player in list(player_objects.keys()):\n",
        "      obj = player_objects[player]\n",
        "      obj.calculate_final_net_worth()\n",
        "      net_worths[player] = obj \n",
        "    net_worths = net_worths.sort(ascending=False)\n",
        "    return net_worths\n",
        "\n",
        "\n",
        "\n",
        "\n",
        "\n",
        "  # def get_status(player_name):\n",
        "    # for land in player_objecs[player_name].\n",
        "\n",
        "  def create_player(player_name):\n",
        "    land_id = random.choice(Land.available_lands) #random از بین لیست زمین های در دسترس\n",
        "    Land.available_lands.remove(land_id)   #remove from available lands\n",
        "    machine_id =  2 # از دیتافریم زمین و ماشین خوانده میشود\n",
        "    Controller.player_objects.update({player_name : Player(player_name)})\n",
        "    Controller.buy_land(player_name, land_id)\n",
        "    Controller.buy_machine(player_name, land_id, machine_id)\n",
        "    \n",
        "  def buy_land(player_name, land_id):\n",
        "    Controller.player_objects[player_name].add_land(land_id)\n",
        "    # Controller.player_objects[name].cash -=         اینجا باید پول زمین رو از حسابش کم کنیم . فعلا لازم نیست  چون خودمون بهش زمین رو اختصاص میدیم \n",
        "\n",
        "  def buy_machine(player_name, land_id, machine_id):\n",
        "    Controller.player_objects[player_name].add_machine(land_id, machine_id)\n",
        "    \n",
        "  def put_into_market(player_name, product, amount, price):# it doesn't get stockhouse_id or etc. until we have more than one stockhouse\n",
        "    product_on_vitrin_id = random.choice([i for i in range(1000) if not(i in list(Market.product_on_vitrin_objects.keys()))])   # a random unique id , that will assign to vitrin objects\n",
        "    player_obj = Controller.player_objects[player_name]\n",
        "    stockhouse_obj = list(player_obj.land_objects.values())[0]\n",
        "    product_obj = _\n",
        "    #check the inventory\n",
        "    \n",
        "    Market.product_on_vitrin_objects.update({product_on_vitrin_id : ProductOnVitrin(player_obj, stockhouse_obj, product_obj, amount, price)})\n",
        "    \n",
        "  \n",
        "  def upgrade_stockhouse(player_name, land_id):\n",
        "    pass\n",
        "\n",
        "  def show_product_market_info():\n",
        "    return Market.products_on_vitrin\n",
        "\n",
        "  def buy_product(player_name, product_on_vitrin_id, amount): # آیدی محصول داخل ویترین رو میده که بریم از روی دیکشنری توی مارکت آبجکتش رو پیدا کنیم و انتقال رو انجام بدیم \n",
        "    player_obj = Controller.player_objects[player_name]\n",
        "    stockhouse = list(player_obj.land_objects.values())[0].stockhouse\n",
        "    product_on_vitrin_obj = Market.product_on_vitrin_objects[product_on_vitrin_id]\n",
        "    seller_player = product_on_vitrin_obj.seller_obj\n",
        "    if amount > stockhouser.remaining_cap:\n",
        "      return (\"No Enough Space\")\n",
        "    elif player_obj.cash < product_on_vitrin_obj.price * amount :\n",
        "      return (\"No Enough Cash\")\n",
        "    elif amount > product_obj.amount :\n",
        "      return (\"No Enough Product In Vitrin\")\n",
        "    elif:\n",
        "      stockhouse.add(_, amount) #add to inventory  # هنوز معلوم نیست چجوری قراره پروداکت رو شناسایی کنیم . بی هویته \n",
        "      player_obj.cash -= amount * product_on_vitrin_obj.price #update cash\n",
        "      seller_stockhouse = list(seller_player.land_objects.values())[0].stockhouse\n",
        "      seller_player.cash += amount*price\n",
        "      seller_stockhouse.remove(product_id, amount) # removing selled products from origin stockhouse\n",
        "      product_on_vitrin_obj.player_obj.cash += amount * product_on_vitrin_obj.price # add cash to seller player\n",
        "      return(\"Done :)\")\n",
        "    \n",
        "   "
      ],
      "execution_count": 49,
      "outputs": []
    },
    {
      "cell_type": "code",
      "metadata": {
        "id": "UAVI6tfGyhrI",
        "colab_type": "code",
        "colab": {}
      },
      "source": [
        "class Player():\n",
        "  players_name=[]\n",
        "\n",
        "  def __init__(self, player_name):\n",
        "    self.name = player_name\n",
        "    #remove from available\n",
        "    self.cash = 1000000 # بودجه اولیه\n",
        "    self.land_objects=dict()\n",
        "\n",
        "  def calculate_final_net_worth(self):\n",
        "    inventory_value_list = []\n",
        "    for land in list(self.land_objects.keys()):\n",
        "      inventory_value_list.append(self.land_objects[land].calculate_inventory_value()) # تو هر خونه این لیست ، ارزش دارایی های یک زمین از زمین های بازیکن ثبت میشه\n",
        "    inventory_value_sum = sum(inventory_value_list)\n",
        "    net_worth = inventory_value_sum + self.cash \n",
        "    return net_worth \n",
        "\n",
        "  def add_land(self, land_id):\n",
        "    self.land_objects.update({land_id : Land(land_id)}) # یه اینستنس از لند میسازه که ورودی بهش آیدی میدیم . بعد توی خود لند ، بر حسب آیدی بقیه فیچر های لند رو ست میکنیم\n",
        "    \n",
        "\n",
        "  def add_machine(self, land_id, machine_id):\n",
        "    self.land_objects[land_id].add_machine(machine_id)\n",
        "\n",
        "\n",
        "\n",
        "\n",
        "\n"
      ],
      "execution_count": 4,
      "outputs": []
    },
    {
      "cell_type": "code",
      "metadata": {
        "id": "u9sOTqeIcQw0",
        "colab_type": "code",
        "colab": {}
      },
      "source": [
        "class Gamein_Bazaar():\n",
        "\n",
        "  def put_into_market():\n",
        "    pass"
      ],
      "execution_count": 7,
      "outputs": []
    },
    {
      "cell_type": "code",
      "metadata": {
        "id": "nxzbUOx-4vyl",
        "colab_type": "code",
        "colab": {}
      },
      "source": [
        "class Land():\n",
        "  lands_list =[] #amirreza یه دیتا فریم که یه آی دی زمین داره و ماشین\n",
        "  available_lands=[1,2,3,4,5,6] #آی دی های باقی مانده\n",
        "  \n",
        "  def __init__(self, land_id):\n",
        "    self.machine_objects = dict()\n",
        "    self.land_id = land_id\n",
        "    self.stockhouse = StockHouse()# اینجا دیگه دیکشنری نیست چون فرض بر اینه که یه دونه انبار بیشتر نداریم \n",
        "\n",
        "\n",
        "    # self.stockhouse = StockHouse()\n",
        "  def add_machine(self, machine_id):\n",
        "    self.machine_objects.update({machine_id: Machine(machine_id)})\n",
        "\n",
        "    \n",
        "\n",
        "\n",
        "  "
      ],
      "execution_count": 8,
      "outputs": []
    },
    {
      "cell_type": "code",
      "metadata": {
        "id": "zBJoGtsnKT5a",
        "colab_type": "code",
        "colab": {}
      },
      "source": [
        "class StockHouse():\n",
        "  def __init__(self):\n",
        "    self.remaining_cap = 3000\n",
        "    self.inventory_df = pd.DataFrame([], columns= [\"product_obj\", \"all_inventory\"و \"inhand_inventory\"])\n",
        "    self.cost_per_product = 100\n",
        "  def add(self, product_name, amount):\n",
        "    \n",
        "    self.remaining_cap -= amount\n",
        "    self.\n",
        "  def remove(self, product_name, amount):\n",
        "    if \n",
        "\n",
        "\n",
        "  "
      ],
      "execution_count": 9,
      "outputs": []
    },
    {
      "cell_type": "code",
      "metadata": {
        "id": "4od28VxTKTuq",
        "colab_type": "code",
        "colab": {
          "base_uri": "https://localhost:8080/",
          "height": 34
        },
        "outputId": "7f6cdfe8-6988-4b86-84d2-1cc22b3d2691"
      },
      "source": [
        ""
      ],
      "execution_count": 72,
      "outputs": [
        {
          "output_type": "stream",
          "text": [
            "hi\n"
          ],
          "name": "stdout"
        }
      ]
    },
    {
      "cell_type": "code",
      "metadata": {
        "id": "CH8jlR1tKG81",
        "colab_type": "code",
        "colab": {}
      },
      "source": [
        "class Machine():\n",
        "  machines_list = _\n",
        "\n",
        "  def __init__(self,machine_id):\n",
        "    self.production_id = _\n",
        "    self.price = _ \n",
        "    self.enabled = True\n",
        "    self.cost_per_production = _\n",
        "    self.working = 0\n",
        "    self.remaining_production = _\n",
        "    \n",
        "  def start_production(self):\n",
        "    pass\n",
        "  def stop_production(self):\n",
        "    pass\n",
        "  \n",
        "\n",
        "  "
      ],
      "execution_count": 10,
      "outputs": []
    },
    {
      "cell_type": "code",
      "metadata": {
        "id": "d9StvdmzJvpc",
        "colab_type": "code",
        "colab": {}
      },
      "source": [
        "class Product():\n",
        "  def __init__(self):\n",
        "    self.material_needed = _\n",
        "    self.lower_band = _\n",
        "    self.upper_band = _\n",
        "\n",
        "    \n",
        "  "
      ],
      "execution_count": 11,
      "outputs": []
    },
    {
      "cell_type": "code",
      "metadata": {
        "id": "sY19sQdGuXWa",
        "colab_type": "code",
        "colab": {}
      },
      "source": [
        "class Material():\n",
        "  Prices = _ #dict (id , price)"
      ],
      "execution_count": 12,
      "outputs": []
    },
    {
      "cell_type": "code",
      "metadata": {
        "id": "QL16AIzCutHl",
        "colab_type": "code",
        "colab": {}
      },
      "source": [
        "class Market():\n",
        "  product_on_vitrin_objects = dict({\"hi\":\"buy\"})\n",
        "  \n",
        "  products_on_vitrin = pd.DataFrame([], columns=[\"Supplier\", \"Product\", \"Amount\", \"Price\", \"Storehouse_object\"])\n",
        "def add_to_market(player_obj, stockhouse_obj, product_obj, amount, price):\n",
        "  product_on_vitrin_objects.update({product_on_vitrin_id : ProductOnVitrin(player_obj, stockhouse_obj, amount, price)})\n",
        "  pass\n",
        "def remove_from_market():\n",
        "  pass "
      ],
      "execution_count": 34,
      "outputs": []
    },
    {
      "cell_type": "code",
      "metadata": {
        "id": "gfeack45vKsM",
        "colab_type": "code",
        "colab": {}
      },
      "source": [
        "class ProductOnVitrin():\n",
        "  def __init__(self, player_obj, stockhouse_obj, product_obj, amount, price):\n",
        "    self.seller_obj = player_obj\n",
        "    self.stockhouse_obj = stockhouse_obj\n",
        "    self.product_obj = product_obj\n",
        "    self.amount = amount\n",
        "    self.price = price"
      ],
      "execution_count": 53,
      "outputs": []
    },
    {
      "cell_type": "code",
      "metadata": {
        "id": "jlT8w9kVmtNB",
        "colab_type": "code",
        "colab": {}
      },
      "source": [
        ""
      ],
      "execution_count": null,
      "outputs": []
    }
  ]
}