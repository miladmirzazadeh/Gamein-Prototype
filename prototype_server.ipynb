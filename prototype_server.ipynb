{
  "nbformat": 4,
  "nbformat_minor": 0,
  "metadata": {
    "colab": {
      "name": "prototype_server.ipynb",
      "provenance": [],
      "collapsed_sections": [],
      "include_colab_link": true
    },
    "kernelspec": {
      "name": "python3",
      "display_name": "Python 3"
    }
  },
  "cells": [
    {
      "cell_type": "markdown",
      "metadata": {
        "id": "view-in-github",
        "colab_type": "text"
      },
      "source": [
        "<a href=\"https://colab.research.google.com/github/miladmirzazadeh/Gamein-Prototype/blob/master/prototype_server.ipynb\" target=\"_parent\"><img src=\"https://colab.research.google.com/assets/colab-badge.svg\" alt=\"Open In Colab\"/></a>"
      ]
    },
    {
      "cell_type": "code",
      "metadata": {
        "id": "WeU7OqoTR4gS",
        "colab_type": "code",
        "colab": {
          "base_uri": "https://localhost:8080/",
          "height": 142
        },
        "outputId": "745ecb52-3ce5-4a1e-9853-0cc76fe5c8a4"
      },
      "source": [
        "from google.colab import drive\n",
        "drive.mount('/content/drive')"
      ],
      "execution_count": null,
      "outputs": [
        {
          "output_type": "stream",
          "text": [
            "Go to this URL in a browser: https://accounts.google.com/o/oauth2/auth?client_id=947318989803-6bn6qk8qdgf4n4g3pfee6491hc0brc4i.apps.googleusercontent.com&redirect_uri=urn%3aietf%3awg%3aoauth%3a2.0%3aoob&response_type=code&scope=email%20https%3a%2f%2fwww.googleapis.com%2fauth%2fdocs.test%20https%3a%2f%2fwww.googleapis.com%2fauth%2fdrive%20https%3a%2f%2fwww.googleapis.com%2fauth%2fdrive.photos.readonly%20https%3a%2f%2fwww.googleapis.com%2fauth%2fpeopleapi.readonly\n",
            "\n",
            "Enter your authorization code:\n",
            "··········\n",
            "Mounted at /content/drive\n",
            "Drive already mounted at /content/drive; to attempt to forcibly remount, call drive.mount(\"/content/drive\", force_remount=True).\n"
          ],
          "name": "stdout"
        }
      ]
    },
    {
      "cell_type": "code",
      "metadata": {
        "id": "R5MiyQuMYk4n",
        "colab_type": "code",
        "colab": {}
      },
      "source": [
        "import numpy as np \n",
        "import pandas as pd \n",
        "import random\n"
      ],
      "execution_count": 39,
      "outputs": []
    },
    {
      "cell_type": "code",
      "metadata": {
        "id": "RgxoX-nFYpz9",
        "colab_type": "code",
        "colab": {}
      },
      "source": [
        "class Parameters():\n",
        "  ###################### reading all dataframes from google drive ...... to call them faster and easier in runtime \n",
        "\n",
        "  land_stockhouse_df = pd.read_excel(\"/content/drive/My Drive/projects/gamein_prototype/parameters.xlsx\",sheet_name=\"land_stockhouse\", header=0,index_col=0)\n",
        "  land_machine_df = pd.read_excel(\"/content/drive/My Drive/projects/gamein_prototype/parameters.xlsx\",sheet_name=\"land_machine\", header=0,index_col=0)\n",
        "  machines_info_df = pd.read_excel(\"/content/drive/My Drive/projects/gamein_prototype/parameters.xlsx\",sheet_name=\"machines_info\", header=0,index_col=0)\n",
        "  products_volume_df = pd.read_excel(\"/content/drive/My Drive/projects/gamein_prototype/parameters.xlsx\",sheet_name=\"products_info\", header=0,index_col=0)\n",
        "  bom_df = pd.read_excel(\"/content/drive/My Drive/projects/gamein_prototype/parameters.xlsx\",sheet_name=\"bom\", header=0,index_col=0)\n",
        "  gamein_buy_price = pd.read_excel(\"/content/drive/My Drive/projects/gamein_prototype/parameters.xlsx\",sheet_name=\"gamein_buy_price\", header=0,index_col=0) #milad : added .... price of products that gamein buys\n",
        "  gamein_sell_price = pd.read_excel(\"/content/drive/My Drive/projects/gamein_prototype/parameters.xlsx\",sheet_name=\"gamein_sell_price\", header=0,index_col=0)"
      ],
      "execution_count": 40,
      "outputs": []
    },
    {
      "cell_type": "code",
      "metadata": {
        "id": "KhYrjPwLYuZM",
        "colab_type": "code",
        "colab": {}
      },
      "source": [
        "class Player():\n",
        "  players_name=[]\n",
        "\n",
        "  def __init__(self, player_name):\n",
        "    self.name = player_name\n",
        "    #remove from available\n",
        "    self.cash = 10000000 # بودجه اولیه\n",
        "    self.land_objects=dict()\n",
        "\n",
        "  def calculate_final_net_worth(self):\n",
        "    #to calculate final net worth\n",
        "    # inventory_value_sum=sum([self.land_objects[land].calculate_inventory_value() for land in list(self.land_objects.keys())]) #nima jaygozine 3 khate bala\n",
        "    # net_worth = inventory_value_sum + self.cash \n",
        "    net_worth = self.cash #incomplete\n",
        "    return net_worth \n",
        "\n",
        "  def add_land(self, land_id):\n",
        "    self.land_objects.update({land_id : Land(land_id)}) # یه اینستنس از لند میسازه که ورودی بهش آیدی میدیم . بعد توی خود لند ، بر حسب آیدی بقیه فیچر های لند رو ست میکنیم\n",
        "    \n",
        "\n",
        "  def add_machine(self, land_id, machine_id):\n",
        "    self.land_objects[land_id].add_machine(machine_id)"
      ],
      "execution_count": 41,
      "outputs": []
    },
    {
      "cell_type": "code",
      "metadata": {
        "id": "TKlKJjQKZHcM",
        "colab_type": "code",
        "colab": {}
      },
      "source": [
        "class Gamein_Bazaar():\n",
        "  def put_into_market():\n",
        "    pass"
      ],
      "execution_count": 42,
      "outputs": []
    },
    {
      "cell_type": "code",
      "metadata": {
        "id": "QqFtT2Haa70F",
        "colab_type": "code",
        "colab": {}
      },
      "source": [
        "class Land():\n",
        "  lands_list = [30001,30002,30003,30004,30005,30006,30007,30008,\n",
        "                30009,30010,30011,30012,30013,30014,30015] #amirreza یه دیتا فریم که یه آی دی زمین داره و ماشین\n",
        "  available_lands= lands_list.copy() #آی دی های باقی مانده\n",
        "  \n",
        "  def __init__(self, land_id):\n",
        "    self.machine = _\n",
        "    self.id = land_id\n",
        "    self.cap = Parameters.land_stockhouse_df.loc[self.id, \"cap\"]\n",
        "    self.stockhouse = StockHouse(self.cap) # اینجا دیگه دیکشنری نیست چون فرض بر اینه که یه دونه انبار بیشتر نداریم \n",
        "\n",
        "\n",
        "    # self.stockhouse = StockHouse()\n",
        "  def add_machine(self, machine_id):\n",
        "    self.machine= Machine(machine_id)"
      ],
      "execution_count": 43,
      "outputs": []
    },
    {
      "cell_type": "code",
      "metadata": {
        "id": "gnew7aMka-PX",
        "colab_type": "code",
        "colab": {}
      },
      "source": [
        "class StockHouse():\n",
        "  def __init__(self, cap):\n",
        "    self.total_cap = cap\n",
        "    self.remaining_cap = self.total_cap\n",
        "    self.inventory_df = pd.DataFrame([], columns= [\"total_inventory\", \"inhand_inventory\"]) # indexes = product names \n",
        "    # self.cost_per_product = 100\n",
        "\n",
        "  def add(self, product_name, amount, just_total=False, just_inhand=False): #milad : just_total va just_inhand ezafe shod\n",
        "    volume = amount * Product.products_volume.loc[product_name, 'volume'] \n",
        "\n",
        "    if just_inhand:\n",
        "      if (not (product_name in self.inventory_df.index)) or (pd.isnull(self.inventory_df.loc[product_name,\"inhand_inventory\"])) : #milad : agar inhand_inventory == nan -> chizi behesh ezafe nemishe\n",
        "        self.inventory_df.loc[product_name,\"inhand_inventory\"] = amount \n",
        "      else:\n",
        "        self.inventory_df.loc[product_name, \"inhand_inventory\"] += amount \n",
        "\n",
        "    elif just_total:\n",
        "      if (not (product_name in self.inventory_df.index)) or (pd.isnull(self.inventory_df.loc[product_name,\"total_inventory\"])):\n",
        "        self.inventory_df.loc[product_name, \"total_inventory\"] = amount \n",
        "      else:\n",
        "        self.inventory_df.loc[product_name, \"total_inventory\"] += amount \n",
        "      self.remaining_cap -= volume\n",
        "\n",
        "    elif not (just_total or just_inhand):# both are False\n",
        "      if (product_name in self.inventory_df.index):\n",
        "        self.inventory_df.loc[product_name, [\"total_inventory\", \"inhand_inventory\"]] += amount \n",
        "        if (pd.isnull(self.inventory_df.loc[product_name,\"inhand_inventory\"])):\n",
        "          self.inventory_df.loc[product_name,\"inhand_inventory\"] = amount \n",
        "\n",
        "      else:\n",
        "        self.inventory_df.loc[product_name, [\"total_inventory\", \"inhand_inventory\"]] = amount \n",
        "      self.remaining_cap -= volume\n",
        "        \n",
        "      \n",
        "      \n",
        "\n",
        "  def remove(self, product_name, amount, just_total=False, just_inhand=False):\n",
        "    volume = amount * Product.products_volume.loc[product_name, 'volume'] \n",
        "    if not (just_total or just_inhand): # both are False\n",
        "      self.inventory_df.loc[product_name, [\"total_inventory\", \"inhand_inventory\"]] -= amount \n",
        "      self.remaining_cap += volume \n",
        "\n",
        "    if (just_total): #total==True, inhand==False\n",
        "      self.inventory_df.loc[product_name, [\"total_inventory\"]] -= amount \n",
        "      self.remaining_cap += volume \n",
        "\n",
        "    if (just_inhand): \n",
        "      self.inventory_df.loc[product_name, [\"inhand_inventory\"]] -= amount"
      ],
      "execution_count": 119,
      "outputs": []
    },
    {
      "cell_type": "code",
      "metadata": {
        "id": "20HTJHoNhXM9",
        "colab_type": "code",
        "colab": {}
      },
      "source": [
        "class Machine():\n",
        "\n",
        "  def __init__(self,machine_id):\n",
        "    self.id = machine_id\n",
        "    self.product_name = Parameters.machines_info_df.loc[self.id, \"product\"]\n",
        "    # self.price = _ \n",
        "    self.enabled = True # False until machine comes :)\n",
        "    self.working = 0 # False while mahcine works\n",
        "    self.remaining_production = 0 # reduce production rate per turn , \n",
        "    self.production_cost_per_unit = Parameters.machines_info_df.loc[self.id, \"production_cost_per_unit\"]\n",
        "    self.fixed_production_cost = Parameters.machines_info_df.loc[self.id, \"fixed_production_cost\"]\n",
        "    self.production_rate = Parameters.machines_info_df.loc[self.id, \"production_rate\"]\n",
        "    \n",
        "  def start_production(self, amount):#milad : ezafe shod\n",
        "    self.working = 1 \n",
        "    self.remaining_production = amount\n",
        "    \n"
      ],
      "execution_count": 97,
      "outputs": []
    },
    {
      "cell_type": "code",
      "metadata": {
        "id": "d6iIa2BukBOr",
        "colab_type": "code",
        "colab": {}
      },
      "source": [
        "#nima mitune nabashe\n",
        "class Product():\n",
        "\n",
        "  products_bom = Parameters.bom_df\n",
        "  products_volume = Parameters.products_volume_df # its a df not a series . so use loc[index, \"volume\"]  \n",
        "\n",
        "\n",
        "\n",
        "  # def __init__(self):\n",
        "  #   self.material_needed = 10\n",
        "  #   self.lower_band = 1\n",
        "  #   self.upper_band = 20"
      ],
      "execution_count": 98,
      "outputs": []
    },
    {
      "cell_type": "code",
      "metadata": {
        "id": "QnlH4IVekgCg",
        "colab_type": "code",
        "colab": {}
      },
      "source": [
        "class Material():\n",
        "  Prices = _ #dict (id , price)"
      ],
      "execution_count": 99,
      "outputs": []
    },
    {
      "cell_type": "code",
      "metadata": {
        "id": "wC1eUZbGlLd4",
        "colab_type": "code",
        "colab": {}
      },
      "source": [
        "class Market(): #nima alan avale kar \n",
        "\n",
        "  vitrin = pd.DataFrame([], columns=[\"seller_name\",\"product_name\", \"amount\", \"price\"]) #milad : seller_obj replaced with seller_name !!! more rational \n",
        "\n",
        "  def reset_vitrin():\n",
        "    Market.vitrin = pd.DataFrame([], columns=[\"seller_name\",\"product_name\", \"amount\", \"price\"])"
      ],
      "execution_count": 100,
      "outputs": []
    },
    {
      "cell_type": "code",
      "metadata": {
        "id": "CSAodk44lNh9",
        "colab_type": "code",
        "colab": {}
      },
      "source": [
        "class Controller(): \n",
        "\n",
        "  # We have to set all initial values here ...... why ? because we wanna reset them everytime we build Controller class \n",
        "  Market.reset_vitrin() \n",
        "  Land.available_lands = Land.lands_list.copy()\n",
        "  #milad : added \n",
        "    #adding gamein supply products in Market.vitrin at the first \n",
        "  vitrin_id = 1\n",
        "  for product_name, row in Parameters.gamein_sell_price.iterrows():\n",
        "    Market.vitrin.loc[vitrin_id] = [\"gamein\", product_name, 1000000, row.price]\n",
        "    vitrin_id += 1\n",
        "\n",
        "  return_message=\"\"\n",
        "  turn = 0 \n",
        "  last_turn = 50\n",
        "  player_objects = dict() #name,object\n",
        "\n",
        "  def start():  \n",
        "    Market.reset_vitrin() \n",
        "    Land.available_lands = Land.lands_list.copy()\n",
        "       #milad : added \n",
        "    #adding gamein supply products in Market.vitrin at the first \n",
        "    vitrin_id = 1\n",
        "    for product_name, row in Parameters.gamein_sell_price.iterrows():\n",
        "      Market.vitrin.loc[vitrin_id] = [\"gamein\", product_name, 1000000, row.price]\n",
        "      vitrin_id += 1\n",
        "\n",
        "    Controller.return_message=\"\"\n",
        "    Controller.turn = 0 \n",
        "    Controller.last_turn = 50\n",
        "    Controller.player_objects = dict() #name,object\n",
        "\n",
        "  def next_turn():\n",
        "    Controller.turn+=1 \n",
        "    #milad : ezafe shod\n",
        "    for player in list(Controller.player_objects.values()): #continue production\n",
        "      machine = list(player.land_objects.values())[0].machine\n",
        "      stockhouse = list(player.land_objects.values())[0].stockhouse\n",
        "      if machine.working == 1 : \n",
        "        if machine.remaining_production <= machine.production_rate:\n",
        "          stockhouse.add(machine.product_name, amount=machine.remaining_production, just_inhand=True)\n",
        "          machine.remaining_production = 0\n",
        "          machine.working = 0 #end production\n",
        "          print(player.name +\"عملیات تولید تمام شد\")\n",
        "          #CommandAnalyzer.show_message(player_name, \"عملیات تولید تمام شد\")\n",
        "        else :\n",
        "          machine.remaining_production -= machine.production_rate\n",
        "          stockhouse.add(machine.product_name, amount=machine.production_rate, just_inhand=True)\n",
        "\n",
        "    if Controller.turn == Controller.last_turn : \n",
        "      score_board = Controller.score_board()\n",
        "      Controller.return_message = \"End Game. Thank u \" + score_board\n",
        "\n",
        "  \n",
        "  def score_board():\n",
        "    net_worths = pd.Series([])\n",
        "    for player in list(Controller.player_objects.keys()): \n",
        "      obj = Controller.player_objects[player] \n",
        "      obj.calculate_final_net_worth()\n",
        "      net_worths[player] = obj \n",
        "    net_worths = net_worths.sort(ascending=False)\n",
        "    return net_worths    \n",
        "\n",
        "  def create_player(player_name):\n",
        "\n",
        "    #milad : user's telegram id IS Not his player_name anymore\n",
        "    #milad : every player can choose a name ..... in CommandAnalyzer we need a dict of telegram username and player name \n",
        "    \n",
        "    if player_name in list(Controller.player_objects.keys()): \n",
        "      return (\"این نام کاربری قبلا از این ثبت شده\")\n",
        "    if len(Land.available_lands) == 0 :\n",
        "      return (\"متاسفانه ظرفیت بازی تکمیل شده \") \n",
        "    land_id = random.choice(Land.available_lands) #random از بین لیست زمین های در دسترس\n",
        "    Land.available_lands.remove(land_id)   #remove from available lands\n",
        "    if player_name == \"milad\":\n",
        "      land_id = 30001\n",
        "    machine_id = Parameters.land_machine_df.loc[land_id, \"machine_id\"] # از دیتافریم زمین و ماشین خوانده میشود\n",
        "\n",
        "    Controller.player_objects.update({player_name : Player(player_name)})\n",
        "    Controller.buy_land(player_name, land_id)\n",
        "    Controller.buy_machine(player_name, land_id, machine_id)\n",
        "    machine_name = Parameters.machines_info_df.loc[machine_id, \"machine_name\"]#milad added\n",
        "    return (\"  با موفقیت وارد بازی شدید . ماشین  \" + machine_name +\"  به شما تعلق گرفت :)   \")\n",
        "    \n",
        "  def buy_land(player_name, land_id):\n",
        "    Controller.player_objects[player_name].add_land(land_id)\n",
        "    # Controller.player_objects[name].cash -=         اینجا باید پول زمین رو از حسابش کم کنیم . فعلا لازم نیست  چون خودمون بهش زمین رو اختصاص میدیم \n",
        "\n",
        "  def buy_machine(player_name, land_id, machine_id):\n",
        "    Controller.player_objects[player_name].add_machine(land_id, machine_id)\n",
        "\n",
        "  def show_status(player_name):#milad : in ro ezafe kardam \n",
        "    player_obj = Controller.player_objects[player_name]\n",
        "    stockhouse = list(player_obj.land_objects.values())[0].stockhouse\n",
        "    machine = list(player_obj.land_objects.values())[0].machine\n",
        "    return (\"cash:  \",player_obj.cash, \"inventory:  \",stockhouse.inventory_df, \"cap:  \",stockhouse.remaining_cap, \"remain_production: \",machine.remaining_production) # we should consider this type of return in CommandAnalyzer()\n",
        "\n",
        "  def start_production(player_name, product_name, amount):# This Func should take machine_id too (Later Inshallah)\n",
        "    player_obj = Controller.player_objects[player_name]\n",
        "    stockhouse = list(player_obj.land_objects.values())[0].stockhouse\n",
        "    machine = list(player_obj.land_objects.values())[0].machine\n",
        "    materials = Product.products_bom.loc[product_name]\n",
        "\n",
        "    # cost = machine.fixed_production_cost + machine.production_cost_per_unit * amount\n",
        "    cost=0\n",
        "    volume = Product.products_volume.loc[product_name, \"volume\"] * amount \n",
        "\n",
        "    if not (machine.enabled==True and machine.working==0): ### checking if the required machine is available (free/bought)\n",
        "      return ('ماشین قادر به تولید نیست')\n",
        "    if product_name != machine.product_name: ### checking existence\n",
        "      return (\" شما ماشین \" + product_name + \" را ندارید \" ) \n",
        "    if player_obj.cash < cost :  ############## Checking Player Cash\n",
        "      return (\"پولت کمه \")\n",
        "    if stockhouse.remaining_cap < volume: ############### Checking Inventory Remaining Cap\n",
        "      return (\"انبارت اینقدر جا نداره  \")\n",
        "  \n",
        "    for mat, number in materials.iteritems():\n",
        "      if number > 0 :\n",
        "        if (not (mat in stockhouse.inventory_df.index) or (number*amount > stockhouse.inventory_df.loc[mat, \"inhand_inventory\"])):\n",
        "          return (\"  کافی نیست  \" + mat)\n",
        "        stockhouse.remove(mat, number*amount)\n",
        "    ##################################### when u get here , everything is OK\n",
        "    player_obj.cash -= cost\n",
        "    print(\"تولید با موفقیت آغاز شد\") \n",
        "    stockhouse.add(product_name, amount, just_total=True)#milad : bayad mogheye shoroo e tolid be total_inventory ezafe she ama be inhand_inventory na..... yani az remaining cap kam she ke ta vaghti tolid mikone natoone anbaro por kone \n",
        "    machine.start_production(amount) #milad : ezafe shod \n",
        "    \n",
        "  \n",
        "  def sell_to_gamein(player_name, product_name, amount):#milad : foroosh be gamein ham vase mahsool miani hast ham nahaei . price nemigire. \n",
        "    if not (product_name in stockhouse_obj.inventory_df.index):#check the inventory\n",
        "      return (\"محصول مورد نظر موجود نیست\")\n",
        "    if stockhouse_obj.inventory_df.loc[product_name, \"inhand_inventory\"] < amount : \n",
        "      return (\"این تعداد از محصول مورد نظر موجود نیست \")\n",
        "    player_obj = Controller.player_objects[player_name]\n",
        "    stockhouse_obj = list(player_obj.land_objects.values())[0].stockhouse\n",
        "    player_obj.cash += amount*Parameters.gamein_buy_price.loc[product_name,\"price\"]\n",
        "    stockhouse_obj.remove(product_name, amount)\n",
        "    return (\"فروخته شد\")\n",
        "       \n",
        " \n",
        "  def put_into_market(player_name, product_name, amount, price):# it doesn't get stockhouse_id or etc. until we have more than one stockhouse\n",
        "    player_obj = Controller.player_objects[player_name]\n",
        "    product_on_vitrin_id = random.choice([i for i in range(100) if not(i in Market.vitrin.index)])   # a random unique id , that will assign to vitrin objects  #nima nemifahmam\n",
        "    stockhouse_obj = list(player_obj.land_objects.values())[0].stockhouse\n",
        "\n",
        "    #check the inventory\n",
        "    if not (product_name in stockhouse_obj.inventory_df.index):\n",
        "      return (\"محصول مورد نظر موجود نیست\")\n",
        "    if stockhouse_obj.inventory_df.loc[product_name, \"inhand_inventory\"] < amount : \n",
        "      return (\"این تعداد از محصور مورد نظر موجود نیست \")\n",
        "    \n",
        "    existing_row = Market.vitrin[np.logical_and(np.logical_and(Market.vitrin.product_name == product_name, Market.vitrin.price == price), Market.vitrin.seller_name == player_name)]\n",
        "    if len(existing_row) != 0:\n",
        "      # add to existing row IF player_name, product_name and price are equal \n",
        "      Market.vitrin.loc[existing_row.index, \"amount\"] += amount\n",
        "    else : \n",
        "      Market.vitrin.loc[product_on_vitrin_id] = [player_name, product_name, amount, price]\n",
        "    stockhouse_obj.remove(product_name, amount, just_inhand=True)\n",
        "    return (\"تو ویترین قرار گرفت :)\")\n",
        "    \n",
        "  \n",
        "  def upgrade_stockhouse(player_name, land_id):\n",
        "    pass\n",
        "\n",
        "  def show_product_market_info():\n",
        "    vitrin = Market.vitrin.copy()\n",
        "    vitrin[\"id\"] = vitrin.index\n",
        "    vitrin = vitrin[[\"id\", \"product_name\" , \"amount\", \"price\", \"seller_name\"]]\n",
        "    return vitrin\n",
        "\n",
        "\n",
        "  def buy_product(player_name, product_on_vitrin_id, amount): # آیدی محصول داخل ویترین رو میده که بریم از روی دیکشنری توی مارکت آبجکتش رو پیدا کنیم و انتقال رو انجام بدیم \n",
        "    buyer_player = Controller.player_objects[player_name]\n",
        "    buyer_stockhouse = list(buyer_player.land_objects.values())[0].stockhouse\n",
        "    product_on_vitrin = Market.vitrin.loc[product_on_vitrin_id] \n",
        "    \n",
        "    volume = Product.products_volume.loc[product_on_vitrin.product_name, 'volume']\n",
        "    \n",
        "    if amount*volume > buyer_stockhouse.remaining_cap: \n",
        "      return (\"فضای انبار کافی نیست\")\n",
        "    if buyer_player.cash < product_on_vitrin.price * amount :\n",
        "      return (\"پول کافی نیست\")\n",
        "    if amount > product_on_vitrin.amount :\n",
        "      return (\"این مقدار کالا در بازار نیست\") \n",
        "  \n",
        "    buyer_player.cash -= amount * product_on_vitrin.price #update cash\n",
        "    buyer_stockhouse.add(product_on_vitrin.product_name, amount) #updata buyer inventory\n",
        "\n",
        "    if product_on_vitrin.seller_name != \"gamein\" : #milad : added \n",
        "    #update seller inventory :\n",
        "      seller_player = Controller.player_objects[product_on_vitrin.seller_name]\n",
        "      seller_stockhouse = list(seller_player.land_objects.values())[0].stockhouse\n",
        "      seller_stockhouse.remove(product_on_vitrin.product_name, amount, just_total=True) \n",
        "      seller_player.cash += amount * product_on_vitrin.price # add cash to seller player\n",
        "\n",
        "\n",
        "    #update vitrin\n",
        "    product_on_vitrin.amount -= amount\n",
        "    if product_on_vitrin.amount == 0 : #### deleting vitrin row ir amount == 0 \n",
        "      Market.vitrin.drop(product_on_vitrin_id, inplace=True) \n",
        "\n",
        "    return (\"معامله انجام شد\")"
      ],
      "execution_count": 101,
      "outputs": []
    },
    {
      "cell_type": "code",
      "metadata": {
        "id": "ItlWn0ucXmOE",
        "colab_type": "code",
        "colab": {
          "base_uri": "https://localhost:8080/",
          "height": 35
        },
        "outputId": "1c21f91c-e0dc-4ceb-a526-8f681a2bdb08"
      },
      "source": [
        "Controller.start()\n",
        "Controller.create_player(\"milad\")"
      ],
      "execution_count": 102,
      "outputs": [
        {
          "output_type": "execute_result",
          "data": {
            "application/vnd.google.colaboratory.intrinsic": {
              "type": "string"
            },
            "text/plain": [
              "'  با موفقیت وارد بازی شدید . ماشین  تولید چوب  به شما تعلق گرفت :)   '"
            ]
          },
          "metadata": {
            "tags": []
          },
          "execution_count": 102
        }
      ]
    },
    {
      "cell_type": "code",
      "metadata": {
        "id": "BYaOwbB4Xo0V",
        "colab_type": "code",
        "colab": {
          "base_uri": "https://localhost:8080/",
          "height": 110
        },
        "outputId": "4defbacc-4ab6-48f7-bc56-c5a3a4039575"
      },
      "source": [
        "Controller.show_status(\"milad\")[3]"
      ],
      "execution_count": 118,
      "outputs": [
        {
          "output_type": "execute_result",
          "data": {
            "text/html": [
              "<div>\n",
              "<style scoped>\n",
              "    .dataframe tbody tr th:only-of-type {\n",
              "        vertical-align: middle;\n",
              "    }\n",
              "\n",
              "    .dataframe tbody tr th {\n",
              "        vertical-align: top;\n",
              "    }\n",
              "\n",
              "    .dataframe thead th {\n",
              "        text-align: right;\n",
              "    }\n",
              "</style>\n",
              "<table border=\"1\" class=\"dataframe\">\n",
              "  <thead>\n",
              "    <tr style=\"text-align: right;\">\n",
              "      <th></th>\n",
              "      <th>total_inventory</th>\n",
              "      <th>inhand_inventory</th>\n",
              "    </tr>\n",
              "  </thead>\n",
              "  <tbody>\n",
              "    <tr>\n",
              "      <th>الوار</th>\n",
              "      <td>-100</td>\n",
              "      <td>-100</td>\n",
              "    </tr>\n",
              "    <tr>\n",
              "      <th>چوب</th>\n",
              "      <td>200</td>\n",
              "      <td>200</td>\n",
              "    </tr>\n",
              "  </tbody>\n",
              "</table>\n",
              "</div>"
            ],
            "text/plain": [
              "      total_inventory inhand_inventory\n",
              "الوار            -100             -100\n",
              "چوب               200              200"
            ]
          },
          "metadata": {
            "tags": []
          },
          "execution_count": 118
        }
      ]
    },
    {
      "cell_type": "code",
      "metadata": {
        "id": "lxt3SL_cR1J4",
        "colab_type": "code",
        "colab": {
          "base_uri": "https://localhost:8080/",
          "height": 34
        },
        "outputId": "e7eef835-55db-4311-e44b-9a93dd41f5af"
      },
      "source": [
        "list(Controller.player_objects[\"milad\"].land_objects.values())[0].stockhouse.remove(\"الوار\", 100)"
      ],
      "execution_count": 117,
      "outputs": [
        {
          "output_type": "stream",
          "text": [
            "الوار\n"
          ],
          "name": "stdout"
        }
      ]
    },
    {
      "cell_type": "code",
      "metadata": {
        "id": "Zn0E1-mMuc6k",
        "colab_type": "code",
        "colab": {
          "base_uri": "https://localhost:8080/",
          "height": 263
        },
        "outputId": "6feccea6-4a45-488c-9a41-0f76e167be41"
      },
      "source": [
        "Controller.show_product_market_info()"
      ],
      "execution_count": 104,
      "outputs": [
        {
          "output_type": "execute_result",
          "data": {
            "text/html": [
              "<div>\n",
              "<style scoped>\n",
              "    .dataframe tbody tr th:only-of-type {\n",
              "        vertical-align: middle;\n",
              "    }\n",
              "\n",
              "    .dataframe tbody tr th {\n",
              "        vertical-align: top;\n",
              "    }\n",
              "\n",
              "    .dataframe thead th {\n",
              "        text-align: right;\n",
              "    }\n",
              "</style>\n",
              "<table border=\"1\" class=\"dataframe\">\n",
              "  <thead>\n",
              "    <tr style=\"text-align: right;\">\n",
              "      <th></th>\n",
              "      <th>id</th>\n",
              "      <th>product_name</th>\n",
              "      <th>amount</th>\n",
              "      <th>price</th>\n",
              "      <th>seller_name</th>\n",
              "    </tr>\n",
              "  </thead>\n",
              "  <tbody>\n",
              "    <tr>\n",
              "      <th>1</th>\n",
              "      <td>1</td>\n",
              "      <td>چوب</td>\n",
              "      <td>1000000</td>\n",
              "      <td>45000</td>\n",
              "      <td>gamein</td>\n",
              "    </tr>\n",
              "    <tr>\n",
              "      <th>2</th>\n",
              "      <td>2</td>\n",
              "      <td>پارچه</td>\n",
              "      <td>1000000</td>\n",
              "      <td>25000</td>\n",
              "      <td>gamein</td>\n",
              "    </tr>\n",
              "    <tr>\n",
              "      <th>3</th>\n",
              "      <td>3</td>\n",
              "      <td>میخ</td>\n",
              "      <td>1000000</td>\n",
              "      <td>900</td>\n",
              "      <td>gamein</td>\n",
              "    </tr>\n",
              "    <tr>\n",
              "      <th>4</th>\n",
              "      <td>4</td>\n",
              "      <td>رنگ</td>\n",
              "      <td>1000000</td>\n",
              "      <td>22000</td>\n",
              "      <td>gamein</td>\n",
              "    </tr>\n",
              "    <tr>\n",
              "      <th>5</th>\n",
              "      <td>5</td>\n",
              "      <td>آهن</td>\n",
              "      <td>1000000</td>\n",
              "      <td>20</td>\n",
              "      <td>gamein</td>\n",
              "    </tr>\n",
              "    <tr>\n",
              "      <th>6</th>\n",
              "      <td>6</td>\n",
              "      <td>نخ</td>\n",
              "      <td>1000000</td>\n",
              "      <td>25</td>\n",
              "      <td>gamein</td>\n",
              "    </tr>\n",
              "    <tr>\n",
              "      <th>7</th>\n",
              "      <td>7</td>\n",
              "      <td>الوار</td>\n",
              "      <td>1000000</td>\n",
              "      <td>20000</td>\n",
              "      <td>gamein</td>\n",
              "    </tr>\n",
              "  </tbody>\n",
              "</table>\n",
              "</div>"
            ],
            "text/plain": [
              "   id product_name   amount  price seller_name\n",
              "1   1          چوب  1000000  45000      gamein\n",
              "2   2        پارچه  1000000  25000      gamein\n",
              "3   3          میخ  1000000    900      gamein\n",
              "4   4          رنگ  1000000  22000      gamein\n",
              "5   5          آهن  1000000     20      gamein\n",
              "6   6           نخ  1000000     25      gamein\n",
              "7   7        الوار  1000000  20000      gamein"
            ]
          },
          "metadata": {
            "tags": []
          },
          "execution_count": 104
        }
      ]
    },
    {
      "cell_type": "code",
      "metadata": {
        "id": "iRzMQPzYRY3e",
        "colab_type": "code",
        "colab": {
          "base_uri": "https://localhost:8080/",
          "height": 35
        },
        "outputId": "b2e4c925-00ec-4f9f-9956-d9bc766f9c5f"
      },
      "source": [
        "Controller.buy_product(\"milad\", 7, 500)"
      ],
      "execution_count": 105,
      "outputs": [
        {
          "output_type": "execute_result",
          "data": {
            "application/vnd.google.colaboratory.intrinsic": {
              "type": "string"
            },
            "text/plain": [
              "'معامله انجام شد'"
            ]
          },
          "metadata": {
            "tags": []
          },
          "execution_count": 105
        }
      ]
    },
    {
      "cell_type": "code",
      "metadata": {
        "id": "3fLY-lnITawg",
        "colab_type": "code",
        "colab": {
          "base_uri": "https://localhost:8080/",
          "height": 51
        },
        "outputId": "68522da6-0378-4d96-a4f5-0abc8c1b3906"
      },
      "source": [
        "Controller.start_production(\"milad\", \"چوب\" , 200)"
      ],
      "execution_count": 106,
      "outputs": [
        {
          "output_type": "stream",
          "text": [
            "الوار\n",
            "تولید با موفقیت آغاز شد\n"
          ],
          "name": "stdout"
        }
      ]
    },
    {
      "cell_type": "code",
      "metadata": {
        "id": "__gwdbkJUDrn",
        "colab_type": "code",
        "colab": {}
      },
      "source": [
        "Controller.next_turn()"
      ],
      "execution_count": 107,
      "outputs": []
    },
    {
      "cell_type": "code",
      "metadata": {
        "id": "AytQWVRFVEg6",
        "colab_type": "code",
        "colab": {
          "base_uri": "https://localhost:8080/",
          "height": 34
        },
        "outputId": "1f5ee61e-f592-4adf-9044-61c9b07834e6"
      },
      "source": [
        "Controller.next_turn()"
      ],
      "execution_count": 108,
      "outputs": [
        {
          "output_type": "stream",
          "text": [
            "miladعملیات تولید تمام شد\n"
          ],
          "name": "stdout"
        }
      ]
    },
    {
      "cell_type": "code",
      "metadata": {
        "id": "I_fAWxA_WvF8",
        "colab_type": "code",
        "colab": {}
      },
      "source": [
        ""
      ],
      "execution_count": 108,
      "outputs": []
    }
  ]
}