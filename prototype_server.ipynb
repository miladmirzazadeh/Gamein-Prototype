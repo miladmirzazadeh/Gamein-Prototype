{
  "nbformat": 4,
  "nbformat_minor": 0,
  "metadata": {
    "colab": {
      "name": "prototype_server.ipynb",
      "provenance": [],
      "collapsed_sections": [],
      "authorship_tag": "ABX9TyPGfyRNhn3YuGwqEKsY0FWe",
      "include_colab_link": true
    },
    "kernelspec": {
      "name": "python3",
      "display_name": "Python 3"
    }
  },
  "cells": [
    {
      "cell_type": "markdown",
      "metadata": {
        "id": "view-in-github",
        "colab_type": "text"
      },
      "source": [
        "<a href=\"https://colab.research.google.com/github/miladmirzazadeh/Gamein-Prototype/blob/master/prototype_server.ipynb\" target=\"_parent\"><img src=\"https://colab.research.google.com/assets/colab-badge.svg\" alt=\"Open In Colab\"/></a>"
      ]
    },
    {
      "cell_type": "markdown",
      "metadata": {
        "id": "6O0_cMEK_2sl",
        "colab_type": "text"
      },
      "source": [
        "\n",
        "\n",
        "TESTING CODES ############################################################################\n",
        "\n"
      ]
    },
    {
      "cell_type": "code",
      "metadata": {
        "id": "BmiNJrIACF4B",
        "colab_type": "code",
        "colab": {}
      },
      "source": [
        "Controller.create_player(\"raman\")\n",
        "Controller.create_player(\"ali\") \n",
        "raman = Controller.player_objects[\"raman\"]\n",
        "raman_stockhouse = list(raman.land_objects.values())[0].stockhouse\n",
        "\n",
        "ali = Controller.player_objects[\"ali\"]\n",
        "ali_stockhouse = list(ali.land_objects.values())[0].stockhouse\n"
      ],
      "execution_count": 80,
      "outputs": []
    },
    {
      "cell_type": "code",
      "metadata": {
        "id": "jPoJHGmbUsLv",
        "colab_type": "code",
        "colab": {
          "base_uri": "https://localhost:8080/",
          "height": 34
        },
        "outputId": "e42a47d6-d0d6-41cf-b8bc-d0eae00105d8"
      },
      "source": [
        "Controller.start_production(\"ali\",\"tomato\", 1110)"
      ],
      "execution_count": 89,
      "outputs": [
        {
          "output_type": "stream",
          "text": [
            "yesss\n"
          ],
          "name": "stdout"
        }
      ]
    },
    {
      "cell_type": "code",
      "metadata": {
        "id": "3aNDcbKmoucA",
        "colab_type": "code",
        "colab": {
          "base_uri": "https://localhost:8080/",
          "height": 110
        },
        "outputId": "a0321b44-4684-4b41-cc42-f32e5d59140b"
      },
      "source": [
        "ali_stockhouse.inventory_df"
      ],
      "execution_count": 90,
      "outputs": [
        {
          "output_type": "execute_result",
          "data": {
            "text/html": [
              "<div>\n",
              "<style scoped>\n",
              "    .dataframe tbody tr th:only-of-type {\n",
              "        vertical-align: middle;\n",
              "    }\n",
              "\n",
              "    .dataframe tbody tr th {\n",
              "        vertical-align: top;\n",
              "    }\n",
              "\n",
              "    .dataframe thead th {\n",
              "        text-align: right;\n",
              "    }\n",
              "</style>\n",
              "<table border=\"1\" class=\"dataframe\">\n",
              "  <thead>\n",
              "    <tr style=\"text-align: right;\">\n",
              "      <th></th>\n",
              "      <th>total_inventory</th>\n",
              "      <th>inhand_inventory</th>\n",
              "    </tr>\n",
              "  </thead>\n",
              "  <tbody>\n",
              "    <tr>\n",
              "      <th>potato</th>\n",
              "      <td>100</td>\n",
              "      <td>100</td>\n",
              "    </tr>\n",
              "    <tr>\n",
              "      <th>tomato</th>\n",
              "      <td>1110</td>\n",
              "      <td>1110</td>\n",
              "    </tr>\n",
              "  </tbody>\n",
              "</table>\n",
              "</div>"
            ],
            "text/plain": [
              "       total_inventory inhand_inventory\n",
              "potato             100              100\n",
              "tomato            1110             1110"
            ]
          },
          "metadata": {
            "tags": []
          },
          "execution_count": 90
        }
      ]
    },
    {
      "cell_type": "code",
      "metadata": {
        "id": "7NAdyYUVs7uE",
        "colab_type": "code",
        "colab": {
          "base_uri": "https://localhost:8080/",
          "height": 35
        },
        "outputId": "a27adf3f-783d-4da8-b244-9aead82d5746"
      },
      "source": [
        "Controller.put_into_market(\"ali\", \"tomato\", 500, 200)"
      ],
      "execution_count": 91,
      "outputs": [
        {
          "output_type": "execute_result",
          "data": {
            "application/vnd.google.colaboratory.intrinsic": {
              "type": "string"
            },
            "text/plain": [
              "'Done :)'"
            ]
          },
          "metadata": {
            "tags": []
          },
          "execution_count": 91
        }
      ]
    },
    {
      "cell_type": "code",
      "metadata": {
        "id": "Q4GHuGMOGQdt",
        "colab_type": "code",
        "colab": {
          "base_uri": "https://localhost:8080/",
          "height": 110
        },
        "outputId": "2dd2713d-8a3e-49ff-82a3-0fca024062e5"
      },
      "source": [
        "Market.vitrin"
      ],
      "execution_count": 92,
      "outputs": [
        {
          "output_type": "execute_result",
          "data": {
            "text/html": [
              "<div>\n",
              "<style scoped>\n",
              "    .dataframe tbody tr th:only-of-type {\n",
              "        vertical-align: middle;\n",
              "    }\n",
              "\n",
              "    .dataframe tbody tr th {\n",
              "        vertical-align: top;\n",
              "    }\n",
              "\n",
              "    .dataframe thead th {\n",
              "        text-align: right;\n",
              "    }\n",
              "</style>\n",
              "<table border=\"1\" class=\"dataframe\">\n",
              "  <thead>\n",
              "    <tr style=\"text-align: right;\">\n",
              "      <th></th>\n",
              "      <th>seller_obj</th>\n",
              "      <th>product_name</th>\n",
              "      <th>stockhouse_obj</th>\n",
              "      <th>amount</th>\n",
              "      <th>price</th>\n",
              "    </tr>\n",
              "  </thead>\n",
              "  <tbody>\n",
              "    <tr>\n",
              "      <th>40</th>\n",
              "      <td>&lt;__main__.Player object at 0x7f2750a91d30&gt;</td>\n",
              "      <td>potato</td>\n",
              "      <td>&lt;__main__.StockHouse object at 0x7f2750a91f28&gt;</td>\n",
              "      <td>400</td>\n",
              "      <td>200</td>\n",
              "    </tr>\n",
              "    <tr>\n",
              "      <th>506</th>\n",
              "      <td>&lt;__main__.Player object at 0x7f2750a91908&gt;</td>\n",
              "      <td>tomato</td>\n",
              "      <td>&lt;__main__.StockHouse object at 0x7f2750a27b38&gt;</td>\n",
              "      <td>500</td>\n",
              "      <td>200</td>\n",
              "    </tr>\n",
              "  </tbody>\n",
              "</table>\n",
              "</div>"
            ],
            "text/plain": [
              "                                     seller_obj product_name  ... amount price\n",
              "40   <__main__.Player object at 0x7f2750a91d30>       potato  ...    400   200\n",
              "506  <__main__.Player object at 0x7f2750a91908>       tomato  ...    500   200\n",
              "\n",
              "[2 rows x 5 columns]"
            ]
          },
          "metadata": {
            "tags": []
          },
          "execution_count": 92
        }
      ]
    },
    {
      "cell_type": "code",
      "metadata": {
        "id": "qXpPFhtD4Kba",
        "colab_type": "code",
        "colab": {
          "base_uri": "https://localhost:8080/",
          "height": 35
        },
        "outputId": "81d04481-7106-4be2-c9e3-1c041034541a"
      },
      "source": [
        "Controller.buy_product(\"ali\",Market.vitrin.index[0],100)"
      ],
      "execution_count": 85,
      "outputs": [
        {
          "output_type": "execute_result",
          "data": {
            "application/vnd.google.colaboratory.intrinsic": {
              "type": "string"
            },
            "text/plain": [
              "'Done :)'"
            ]
          },
          "metadata": {
            "tags": []
          },
          "execution_count": 85
        }
      ]
    },
    {
      "cell_type": "code",
      "metadata": {
        "id": "RQ8triTuOyy_",
        "colab_type": "code",
        "colab": {
          "base_uri": "https://localhost:8080/",
          "height": 110
        },
        "outputId": "abb04e6e-829c-420a-af45-dc3ff39fd285"
      },
      "source": [
        "Controller.show_product_market_info()"
      ],
      "execution_count": 93,
      "outputs": [
        {
          "output_type": "execute_result",
          "data": {
            "text/html": [
              "<div>\n",
              "<style scoped>\n",
              "    .dataframe tbody tr th:only-of-type {\n",
              "        vertical-align: middle;\n",
              "    }\n",
              "\n",
              "    .dataframe tbody tr th {\n",
              "        vertical-align: top;\n",
              "    }\n",
              "\n",
              "    .dataframe thead th {\n",
              "        text-align: right;\n",
              "    }\n",
              "</style>\n",
              "<table border=\"1\" class=\"dataframe\">\n",
              "  <thead>\n",
              "    <tr style=\"text-align: right;\">\n",
              "      <th></th>\n",
              "      <th>id</th>\n",
              "      <th>product_name</th>\n",
              "      <th>amount</th>\n",
              "      <th>price</th>\n",
              "      <th>seller_name</th>\n",
              "    </tr>\n",
              "  </thead>\n",
              "  <tbody>\n",
              "    <tr>\n",
              "      <th>40</th>\n",
              "      <td>40</td>\n",
              "      <td>potato</td>\n",
              "      <td>400</td>\n",
              "      <td>200</td>\n",
              "      <td>raman</td>\n",
              "    </tr>\n",
              "    <tr>\n",
              "      <th>506</th>\n",
              "      <td>506</td>\n",
              "      <td>tomato</td>\n",
              "      <td>500</td>\n",
              "      <td>200</td>\n",
              "      <td>ali</td>\n",
              "    </tr>\n",
              "  </tbody>\n",
              "</table>\n",
              "</div>"
            ],
            "text/plain": [
              "      id product_name amount price seller_name\n",
              "40    40       potato    400   200       raman\n",
              "506  506       tomato    500   200         ali"
            ]
          },
          "metadata": {
            "tags": []
          },
          "execution_count": 93
        }
      ]
    },
    {
      "cell_type": "markdown",
      "metadata": {
        "id": "8p_X096sDtL4",
        "colab_type": "text"
      },
      "source": [
        "END   TESTING CODES ######################################################################\n",
        "\n",
        "\n",
        "\n",
        "\n",
        "\n",
        "\n",
        "\n"
      ]
    },
    {
      "cell_type": "code",
      "metadata": {
        "id": "_S-Zr1wfFzYX",
        "colab_type": "code",
        "colab": {}
      },
      "source": [
        "import numpy as np \n",
        "import pandas as pd \n",
        "import random"
      ],
      "execution_count": 1,
      "outputs": []
    },
    {
      "cell_type": "code",
      "metadata": {
        "id": "iFY3HwF4wsW5",
        "colab_type": "code",
        "colab": {}
      },
      "source": [
        "class Controller():\n",
        "\n",
        "  #init values \n",
        "  Market.vitrin = pd.DataFrame([], columns=[\"seller_obj\",\"product_name\", \"stockhouse_obj\",\"amount\", \"price\"])\n",
        "  ##############################\n",
        "  return_message=\"\"\n",
        "  turn = 0 \n",
        "  last_turn = 50\n",
        "  player_objects = dict()#name,object\n",
        "\n",
        "  def next_turn():\n",
        "    turn+=1\n",
        "    if turn == Controller.last_turn : \n",
        "      score_board = Controller.score_board()\n",
        "      Controller.return_message = \"End Game. Thank u \" + score_board\n",
        "\n",
        "  \n",
        "  def score_board():\n",
        "    net_worths = pd.Series([])\n",
        "    for player in list(player_objects.keys()):\n",
        "      obj = player_objects[player]\n",
        "      obj.calculate_final_net_worth()\n",
        "      net_worths[player] = obj \n",
        "    net_worths = net_worths.sort(ascending=False)\n",
        "    return net_worths\n",
        "\n",
        "\n",
        "  # def get_status(player_name):\n",
        "    # for land in player_objecs[player_name].\n",
        "\n",
        "  def create_player(player_name):\n",
        "    land_id = random.choice(Land.available_lands) #random از بین لیست زمین های در دسترس\n",
        "    Land.available_lands.remove(land_id)   #remove from available lands\n",
        "    machine_id =  2 # از دیتافریم زمین و ماشین خوانده میشود\n",
        "    Controller.player_objects.update({player_name : Player(player_name)})\n",
        "    Controller.buy_land(player_name, land_id)\n",
        "    Controller.buy_machine(player_name, land_id, machine_id)\n",
        "    \n",
        "  def buy_land(player_name, land_id):\n",
        "    Controller.player_objects[player_name].add_land(land_id)\n",
        "    # Controller.player_objects[name].cash -=         اینجا باید پول زمین رو از حسابش کم کنیم . فعلا لازم نیست  چون خودمون بهش زمین رو اختصاص میدیم \n",
        "\n",
        "  def buy_machine(player_name, land_id, machine_id):\n",
        "    Controller.player_objects[player_name].add_machine(land_id, machine_id)\n",
        "\n",
        "  def start_production(player_name, product_name, amount):# This Func should take machine_id too ( Later Inshallah)\n",
        "    if not (product_name in Product.products_list):\n",
        "      return (\"Do we have this Product in the Game ?!\")\n",
        "    else : \n",
        "      player_obj = Controller.player_objects[player_name]\n",
        "      stockhouse = list(player_obj.land_objects.values())[0].stockhouse\n",
        "      if stockhouse.remaining_cap <= amount : \n",
        "        return (\"No Enough Space\")\n",
        "      else :\n",
        "        print(\"yesss\")\n",
        "        stockhouse.add(product_name, amount)\n",
        "      \n",
        "\n",
        "\n",
        "  def put_into_market(player_name, product_name, amount, price):# it doesn't get stockhouse_id or etc. until we have more than one stockhouse\n",
        "    product_on_vitrin_id = random.choice([i for i in range(1000) if not(i in Market.vitrin.index)])   # a random unique id , that will assign to vitrin objects\n",
        "    player_obj = Controller.player_objects[player_name]\n",
        "    stockhouse_obj = list(player_obj.land_objects.values())[0].stockhouse\n",
        "    \n",
        "\n",
        "    #check the inventory\n",
        "    if not (product_name in stockhouse_obj.inventory_df.index):\n",
        "      return (\"Doesn't Exist\")\n",
        "    else:\n",
        "      if stockhouse_obj.inventory_df.loc[product_name, \"inhand_inventory\"] < amount : \n",
        "         return(\"No Enough Inventory\")\n",
        "      else :\n",
        "        Market.vitrin.loc[product_on_vitrin_id] = [player_obj, product_name, stockhouse_obj, amount, price]\n",
        "        stockhouse_obj.inventory_df.loc[product_name, \"inhand_inventory\"] -= amount\n",
        "        return (\"Done :)\")\n",
        "    \n",
        "  \n",
        "  def upgrade_stockhouse(player_name, land_id):\n",
        "    pass\n",
        "\n",
        "  def show_product_market_info():\n",
        "    vitrin = Market.vitrin.copy()\n",
        "    vitrin[\"seller_name\"] = [obj.name for obj in vitrin.seller_obj]\n",
        "    vitrin[\"id\"] = vitrin.index\n",
        "    vitrin = vitrin[[\"id\", \"product_name\" , \"amount\", \"price\", \"seller_name\"]]\n",
        "    return vitrin\n",
        "\n",
        "  def buy_product(player_name, product_on_vitrin_id, amount): # آیدی محصول داخل ویترین رو میده که بریم از روی دیکشنری توی مارکت آبجکتش رو پیدا کنیم و انتقال رو انجام بدیم \n",
        "    buyer_player = Controller.player_objects[player_name]\n",
        "    buyer_stockhouse = list(buyer_player.land_objects.values())[0].stockhouse\n",
        "    product_on_vitrin_obj = Market.vitrin.loc[product_on_vitrin_id]\n",
        "    seller_player = Market.vitrin.loc[product_on_vitrin_id, \"seller_obj\"]\n",
        "    \n",
        "    if amount > buyer_stockhouse.remaining_cap:\n",
        "      return (\"No Enough Space\")\n",
        "    elif buyer_player.cash < product_on_vitrin_obj.price * amount :\n",
        "      return (\"No Enough Cash\")\n",
        "    elif amount > product_on_vitrin_obj.amount :\n",
        "      return (\"No Enough Product In Vitrin\")\n",
        "    else:\n",
        "      buyer_player.cash -= amount * product_on_vitrin_obj.price #update cash\n",
        "      buyer_stockhouse.add(product_on_vitrin_obj.product_name, amount) #updata buuyer inventory\n",
        "\n",
        "\n",
        "      #update seller inventory :\n",
        "      seller_stockhouse = list(seller_player.land_objects.values())[0].stockhouse\n",
        "      seller_stockhouse.remove(product_on_vitrin_obj.product_name, amount)\n",
        "      seller_player.cash += amount * product_on_vitrin_obj.price # add cash to seller player\n",
        "\n",
        "\n",
        "      #update vitrin\n",
        "      product_on_vitrin_obj.amount -= amount\n",
        "\n",
        "      return (\"Done :)\")\n",
        "    \n",
        "   "
      ],
      "execution_count": 79,
      "outputs": []
    },
    {
      "cell_type": "code",
      "metadata": {
        "id": "UAVI6tfGyhrI",
        "colab_type": "code",
        "colab": {}
      },
      "source": [
        "class Player():\n",
        "  players_name=[]\n",
        "\n",
        "  def __init__(self, player_name):\n",
        "    self.name = player_name\n",
        "    #remove from available\n",
        "    self.cash = 1000000 # بودجه اولیه\n",
        "    self.land_objects=dict()\n",
        "\n",
        "  def calculate_final_net_worth(self):\n",
        "    inventory_value_list = []\n",
        "    for land in list(self.land_objects.keys()):\n",
        "      inventory_value_list.append(self.land_objects[land].calculate_inventory_value()) # تو هر خونه این لیست ، ارزش دارایی های یک زمین از زمین های بازیکن ثبت میشه\n",
        "    inventory_value_sum = sum(inventory_value_list)\n",
        "    net_worth = inventory_value_sum + self.cash \n",
        "    return net_worth \n",
        "\n",
        "  def add_land(self, land_id):\n",
        "    self.land_objects.update({land_id : Land(land_id)}) # یه اینستنس از لند میسازه که ورودی بهش آیدی میدیم . بعد توی خود لند ، بر حسب آیدی بقیه فیچر های لند رو ست میکنیم\n",
        "    \n",
        "\n",
        "  def add_machine(self, land_id, machine_id):\n",
        "    self.land_objects[land_id].add_machine(machine_id)\n",
        "\n",
        "\n",
        "\n",
        "\n",
        "\n"
      ],
      "execution_count": 4,
      "outputs": []
    },
    {
      "cell_type": "code",
      "metadata": {
        "id": "u9sOTqeIcQw0",
        "colab_type": "code",
        "colab": {}
      },
      "source": [
        "class Gamein_Bazaar():\n",
        "\n",
        "  def put_into_market():\n",
        "    pass"
      ],
      "execution_count": 5,
      "outputs": []
    },
    {
      "cell_type": "code",
      "metadata": {
        "id": "nxzbUOx-4vyl",
        "colab_type": "code",
        "colab": {}
      },
      "source": [
        "class Land():\n",
        "  lands_list =[] #amirreza یه دیتا فریم که یه آی دی زمین داره و ماشین\n",
        "  available_lands= list(range(100)) #آی دی های باقی مانده\n",
        "  \n",
        "  def __init__(self, land_id):\n",
        "    self.machine_objects = dict()\n",
        "    self.land_id = land_id\n",
        "    self.stockhouse = StockHouse()# اینجا دیگه دیکشنری نیست چون فرض بر اینه که یه دونه انبار بیشتر نداریم \n",
        "\n",
        "\n",
        "    # self.stockhouse = StockHouse()\n",
        "  def add_machine(self, machine_id):\n",
        "    self.machine_objects.update({machine_id: Machine(machine_id)})\n",
        "\n",
        "    \n",
        "\n",
        "\n",
        "  "
      ],
      "execution_count": 9,
      "outputs": []
    },
    {
      "cell_type": "code",
      "metadata": {
        "id": "zBJoGtsnKT5a",
        "colab_type": "code",
        "colab": {}
      },
      "source": [
        "\n",
        "class StockHouse():\n",
        "  def __init__(self):\n",
        "    self.total_cap = 3000\n",
        "    self.remaining_cap = self.total_cap\n",
        "    self.inventory_df = pd.DataFrame([], columns= [\"total_inventory\", \"inhand_inventory\"]) # indexes = product names \n",
        "    self.cost_per_product = 100\n",
        "  def add(self, product_name, amount):\n",
        "    if self.remaining_cap <= amount : \n",
        "      return (\"No Enough Space\")\n",
        "    else :\n",
        "      if product_name in self.inventory_df.index:\n",
        "        self.inventory_df.loc[product_name, [\"total_inventory\", \"inhand_inventory\"]] += amount\n",
        "      else:\n",
        "        self.inventory_df.loc[product_name, [\"total_inventory\", \"inhand_inventory\"]] = amount \n",
        "      self.remaining_cap = self.total_cap - self.inventory_df.total_inventory.sum()\n",
        "      return (True)\n",
        "  def remove(self, product_name, amount, just_total=True):\n",
        "    if just_total : \n",
        "      self.inventory_df.loc[product_name, [\"total_inventory\"]] -= amount \n",
        "      self.remaining_cap += amount \n",
        "\n",
        "\n",
        "    \n",
        "\n",
        "\n",
        "\n",
        "  "
      ],
      "execution_count": 10,
      "outputs": []
    },
    {
      "cell_type": "code",
      "metadata": {
        "id": "CH8jlR1tKG81",
        "colab_type": "code",
        "colab": {}
      },
      "source": [
        "class Machine():\n",
        "  machines_list = _\n",
        "\n",
        "  def __init__(self,machine_id):\n",
        "    self.production_id = _\n",
        "    self.price = _ \n",
        "    self.enabled = True\n",
        "    self.cost_per_production = _\n",
        "    self.working = 0\n",
        "    self.remaining_production = _\n",
        "    \n",
        "  def start_production(self):\n",
        "    pass\n",
        "  def stop_production(self):\n",
        "    pass\n",
        "  \n",
        "\n",
        "  "
      ],
      "execution_count": 12,
      "outputs": []
    },
    {
      "cell_type": "code",
      "metadata": {
        "id": "d9StvdmzJvpc",
        "colab_type": "code",
        "colab": {}
      },
      "source": [
        "class Product():\n",
        "  products_list = [\"corn\",\"rice\",\"tomato\",\"potato\",\"salad_olvie\",\"gheyme\"]\n",
        "  def __init__(self):\n",
        "    self.material_needed = 10\n",
        "    self.lower_band = 1\n",
        "    self.upper_band = 20\n",
        "\n",
        "    \n",
        "  "
      ],
      "execution_count": 16,
      "outputs": []
    },
    {
      "cell_type": "code",
      "metadata": {
        "id": "sY19sQdGuXWa",
        "colab_type": "code",
        "colab": {}
      },
      "source": [
        "class Material():\n",
        "  Prices = _ #dict (id , price)"
      ],
      "execution_count": 17,
      "outputs": []
    },
    {
      "cell_type": "code",
      "metadata": {
        "id": "QL16AIzCutHl",
        "colab_type": "code",
        "colab": {}
      },
      "source": [
        "class Market():\n",
        "  vitrin = pd.DataFrame([], columns=[\"seller_obj\",\"product_name\", \"stockhouse_obj\",\"amount\", \"price\"])\n"
      ],
      "execution_count": 18,
      "outputs": []
    },
    {
      "cell_type": "code",
      "metadata": {
        "id": "gfeack45vKsM",
        "colab_type": "code",
        "colab": {}
      },
      "source": [
        "#####################################################\n",
        "#################################################### DELETED\n",
        "\n",
        "\n",
        "class ProductOnVitrin():\n",
        "  def __init__(self, ):\n",
        "    self.seller_obj = player_obj\n",
        "    self.stockhouse_obj = stockhouse_obj\n",
        "    self.product_obj = product_obj\n",
        "    self.amount = amount\n",
        "    self.price = price"
      ],
      "execution_count": 19,
      "outputs": []
    },
    {
      "cell_type": "code",
      "metadata": {
        "id": "sUpar6s064YH",
        "colab_type": "code",
        "colab": {}
      },
      "source": [
        ""
      ],
      "execution_count": null,
      "outputs": []
    }
  ]
}