{
  "nbformat": 4,
  "nbformat_minor": 0,
  "metadata": {
    "colab": {
      "name": "prototype_server.ipynb",
      "provenance": [],
      "collapsed_sections": [],
      "include_colab_link": true
    },
    "kernelspec": {
      "name": "python3",
      "display_name": "Python 3"
    }
  },
  "cells": [
    {
      "cell_type": "markdown",
      "metadata": {
        "id": "view-in-github",
        "colab_type": "text"
      },
      "source": [
        "<a href=\"https://colab.research.google.com/github/miladmirzazadeh/Gamein-Prototype/blob/master/prototype_server.ipynb\" target=\"_parent\"><img src=\"https://colab.research.google.com/assets/colab-badge.svg\" alt=\"Open In Colab\"/></a>"
      ]
    },
    {
      "cell_type": "code",
      "metadata": {
        "id": "WeU7OqoTR4gS",
        "colab_type": "code",
        "colab": {
          "base_uri": "https://localhost:8080/",
          "height": 123
        },
        "outputId": "9bcd2b9c-f82f-46ae-8fe5-fb7ae6e043ee"
      },
      "source": [
        "from google.colab import drive\n",
        "drive.mount('/content/drive')"
      ],
      "execution_count": 1,
      "outputs": [
        {
          "output_type": "stream",
          "text": [
            "Go to this URL in a browser: https://accounts.google.com/o/oauth2/auth?client_id=947318989803-6bn6qk8qdgf4n4g3pfee6491hc0brc4i.apps.googleusercontent.com&redirect_uri=urn%3aietf%3awg%3aoauth%3a2.0%3aoob&response_type=code&scope=email%20https%3a%2f%2fwww.googleapis.com%2fauth%2fdocs.test%20https%3a%2f%2fwww.googleapis.com%2fauth%2fdrive%20https%3a%2f%2fwww.googleapis.com%2fauth%2fdrive.photos.readonly%20https%3a%2f%2fwww.googleapis.com%2fauth%2fpeopleapi.readonly\n",
            "\n",
            "Enter your authorization code:\n",
            "··········\n",
            "Mounted at /content/drive\n"
          ],
          "name": "stdout"
        }
      ]
    },
    {
      "cell_type": "code",
      "metadata": {
        "id": "R5MiyQuMYk4n",
        "colab_type": "code",
        "colab": {}
      },
      "source": [
        "import numpy as np \n",
        "import pandas as pd \n",
        "import random\n"
      ],
      "execution_count": 44,
      "outputs": []
    },
    {
      "cell_type": "code",
      "metadata": {
        "id": "RgxoX-nFYpz9",
        "colab_type": "code",
        "colab": {}
      },
      "source": [
        "class Parameters():\n",
        "  ###################### reading all dataframes from google drive ...... to call them faster and easier in runtime \n",
        "\n",
        "  land_stockhouse_df = pd.read_excel(\"/content/drive/My Drive/projects/gamein_prototype/parameters.xlsx\",sheet_name=\"land_stockhouse\", header=0,index_col=0)\n",
        "  land_machine_df = pd.read_excel(\"/content/drive/My Drive/projects/gamein_prototype/parameters.xlsx\",sheet_name=\"land_machine\", header=0,index_col=0)\n",
        "  machines_info_df = pd.read_excel(\"/content/drive/My Drive/projects/gamein_prototype/parameters.xlsx\",sheet_name=\"machines_info\", header=0,index_col=0)\n",
        "  products_volume_df = pd.read_excel(\"/content/drive/My Drive/projects/gamein_prototype/parameters.xlsx\",sheet_name=\"products_info\", header=0,index_col=0)\n",
        "  bom_df = pd.read_excel(\"/content/drive/My Drive/projects/gamein_prototype/parameters.xlsx\",sheet_name=\"bom\", header=0,index_col=0)"
      ],
      "execution_count": 45,
      "outputs": []
    },
    {
      "cell_type": "code",
      "metadata": {
        "id": "KhYrjPwLYuZM",
        "colab_type": "code",
        "colab": {}
      },
      "source": [
        "class Player():\n",
        "  players_name=[]\n",
        "\n",
        "  def __init__(self, player_name):\n",
        "    self.name = player_name\n",
        "    #remove from available\n",
        "    self.cash = 1000000 # بودجه اولیه\n",
        "    self.land_objects=dict()\n",
        "\n",
        "  def calculate_final_net_worth(self):\n",
        "    #to calculate final net worth\n",
        "    # inventory_value_sum=sum([self.land_objects[land].calculate_inventory_value() for land in list(self.land_objects.keys())]) #nima jaygozine 3 khate bala\n",
        "    # net_worth = inventory_value_sum + self.cash \n",
        "    net_worth = self.cash #incomplete\n",
        "    return net_worth \n",
        "\n",
        "  def add_land(self, land_id):\n",
        "    self.land_objects.update({land_id : Land(land_id)}) # یه اینستنس از لند میسازه که ورودی بهش آیدی میدیم . بعد توی خود لند ، بر حسب آیدی بقیه فیچر های لند رو ست میکنیم\n",
        "    \n",
        "\n",
        "  def add_machine(self, land_id, machine_id):\n",
        "    self.land_objects[land_id].add_machine(machine_id)"
      ],
      "execution_count": 46,
      "outputs": []
    },
    {
      "cell_type": "code",
      "metadata": {
        "id": "TKlKJjQKZHcM",
        "colab_type": "code",
        "colab": {}
      },
      "source": [
        "class Gamein_Bazaar():\n",
        "  def put_into_market():\n",
        "    pass"
      ],
      "execution_count": 47,
      "outputs": []
    },
    {
      "cell_type": "code",
      "metadata": {
        "id": "QqFtT2Haa70F",
        "colab_type": "code",
        "colab": {}
      },
      "source": [
        "class Land():\n",
        "  lands_list = [30001,30002,30003,30004,30005,30006,30007,30008,\n",
        "                30009,30010,30011,30012,30013,30014,30015] #amirreza یه دیتا فریم که یه آی دی زمین داره و ماشین\n",
        "  available_lands= lands_list #آی دی های باقی مانده\n",
        "  \n",
        "  def __init__(self, land_id):\n",
        "    self.machine = _\n",
        "    self.id = land_id\n",
        "    self.cap = Parameters.land_stockhouse_df.loc[self.id, \"cap\"]\n",
        "    self.stockhouse = StockHouse(self.cap) # اینجا دیگه دیکشنری نیست چون فرض بر اینه که یه دونه انبار بیشتر نداریم \n",
        "\n",
        "\n",
        "    # self.stockhouse = StockHouse()\n",
        "  def add_machine(self, machine_id):\n",
        "    self.machine= Machine(machine_id)"
      ],
      "execution_count": 48,
      "outputs": []
    },
    {
      "cell_type": "code",
      "metadata": {
        "id": "gnew7aMka-PX",
        "colab_type": "code",
        "colab": {}
      },
      "source": [
        "class StockHouse():\n",
        "  def __init__(self, cap):\n",
        "    self.total_cap = cap\n",
        "    self.remaining_cap = self.total_cap\n",
        "    self.inventory_df = pd.DataFrame([], columns= [\"total_inventory\", \"inhand_inventory\"]) # indexes = product names \n",
        "    # self.cost_per_product = 100\n",
        "\n",
        "  def add(self, product_name, amount, just_total=False, just_inhand=False): #milad : just_total va just_inhand ezafe shod\n",
        "    volume = amount * Product.products_volume.loc[product_name, 'volume'] \n",
        "\n",
        "    if just_inhand:\n",
        "      if (product_name in self.inventory_df.index):\n",
        "        self.inventory_df.loc[product_name,\"inhand_inventory\"] += amount \n",
        "      else:\n",
        "        self.inventory_df.loc[product_name, \"inhand_inventory\"] = amount \n",
        "\n",
        "    elif just_total:\n",
        "      if (product_name in self.inventory_df.index):\n",
        "        self.inventory_df.loc[product_name, \"total_inventory\"] += amount \n",
        "      else:\n",
        "        self.inventory_df.loc[product_name, \"total_inventory\"] = amount \n",
        "      self.remaining_cap -= volume\n",
        "\n",
        "    elif not (just_total or just_inhand):# both are False\n",
        "      if (product_name in self.inventory_df.index):\n",
        "        self.inventory_df.loc[product_name, [\"total_inventory\", \"inhand_inventory\"]] += amount \n",
        "      else:\n",
        "        self.inventory_df.loc[product_name, [\"total_inventory\", \"inhand_inventory\"]] = amount \n",
        "      self.remaining_cap -= volume\n",
        "        \n",
        "      \n",
        "      \n",
        "\n",
        "  def remove(self, product_name, amount, just_total=False, just_inhand=False):\n",
        "    volume = amount * Product.products_volume.loc[product_name, 'volume'] \n",
        "    if not (just_total or just_inhand): # both are False\n",
        "      self.inventory_df.loc[product_name, [\"total_inventory\", \"inhand_inventory\"]] -= amount \n",
        "      self.remaining_cap += volumne \n",
        "\n",
        "    if (just_total): #total==True, inhand==False\n",
        "      self.inventory_df.loc[product_name, [\"total_inventory\"]] -= amount \n",
        "      self.remaining_cap += volumne \n",
        "\n",
        "    if (just_inhand): \n",
        "      self.inventory_df.loc[product_name, [\"inhand_inventory\"]] -= amount"
      ],
      "execution_count": 49,
      "outputs": []
    },
    {
      "cell_type": "code",
      "metadata": {
        "id": "20HTJHoNhXM9",
        "colab_type": "code",
        "colab": {}
      },
      "source": [
        "class Machine():\n",
        "\n",
        "  def __init__(self,machine_id):\n",
        "    self.id = machine_id\n",
        "    self.product_name = Parameters.machines_info_df.loc[self.id, \"product\"]\n",
        "    # self.price = _ \n",
        "    self.enabled = True # False until machine comes :)\n",
        "    self.working = 0 # False while mahcine works\n",
        "    self.remaining_production = 0 # reduce production rate per turn , \n",
        "    self.production_cost_per_unit = Parameters.machines_info_df.loc[self.id, \"production_cost_per_unit\"]\n",
        "    self.fixed_production_cost = Parameters.machines_info_df.loc[self.id, \"fixed_production_cost\"]\n",
        "    self.production_rate = Parameters.machines_info_df.loc[self.id, \"production_rate\"]\n",
        "    \n",
        "  def start_production(self, amount):#milad : ezafe shod\n",
        "    self.working = 1 \n",
        "    self.remaining_production = amount\n",
        "    \n"
      ],
      "execution_count": 70,
      "outputs": []
    },
    {
      "cell_type": "code",
      "metadata": {
        "id": "d6iIa2BukBOr",
        "colab_type": "code",
        "colab": {}
      },
      "source": [
        "#nima mitune nabashe\n",
        "class Product():\n",
        "\n",
        "  products_bom = Parameters.bom_df\n",
        "  products_volume = Parameters.products_volume_df # its a df not a series . so use loc[index, \"volume\"]  \n",
        "\n",
        "\n",
        "\n",
        "  # def __init__(self):\n",
        "  #   self.material_needed = 10\n",
        "  #   self.lower_band = 1\n",
        "  #   self.upper_band = 20"
      ],
      "execution_count": 60,
      "outputs": []
    },
    {
      "cell_type": "code",
      "metadata": {
        "id": "QnlH4IVekgCg",
        "colab_type": "code",
        "colab": {}
      },
      "source": [
        "class Material():\n",
        "  Prices = _ #dict (id , price)"
      ],
      "execution_count": 61,
      "outputs": []
    },
    {
      "cell_type": "code",
      "metadata": {
        "id": "wC1eUZbGlLd4",
        "colab_type": "code",
        "colab": {}
      },
      "source": [
        "class Market(): #nima alan avale kar \n",
        "\n",
        "  vitrin = pd.DataFrame([], columns=[\"seller_obj\",\"product_name\", \"amount\", \"price\"])\n",
        "\n",
        "  def reset_vitrin():\n",
        "    Market.vitrin = pd.DataFrame([], columns=[\"seller_obj\",\"product_name\", \"amount\", \"price\"])"
      ],
      "execution_count": 62,
      "outputs": []
    },
    {
      "cell_type": "code",
      "metadata": {
        "id": "CSAodk44lNh9",
        "colab_type": "code",
        "colab": {}
      },
      "source": [
        "class Controller(): \n",
        "\n",
        "  # We have to set all initial values here ...... why ? because we wanna reset them everytime we build Controller class \n",
        "  Market.reset_vitrin() \n",
        "  Land.available_lands = Land.lands_list\n",
        "\n",
        "  return_message=\"\"\n",
        "  turn = 0 \n",
        "  last_turn = 50\n",
        "  player_objects = dict() #name,object\n",
        "\n",
        "  def start():  \n",
        "    Market.reset_vitrin() \n",
        "    Land.available_lands = Land.lands_list\n",
        "\n",
        "    Controller.return_message=\"\"\n",
        "    Controller.turn = 0 \n",
        "    Controller.last_turn = 50\n",
        "    Controller.player_objects = dict() #name,object\n",
        "\n",
        "  def next_turn():\n",
        "    Controller.turn+=1 \n",
        "    #milad : ezafe shod\n",
        "    for player in list(Controller.player_objects.keys()): #continue production\n",
        "      machine = list(player.land_objects.values())[0].machine\n",
        "      stockhouse = list(player.land_objects.values())[0].stockhouse\n",
        "      if machine.working == 1 : \n",
        "        if machine.remaining_production <= machine.production_rate:\n",
        "          machine.remaining_production = 0\n",
        "          stockhouse.add(amount=machine.remaining_production, just_inhand=True)\n",
        "          machine.working = 0 #end production\n",
        "          print(player +\"عملیات تولید تمام شد\")\n",
        "          #CommandAnalyzer.show_message(player_name, \"عملیات تولید تمام شد\")\n",
        "        else :\n",
        "          machine.remaining_production -= machine.production_rate\n",
        "          stockhouse.add(amount=machine.production_rate, just_inhand=True)\n",
        "\n",
        "    if Controller.turn == Controller.last_turn : \n",
        "      score_board = Controller.score_board()\n",
        "      Controller.return_message = \"End Game. Thank u \" + score_board\n",
        "\n",
        "  \n",
        "  def score_board():\n",
        "    net_worths = pd.Series([])\n",
        "    for player in list(Controller.player_objects.keys()): \n",
        "      obj = Controller.player_objects[player] \n",
        "      obj.calculate_final_net_worth()\n",
        "      net_worths[player] = obj \n",
        "    net_worths = net_worths.sort(ascending=False)\n",
        "    return net_worths    \n",
        "\n",
        "  def create_player(player_name):\n",
        "\n",
        "    #milad : user's telegram id IS Not his player_name anymore\n",
        "    #milad : every player can choose a name ..... in CommandAnalyzer we need a dict of telegram username and player name \n",
        "    \n",
        "    if player_name in list(Controller.player_objects.keys()): \n",
        "      return (\"این نام کاربری پیش از این ثبت شده\")\n",
        "    if len(Land.available_lands) == 0 :\n",
        "      return (\"متاسفانه ظرفیت بازی پر شده \") \n",
        "    land_id = random.choice(Land.available_lands) #random از بین لیست زمین های در دسترس\n",
        "    Land.available_lands.remove(land_id)   #remove from available lands\n",
        "    machine_id = Parameters.land_machine_df.loc[land_id, \"machine_id\"] # از دیتافریم زمین و ماشین خوانده میشود\n",
        "\n",
        "    Controller.player_objects.update({player_name : Player(player_name)})\n",
        "    Controller.buy_land(player_name, land_id)\n",
        "    Controller.buy_machine(player_name, land_id, machine_id)\n",
        "    \n",
        "  def buy_land(player_name, land_id):\n",
        "    Controller.player_objects[player_name].add_land(land_id)\n",
        "    # Controller.player_objects[name].cash -=         اینجا باید پول زمین رو از حسابش کم کنیم . فعلا لازم نیست  چون خودمون بهش زمین رو اختصاص میدیم \n",
        "\n",
        "  def buy_machine(player_name, land_id, machine_id):\n",
        "    Controller.player_objects[player_name].add_machine(land_id, machine_id)\n",
        "\n",
        "  def show_status(player_name):#milad : in ro ezafe kardam \n",
        "    player_obj = Controller.player_objects[player_name]\n",
        "    stockhouse = list(player_obj.land_objects.values())[0].stockhouse\n",
        "    machine = list(player_obj.land_objects.values())[0].machine\n",
        "    return (player_obj.cash, stockhouse.inventory_df, stockhouse.remaining_cap, machine.remaining_production) # we should consider this type of return in CommandAnalyzer()\n",
        "\n",
        "  def start_production(player_name, product_name, amount):# This Func should take machine_id too (Later Inshallah)\n",
        "    player_obj = Controller.player_objects[player_name]\n",
        "    stockhouse = list(player_obj.land_objects.values())[0].stockhouse\n",
        "    machine = list(player_obj.land_objects.values())[0].machine\n",
        "    materials = Product.products_bom.loc[product_name]\n",
        "\n",
        "    # cost = machine.fixed_production_cost + machine.production_cost_per_unit * amount\n",
        "    cost=0\n",
        "    volume = Product.products_volume.loc[product_name, \"volume\"] * amount \n",
        "\n",
        "    if not (machine.enabled==True and machine.working==0): ### checking if the required machine is available (free/bought)\n",
        "      return ('ماشین قادر به تولید نیست')\n",
        "    if product_name != machine.product_name: ### checking existence\n",
        "      return (\" شما ماشین \" + product_name + \" را ندارید \" ) \n",
        "    if player_obj.cash < cost :  ############## Checking Player Cash\n",
        "      return (\"پولت کمه \")\n",
        "    if stockhouse.remaining_cap < volume: ############### Checking Inventory Remaining Cap\n",
        "      return (\"انبارت اینقدر جا نداره  \")\n",
        "  \n",
        "    \n",
        "    for mat, number in materials.iteritems():\n",
        "      if number > 0 :\n",
        "        if (not (mat in stockhouse.inventory_df.index) or (number*amount > stockhouse.inventory_df.loc[mat, \"inhand_inventory\"])):\n",
        "          return (\"  کافی نیست  \" + mat)\n",
        "        stockhouse.remove(mat, number*amount)\n",
        "    ##################################### when u get here , everything is OK\n",
        "    player_obj.cash -= cost\n",
        "    print(\"تولید با موفقیت آغاز شد\") \n",
        "    stockhouse.add(product_name, amount, just_total=True)#milad : bayad mogheye shoroo e tolid be total_inventory ezafe she ama be inhand_inventory na..... yani az remaining cap kam she ke ta vaghti tolid mikone natoone anbaro por kone \n",
        "    machine.start_production(amount) #milad : ezafe shod \n",
        "    \n",
        "    \n",
        "    \n",
        "  \n",
        "\n",
        "  def sell_to_gamein(player_name, product_name, amount):#milad : foroosh be gamein ham vase mahsool miani hast ham nahaei . price nadare. \n",
        "    pass \n",
        "\n",
        "  def put_into_market(player_name, product_name, amount, price):# it doesn't get stockhouse_id or etc. until we have more than one stockhouse\n",
        "    player_obj = Controller.player_objects[player_name]\n",
        "    product_on_vitrin_id = random.choice([i for i in range(100) if not(i in Market.vitrin.index)])   # a random unique id , that will assign to vitrin objects  #nima nemifahmam\n",
        "    stockhouse_obj = list(player_obj.land_objects.values())[0].stockhouse\n",
        "    \n",
        "\n",
        "    #check the inventory\n",
        "    if not (product_name in stockhouse_obj.inventory_df.index):\n",
        "      return (\"Doesn't Exist\")\n",
        "\n",
        "    if stockhouse_obj.inventory_df.loc[product_name, \"inhand_inventory\"] < amount : \n",
        "      return (\"Not Enough Inventory\")\n",
        "    \n",
        "    existing_row = Market.vitrin[np.logical_and(np.logical_and(Market.vitrin.product_name == product_name, Market.vitrin.price == price), Market.vitrin.seller_obj == player_obj)]\n",
        "    if len(existing_row) != 0:\n",
        "      # add to existing row IF player_name, product_name and price are equal \n",
        "      Market.vitrin.loc[existing_row.index, \"amount\"] += amount\n",
        "    else : \n",
        "      Market.vitrin.loc[product_on_vitrin_id] = [player_obj, product_name, amount, price]\n",
        "    stockhouse_obj.remove(product_name, amount, just_inhand=True)\n",
        "    return (\"Done :)\")\n",
        "    \n",
        "  \n",
        "  def upgrade_stockhouse(player_name, land_id):\n",
        "    pass\n",
        "\n",
        "  def show_product_market_info():\n",
        "    vitrin = Market.vitrin.copy()\n",
        "    vitrin[\"seller_name\"] = [obj.name for obj in vitrin.seller_obj]\n",
        "    vitrin[\"id\"] = vitrin.index\n",
        "    vitrin = vitrin[[\"id\", \"product_name\" , \"amount\", \"price\", \"seller_name\"]]\n",
        "    return vitrin\n",
        "\n",
        "\n",
        "  def buy_product(player_name, product_on_vitrin_id, amount): # آیدی محصول داخل ویترین رو میده که بریم از روی دیکشنری توی مارکت آبجکتش رو پیدا کنیم و انتقال رو انجام بدیم \n",
        "    buyer_player = Controller.player_objects[player_name]\n",
        "    buyer_stockhouse = list(buyer_player.land_objects.values())[0].stockhouse\n",
        "    product_on_vitrin = Market.vitrin.loc[product_on_vitrin_id] \n",
        "    seller_player = product_on_vitrin.seller_obj \n",
        "    volume = Product.products_volume.loc[product_on_vitrin.product_name, 'volume']\n",
        "    \n",
        "    if amount*volume > buyer_stockhouse.remaining_cap: \n",
        "      return (\"فضای انبار کافی نیست\")\n",
        "    if buyer_player.cash < product_on_vitrin.price * amount :\n",
        "      return (\"پول کافی نیست\")\n",
        "    if amount > product_on_vitrin.amount :\n",
        "      return (\"این مقدار کالا در بازار نیست\") \n",
        "  \n",
        "    buyer_player.cash -= amount * product_on_vitrin.price #update cash\n",
        "    buyer_stockhouse.add(product_on_vitrin.product_name, amount) #updata buyer inventory\n",
        "\n",
        "\n",
        "    #update seller inventory :\n",
        "    seller_stockhouse = list(seller_player.land_objects.values())[0].stockhouse\n",
        "    seller_stockhouse.remove(product_on_vitrin.product_name, amount, just_total=True) \n",
        "    seller_player.cash += amount * product_on_vitrin.price # add cash to seller player\n",
        "\n",
        "\n",
        "    #update vitrin\n",
        "    product_on_vitrin.amount -= amount\n",
        "    if product_on_vitrin.amount == 0 : #### deleting vitrin row ir amount == 0 \n",
        "      Market.vitrin.drop(product_on_vitrin_id, inplace=True) \n",
        "\n",
        "    return (\"معامله انجام شد\")"
      ],
      "execution_count": 65,
      "outputs": []
    },
    {
      "cell_type": "code",
      "metadata": {
        "id": "ItlWn0ucXmOE",
        "colab_type": "code",
        "colab": {}
      },
      "source": [
        "Controller.create_player(\"milad\")"
      ],
      "execution_count": 66,
      "outputs": []
    },
    {
      "cell_type": "code",
      "metadata": {
        "id": "BYaOwbB4Xo0V",
        "colab_type": "code",
        "colab": {
          "base_uri": "https://localhost:8080/",
          "height": 48
        },
        "outputId": "31e5d6a9-a0a7-4706-ec5d-68334043f1ae"
      },
      "source": [
        "Controller.show_status(\"milad\")[1]"
      ],
      "execution_count": 69,
      "outputs": [
        {
          "output_type": "execute_result",
          "data": {
            "text/html": [
              "<div>\n",
              "<style scoped>\n",
              "    .dataframe tbody tr th:only-of-type {\n",
              "        vertical-align: middle;\n",
              "    }\n",
              "\n",
              "    .dataframe tbody tr th {\n",
              "        vertical-align: top;\n",
              "    }\n",
              "\n",
              "    .dataframe thead th {\n",
              "        text-align: right;\n",
              "    }\n",
              "</style>\n",
              "<table border=\"1\" class=\"dataframe\">\n",
              "  <thead>\n",
              "    <tr style=\"text-align: right;\">\n",
              "      <th></th>\n",
              "      <th>total_inventory</th>\n",
              "      <th>inhand_inventory</th>\n",
              "    </tr>\n",
              "  </thead>\n",
              "  <tbody>\n",
              "  </tbody>\n",
              "</table>\n",
              "</div>"
            ],
            "text/plain": [
              "Empty DataFrame\n",
              "Columns: [total_inventory, inhand_inventory]\n",
              "Index: []"
            ]
          },
          "metadata": {
            "tags": []
          },
          "execution_count": 69
        }
      ]
    },
    {
      "cell_type": "code",
      "metadata": {
        "id": "Zn0E1-mMuc6k",
        "colab_type": "code",
        "colab": {}
      },
      "source": [
        ""
      ],
      "execution_count": 58,
      "outputs": []
    }
  ]
}