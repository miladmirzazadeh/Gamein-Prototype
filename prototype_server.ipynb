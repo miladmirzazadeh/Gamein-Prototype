{
  "nbformat": 4,
  "nbformat_minor": 0,
  "metadata": {
    "colab": {
      "name": "prototype_server.ipynb",
      "provenance": [],
      "collapsed_sections": [],
      "authorship_tag": "ABX9TyMkx8y5P+CE2CdN+3qDMb3y",
      "include_colab_link": true
    },
    "kernelspec": {
      "name": "python3",
      "display_name": "Python 3"
    }
  },
  "cells": [
    {
      "cell_type": "markdown",
      "metadata": {
        "id": "view-in-github",
        "colab_type": "text"
      },
      "source": [
        "<a href=\"https://colab.research.google.com/github/miladmirzazadeh/Gamein-Prototype/blob/master/prototype_server.ipynb\" target=\"_parent\"><img src=\"https://colab.research.google.com/assets/colab-badge.svg\" alt=\"Open In Colab\"/></a>"
      ]
    },
    {
      "cell_type": "markdown",
      "metadata": {
        "id": "6O0_cMEK_2sl",
        "colab_type": "text"
      },
      "source": [
        "TESTING CODES"
      ]
    },
    {
      "cell_type": "code",
      "metadata": {
        "id": "me_jifSwDnZZ",
        "colab_type": "code",
        "colab": {}
      },
      "source": [
        "Controller.create_player(\"milad\")"
      ],
      "execution_count": null,
      "outputs": []
    },
    {
      "cell_type": "code",
      "metadata": {
        "id": "3xhn_PzZV_qe",
        "colab_type": "code",
        "colab": {}
      },
      "source": [
        "Controller.create_player(\"hasan\")"
      ],
      "execution_count": 98,
      "outputs": []
    },
    {
      "cell_type": "code",
      "metadata": {
        "id": "v7_gJp5UPpPz",
        "colab_type": "code",
        "colab": {
          "base_uri": "https://localhost:8080/",
          "height": 51
        },
        "outputId": "a75d8c59-3eb6-4b32-ca6b-410b6174e7f1"
      },
      "source": [
        "Controller.player_objects[\"hasan\"].land_objects \n",
        "for i in Controller.player_objects.keys():\n",
        "  for land in Controller.player_objects[i].land_objects.values():\n",
        "    print(i,land, land.machine_objects.keys())"
      ],
      "execution_count": 118,
      "outputs": [
        {
          "output_type": "stream",
          "text": [
            "milad <__main__.Land object at 0x7f7741c377b8> dict_keys([2])\n",
            "hasan <__main__.Land object at 0x7f7741c37160> dict_keys([2])\n"
          ],
          "name": "stdout"
        }
      ]
    },
    {
      "cell_type": "markdown",
      "metadata": {
        "id": "8p_X096sDtL4",
        "colab_type": "text"
      },
      "source": [
        "END   TESTING CODES\n",
        "\n",
        "\n",
        "\n"
      ]
    },
    {
      "cell_type": "code",
      "metadata": {
        "id": "_S-Zr1wfFzYX",
        "colab_type": "code",
        "colab": {}
      },
      "source": [
        "import numpy as np \n",
        "import pandas as pd \n",
        "import random"
      ],
      "execution_count": 77,
      "outputs": []
    },
    {
      "cell_type": "code",
      "metadata": {
        "id": "iFY3HwF4wsW5",
        "colab_type": "code",
        "colab": {}
      },
      "source": [
        "class Controller():\n",
        "  return_message=\"\"\n",
        "  turn = 0 \n",
        "  last_turn = 50\n",
        "  player_objects = dict()#name,object\n",
        "\n",
        "  def next_turn():\n",
        "    turn+=1\n",
        "    if turn == Controller.last_turn : \n",
        "      score_board = Controller.score_board()\n",
        "      Controller.return_message = \"End Game. Thank u \" + score_board\n",
        "\n",
        "  \n",
        "  def score_board():\n",
        "    net_worths = pd.Series([])\n",
        "    for player in list(player_objects.keys()):\n",
        "      obj = player_objects[player]\n",
        "      obj.calculate_final_net_worth()\n",
        "      net_worths[player] = obj \n",
        "    net_worths = net_worths.sort(ascending=False)\n",
        "    return net_worths\n",
        "\n",
        "\n",
        "\n",
        "\n",
        "\n",
        "  # def get_status(player_name):\n",
        "    # for land in player_objecs[player_name].\n",
        "\n",
        "\n",
        "  def create_player(player_name):\n",
        "    land_id = random.choice(Land.available_lands) #random از بین لیست زمین های در دسترس\n",
        "    Land.available_lands.remove(land_id)   #remove from available lands\n",
        "\n",
        "    machine_id =  2 # از دیتافریم زمین و ماشین خوانده میشود\n",
        " \n",
        "    Controller.player_objects.update({player_name : Player(player_name)})\n",
        "    Controller.buy_land(player_name, land_id)\n",
        "    Controller.buy_machine(player_name, land_id, machine_id)\n",
        "    \n",
        "  def buy_land(player_name, land_id):\n",
        "    Controller.player_objects[player_name].add_land(land_id)\n",
        "    # Controller.player_objects[name].cash -=         اینجا باید پول زمین رو از حسابش کم کنیم . فعلا لازم نیست  چون خودمون بهش زمین رو اختصاص میدیم \n",
        "    \n",
        "  def buy_machine(player_name, land_id, machine_id):\n",
        "    Controller.player_objects[player_name].add_machine(land_id, machine_id)\n",
        "    \n",
        "  def put_into_market(player_name, product, amount, price):\n",
        "    player_obj = Controller.player_objects[player_name]\n",
        "    stockhouse_obj = _\n",
        "    product_obj = _\n",
        "    Market.products_on_vitrin_objects.update({product_on_vitrin_id : ProductOnVitrin(player_obj, stockhouse_obj, product_obj, amount, price))})\n",
        "    pass\n",
        "  \n",
        "  def upgrade_stockhouse(player_name, land_id):\n",
        "    pass\n",
        "\n",
        "  def show_product_market_info():\n",
        "    return Market.products_on_vitrin\n",
        "\n",
        "  def buy_product(player_name, product_on_vitrin_id, amount): # آیدی محصول داخل ویترین رو میده که بریم از روی دیکشنری توی مارکت آبجکتش رو پیدا کنیم و انتقال رو انجام بدیم \n",
        "    cash = Controller.player_objects[player_name].cash \n",
        "    obj = Market.product_on_vitrin_objects[product_on_vitrin_id]\n",
        "    if cash < obj.price * amount :\n",
        "      Controller.return_message = \"u have not enough cash\"\n",
        "      break \n",
        "    else :\n",
        "      obj.amount -= \n",
        "   "
      ],
      "execution_count": 87,
      "outputs": []
    },
    {
      "cell_type": "code",
      "metadata": {
        "id": "BSM5bwL62SjQ",
        "colab_type": "code",
        "colab": {}
      },
      "source": [
        "x = pd.DataFrame([1,2,3])"
      ],
      "execution_count": 57,
      "outputs": []
    },
    {
      "cell_type": "code",
      "metadata": {
        "id": "UAVI6tfGyhrI",
        "colab_type": "code",
        "colab": {}
      },
      "source": [
        "class Player():\n",
        "  players_name=[]\n",
        "\n",
        "  def __init__(self, player_name):\n",
        "    self.name = player_name\n",
        "    #remove from available\n",
        "    self.cash = 1000000 # بودجه اولیه\n",
        "    self.land_objects=dict()\n",
        "\n",
        "  def calculate_final_net_worth(self):\n",
        "    inventory_value_list = []\n",
        "    for land in list(self.land_objects.keys()):\n",
        "      inventory_value_list.append(self.land_objects[land].calculate_inventory_value()) # تو هر خونه این لیست ، ارزش دارایی های یک زمین از زمین های بازیکن ثبت میشه\n",
        "    inventory_value_sum = sum(inventory_value_list)\n",
        "    net_worth = inventory_value_sum + self.cash \n",
        "    return net_worth \n",
        "\n",
        "  def add_land(self, land_id):\n",
        "    self.land_objects.update({land_id : Land(land_id)}) # یه اینستنس از لند میسازه که ورودی بهش آیدی میدیم . بعد توی خود لند ، بر حسب آیدی بقیه فیچر های لند رو ست میکنیم\n",
        "    \n",
        "\n",
        "  def add_machine(self, land_id, machine_id):\n",
        "    self.land_objects[land_id].add_machine(machine_id)\n",
        "\n",
        "\n",
        "\n",
        "\n",
        "\n"
      ],
      "execution_count": 96,
      "outputs": []
    },
    {
      "cell_type": "code",
      "metadata": {
        "id": "u9sOTqeIcQw0",
        "colab_type": "code",
        "colab": {}
      },
      "source": [
        "class Gamein_Bazaar():\n",
        "\n",
        "  def put_into_market():\n",
        "    "
      ],
      "execution_count": null,
      "outputs": []
    },
    {
      "cell_type": "code",
      "metadata": {
        "id": "-jc3xKAXRx2M",
        "colab_type": "code",
        "colab": {}
      },
      "source": [
        "ali = Player(\"ali\")"
      ],
      "execution_count": 67,
      "outputs": []
    },
    {
      "cell_type": "code",
      "metadata": {
        "id": "F6LJ1YXPR0tg",
        "colab_type": "code",
        "colab": {
          "base_uri": "https://localhost:8080/",
          "height": 287
        },
        "outputId": "3a09b042-b551-4468-fab5-9733bf5698c1"
      },
      "source": [
        "ali.add_land(_)\n"
      ],
      "execution_count": 70,
      "outputs": [
        {
          "output_type": "error",
          "ename": "TypeError",
          "evalue": "ignored",
          "traceback": [
            "\u001b[0;31m---------------------------------------------------------------------------\u001b[0m",
            "\u001b[0;31mTypeError\u001b[0m                                 Traceback (most recent call last)",
            "\u001b[0;32m<ipython-input-70-ca28c03f91fb>\u001b[0m in \u001b[0;36m<module>\u001b[0;34m()\u001b[0m\n\u001b[0;32m----> 1\u001b[0;31m \u001b[0mali\u001b[0m\u001b[0;34m.\u001b[0m\u001b[0madd_land\u001b[0m\u001b[0;34m(\u001b[0m\u001b[0m_\u001b[0m\u001b[0;34m)\u001b[0m\u001b[0;34m\u001b[0m\u001b[0;34m\u001b[0m\u001b[0m\n\u001b[0m",
            "\u001b[0;32m<ipython-input-66-ae08964d90dd>\u001b[0m in \u001b[0;36madd_land\u001b[0;34m(self, land_id)\u001b[0m\n\u001b[1;32m     18\u001b[0m   \u001b[0;32mdef\u001b[0m \u001b[0madd_land\u001b[0m\u001b[0;34m(\u001b[0m\u001b[0mself\u001b[0m\u001b[0;34m,\u001b[0m \u001b[0mland_id\u001b[0m\u001b[0;34m)\u001b[0m\u001b[0;34m:\u001b[0m\u001b[0;34m\u001b[0m\u001b[0;34m\u001b[0m\u001b[0m\n\u001b[1;32m     19\u001b[0m     \u001b[0;32mpass\u001b[0m\u001b[0;34m\u001b[0m\u001b[0;34m\u001b[0m\u001b[0m\n\u001b[0;32m---> 20\u001b[0;31m     \u001b[0mself\u001b[0m\u001b[0;34m.\u001b[0m\u001b[0mland_objects\u001b[0m\u001b[0;34m.\u001b[0m\u001b[0mupdate\u001b[0m\u001b[0;34m(\u001b[0m\u001b[0;34m{\u001b[0m\u001b[0mland_id\u001b[0m \u001b[0;34m:\u001b[0m \u001b[0mLand\u001b[0m\u001b[0;34m(\u001b[0m\u001b[0mland_id\u001b[0m\u001b[0;34m)\u001b[0m\u001b[0;34m}\u001b[0m\u001b[0;34m)\u001b[0m \u001b[0;31m# یه اینستنس از لند میسازه که ورودی بهش آیدی میدیم . بعد توی خود لند ، بر حسب آیدی بقیه فیچر های لند رو ست میکنیم\u001b[0m\u001b[0;34m\u001b[0m\u001b[0;34m\u001b[0m\u001b[0m\n\u001b[0m\u001b[1;32m     21\u001b[0m \u001b[0;34m\u001b[0m\u001b[0m\n\u001b[1;32m     22\u001b[0m \u001b[0;34m\u001b[0m\u001b[0m\n",
            "\u001b[0;31mTypeError\u001b[0m: unhashable type: 'dict'"
          ]
        }
      ]
    },
    {
      "cell_type": "code",
      "metadata": {
        "id": "SWhuw4ouR4Kp",
        "colab_type": "code",
        "colab": {
          "base_uri": "https://localhost:8080/",
          "height": 34
        },
        "outputId": "f4854c29-baca-4f08-efff-dc231ff52232"
      },
      "source": [
        "ali.land_objects"
      ],
      "execution_count": 69,
      "outputs": [
        {
          "output_type": "execute_result",
          "data": {
            "text/plain": [
              "{22: <__main__.Land at 0x7f7741c2f6d8>}"
            ]
          },
          "metadata": {
            "tags": []
          },
          "execution_count": 69
        }
      ]
    },
    {
      "cell_type": "code",
      "metadata": {
        "id": "nxzbUOx-4vyl",
        "colab_type": "code",
        "colab": {}
      },
      "source": [
        "class Land():\n",
        "  lands_list =[] #amirreza یه دیتا فریم که یه آی دی زمین داره و ماشین\n",
        "  available_lands=[1,2,3,4,5,6] #آی دی های باقی مانده\n",
        "  machine_objects = dict()\n",
        "  def __init__(self, land_id):\n",
        "    self.land_id = land_id\n",
        "    # self.stockhouse = StockHouse()\n",
        "  def add_machine(self, machine_id):\n",
        "    self.machine_objects.update({machine_id: Machine(machine_id)})\n",
        "\n",
        "    \n",
        "\n",
        "\n",
        "  "
      ],
      "execution_count": 108,
      "outputs": []
    },
    {
      "cell_type": "code",
      "metadata": {
        "id": "zBJoGtsnKT5a",
        "colab_type": "code",
        "colab": {}
      },
      "source": [
        "class StockHouse():\n",
        "  def __init__(self):\n",
        "    self.remaining_cap = 3000\n",
        "    self.inventory_df = pd.DataFrame()\n",
        "    self.cost_per_product = 100\n",
        "\n",
        "  "
      ],
      "execution_count": 109,
      "outputs": []
    },
    {
      "cell_type": "code",
      "metadata": {
        "id": "4od28VxTKTuq",
        "colab_type": "code",
        "colab": {}
      },
      "source": [
        ""
      ],
      "execution_count": 60,
      "outputs": []
    },
    {
      "cell_type": "code",
      "metadata": {
        "id": "CH8jlR1tKG81",
        "colab_type": "code",
        "colab": {}
      },
      "source": [
        "class Machine():\n",
        "  machines_list = _\n",
        "\n",
        "  def __init__(self,machine_id):\n",
        "    self.production_id = _\n",
        "    self.price = _ \n",
        "    self.enabled = True\n",
        "    self.cost_per_production = _\n",
        "    self.working = 0\n",
        "    self.remaining_production = _\n",
        "    \n",
        "  def start_production(self):\n",
        "    pass\n",
        "  def stop_production(self):\n",
        "    pass\n",
        "  \n",
        "\n",
        "  "
      ],
      "execution_count": 94,
      "outputs": []
    },
    {
      "cell_type": "code",
      "metadata": {
        "id": "d9StvdmzJvpc",
        "colab_type": "code",
        "colab": {}
      },
      "source": [
        "class Product():\n",
        "  def __init__(self):\n",
        "    self.material_needed = _\n",
        "    self.lower_band = _\n",
        "    self.upper_band = _\n",
        "\n",
        "    \n",
        "  "
      ],
      "execution_count": 29,
      "outputs": []
    },
    {
      "cell_type": "code",
      "metadata": {
        "id": "sY19sQdGuXWa",
        "colab_type": "code",
        "colab": {}
      },
      "source": [
        "class Material():\n",
        "  Prices = _ #dict (id , price)"
      ],
      "execution_count": 18,
      "outputs": []
    },
    {
      "cell_type": "code",
      "metadata": {
        "id": "QL16AIzCutHl",
        "colab_type": "code",
        "colab": {}
      },
      "source": [
        "class Market():\n",
        "  product_on_vitrin_objects = dict()\n",
        "def __init__(self, player_obj, product_obj, amount, price):\n",
        "  self.player_name = player_obj.name \n",
        "  \n",
        "  products_on_vitrin = pd.DataFrame([], columns=[\"Supplier\", \"Product\", \"Amount\", \"Price\", \"Storehouse_object\"])\n",
        "def add_to_market(player_name,):\n",
        "  pass\n",
        "def remove_from_market():\n",
        "  pass "
      ],
      "execution_count": 30,
      "outputs": []
    },
    {
      "cell_type": "code",
      "metadata": {
        "id": "gfeack45vKsM",
        "colab_type": "code",
        "colab": {
          "base_uri": "https://localhost:8080/",
          "height": 131
        },
        "outputId": "67a9ef8a-c5c6-48a4-e180-61907490f524"
      },
      "source": [
        "class ProductOnVitrin():\n",
        "  def __init__(self, player_obj, stockhouse_obj, product_obj, amount, price):\n",
        "    "
      ],
      "execution_count": 119,
      "outputs": [
        {
          "output_type": "error",
          "ename": "SyntaxError",
          "evalue": "ignored",
          "traceback": [
            "\u001b[0;36m  File \u001b[0;32m\"<ipython-input-119-5e395031135f>\"\u001b[0;36m, line \u001b[0;32m3\u001b[0m\n\u001b[0;31m    \u001b[0m\n\u001b[0m    ^\u001b[0m\n\u001b[0;31mSyntaxError\u001b[0m\u001b[0;31m:\u001b[0m unexpected EOF while parsing\n"
          ]
        }
      ]
    },
    {
      "cell_type": "code",
      "metadata": {
        "id": "7iBekYeIywSa",
        "colab_type": "code",
        "colab": {}
      },
      "source": [
        "ali = Player(\"aliagha\",1)\n",
        "milad = Player(\"mili\",1)"
      ],
      "execution_count": null,
      "outputs": []
    },
    {
      "cell_type": "code",
      "metadata": {
        "id": "hm0rNeuxy5u2",
        "colab_type": "code",
        "colab": {}
      },
      "source": [
        "Player.players_name.append(ali.name)\n",
        "Player.players_name.append(milad.name)"
      ],
      "execution_count": null,
      "outputs": []
    },
    {
      "cell_type": "code",
      "metadata": {
        "id": "0dLrPUgdzCQg",
        "colab_type": "code",
        "colab": {
          "base_uri": "https://localhost:8080/",
          "height": 286
        },
        "outputId": "57b28209-3746-4d28-dd81-6daedd6fcc91"
      },
      "source": [
        "ali.calculate_net_worth()"
      ],
      "execution_count": null,
      "outputs": [
        {
          "output_type": "error",
          "ename": "UnboundLocalError",
          "evalue": "ignored",
          "traceback": [
            "\u001b[0;31m---------------------------------------------------------------------------\u001b[0m",
            "\u001b[0;31mUnboundLocalError\u001b[0m                         Traceback (most recent call last)",
            "\u001b[0;32m<ipython-input-35-6a3c28d2011b>\u001b[0m in \u001b[0;36m<module>\u001b[0;34m()\u001b[0m\n\u001b[0;32m----> 1\u001b[0;31m \u001b[0mali\u001b[0m\u001b[0;34m.\u001b[0m\u001b[0mcalculate_net_worth\u001b[0m\u001b[0;34m(\u001b[0m\u001b[0;34m)\u001b[0m\u001b[0;34m\u001b[0m\u001b[0;34m\u001b[0m\u001b[0m\n\u001b[0m",
            "\u001b[0;32m<ipython-input-33-24de14b9d7d0>\u001b[0m in \u001b[0;36mcalculate_net_worth\u001b[0;34m(self)\u001b[0m\n\u001b[1;32m      9\u001b[0m     \u001b[0mself\u001b[0m\u001b[0;34m.\u001b[0m\u001b[0mland_objects\u001b[0m\u001b[0;34m=\u001b[0m\u001b[0mdict\u001b[0m\u001b[0;34m(\u001b[0m\u001b[0;34m)\u001b[0m\u001b[0;34m\u001b[0m\u001b[0;34m\u001b[0m\u001b[0m\n\u001b[1;32m     10\u001b[0m   \u001b[0;32mdef\u001b[0m \u001b[0mcalculate_net_worth\u001b[0m\u001b[0;34m(\u001b[0m\u001b[0mself\u001b[0m\u001b[0;34m)\u001b[0m\u001b[0;34m:\u001b[0m\u001b[0;34m\u001b[0m\u001b[0;34m\u001b[0m\u001b[0m\n\u001b[0;32m---> 11\u001b[0;31m     \u001b[0mcount\u001b[0m\u001b[0;34m+=\u001b[0m\u001b[0;36m1\u001b[0m\u001b[0;34m\u001b[0m\u001b[0;34m\u001b[0m\u001b[0m\n\u001b[0m\u001b[1;32m     12\u001b[0m     \u001b[0mprint\u001b[0m\u001b[0;34m(\u001b[0m\u001b[0;34m\"hi\"\u001b[0m\u001b[0;34m)\u001b[0m\u001b[0;34m\u001b[0m\u001b[0;34m\u001b[0m\u001b[0m\n\u001b[1;32m     13\u001b[0m \u001b[0;34m\u001b[0m\u001b[0m\n",
            "\u001b[0;31mUnboundLocalError\u001b[0m: local variable 'count' referenced before assignment"
          ]
        }
      ]
    },
    {
      "cell_type": "code",
      "metadata": {
        "id": "-UYSsO6TzFLr",
        "colab_type": "code",
        "colab": {}
      },
      "source": [
        "class a():\n",
        "  def x_2(): \n",
        "    print(\"hi\")\n",
        "  def y():\n",
        "    a.x_2()"
      ],
      "execution_count": null,
      "outputs": []
    }
  ]
}