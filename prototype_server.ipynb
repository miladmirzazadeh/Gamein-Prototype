{
  "nbformat": 4,
  "nbformat_minor": 0,
  "metadata": {
    "colab": {
      "name": "prototype_server.ipynb",
      "provenance": [],
      "collapsed_sections": [],
      "authorship_tag": "ABX9TyO8nwOzCxjpFJduRhl4dsEY",
      "include_colab_link": true
    },
    "kernelspec": {
      "name": "python3",
      "display_name": "Python 3"
    }
  },
  "cells": [
    {
      "cell_type": "markdown",
      "metadata": {
        "id": "view-in-github",
        "colab_type": "text"
      },
      "source": [
        "<a href=\"https://colab.research.google.com/github/miladmirzazadeh/Gamein-Prototype/blob/master/prototype_server.ipynb\" target=\"_parent\"><img src=\"https://colab.research.google.com/assets/colab-badge.svg\" alt=\"Open In Colab\"/></a>"
      ]
    },
    {
      "cell_type": "markdown",
      "metadata": {
        "id": "6O0_cMEK_2sl",
        "colab_type": "text"
      },
      "source": [
        "\n",
        "\n",
        "TESTING CODES ############################################################################\n",
        "\n"
      ]
    },
    {
      "cell_type": "code",
      "metadata": {
        "id": "BmiNJrIACF4B",
        "colab_type": "code",
        "colab": {}
      },
      "source": [
        "Controller.create_player(\"raman\")"
      ],
      "execution_count": 211,
      "outputs": []
    },
    {
      "cell_type": "code",
      "metadata": {
        "id": "me_jifSwDnZZ",
        "colab_type": "code",
        "colab": {}
      },
      "source": [
        "Controller.create_player(\"ali\") \n"
      ],
      "execution_count": 212,
      "outputs": []
    },
    {
      "cell_type": "code",
      "metadata": {
        "id": "PUjleZKdm7ER",
        "colab_type": "code",
        "colab": {
          "base_uri": "https://localhost:8080/",
          "height": 51
        },
        "outputId": "1095683e-5982-4f66-f68c-54951d5c071d"
      },
      "source": [
        "Controller.player_objects"
      ],
      "execution_count": 213,
      "outputs": [
        {
          "output_type": "execute_result",
          "data": {
            "text/plain": [
              "{'ali': <__main__.Player at 0x7f6d6a8c2668>,\n",
              " 'raman': <__main__.Player at 0x7f6d6a907cc0>}"
            ]
          },
          "metadata": {
            "tags": []
          },
          "execution_count": 213
        }
      ]
    },
    {
      "cell_type": "code",
      "metadata": {
        "id": "PdfIZdxoA1RY",
        "colab_type": "code",
        "colab": {
          "base_uri": "https://localhost:8080/",
          "height": 35
        },
        "outputId": "d4791a72-c679-4d37-ee43-8b2b8f95f4ab"
      },
      "source": [
        "Controller.put_into_market(\"ali\", \"corn\", 150, 200)"
      ],
      "execution_count": 218,
      "outputs": [
        {
          "output_type": "execute_result",
          "data": {
            "application/vnd.google.colaboratory.intrinsic": {
              "type": "string"
            },
            "text/plain": [
              "'Done :)'"
            ]
          },
          "metadata": {
            "tags": []
          },
          "execution_count": 218
        }
      ]
    },
    {
      "cell_type": "code",
      "metadata": {
        "id": "bql681huB807",
        "colab_type": "code",
        "colab": {}
      },
      "source": [
        "player_obj = Controller.player_objects[\"ali\"]\n",
        "stockhouse = list(player_obj.land_objects.values())[0].stockhouse\n"
      ],
      "execution_count": 215,
      "outputs": []
    },
    {
      "cell_type": "code",
      "metadata": {
        "id": "3aNDcbKmoucA",
        "colab_type": "code",
        "colab": {}
      },
      "source": [
        "Controller.start_production(\"ali\",\"corn\", 1100)"
      ],
      "execution_count": 216,
      "outputs": []
    },
    {
      "cell_type": "code",
      "metadata": {
        "id": "7NAdyYUVs7uE",
        "colab_type": "code",
        "colab": {
          "base_uri": "https://localhost:8080/",
          "height": 79
        },
        "outputId": "2dc0288a-8917-43a4-e935-436a24224c6c"
      },
      "source": [
        "stockhouse.inventory_df"
      ],
      "execution_count": 217,
      "outputs": [
        {
          "output_type": "execute_result",
          "data": {
            "text/html": [
              "<div>\n",
              "<style scoped>\n",
              "    .dataframe tbody tr th:only-of-type {\n",
              "        vertical-align: middle;\n",
              "    }\n",
              "\n",
              "    .dataframe tbody tr th {\n",
              "        vertical-align: top;\n",
              "    }\n",
              "\n",
              "    .dataframe thead th {\n",
              "        text-align: right;\n",
              "    }\n",
              "</style>\n",
              "<table border=\"1\" class=\"dataframe\">\n",
              "  <thead>\n",
              "    <tr style=\"text-align: right;\">\n",
              "      <th></th>\n",
              "      <th>total_inventory</th>\n",
              "      <th>inhand_inventory</th>\n",
              "    </tr>\n",
              "  </thead>\n",
              "  <tbody>\n",
              "    <tr>\n",
              "      <th>corn</th>\n",
              "      <td>1100</td>\n",
              "      <td>1100</td>\n",
              "    </tr>\n",
              "  </tbody>\n",
              "</table>\n",
              "</div>"
            ],
            "text/plain": [
              "     total_inventory inhand_inventory\n",
              "corn            1100             1100"
            ]
          },
          "metadata": {
            "tags": []
          },
          "execution_count": 217
        }
      ]
    },
    {
      "cell_type": "code",
      "metadata": {
        "id": "L3UarqMMv8OY",
        "colab_type": "code",
        "colab": {
          "base_uri": "https://localhost:8080/",
          "height": 166
        },
        "outputId": "127e4253-3903-4a91-aeaa-bd49ad9c3b21"
      },
      "source": [
        "list(Market.product_on_vitrin_objects.values())[0].player_obj"
      ],
      "execution_count": 222,
      "outputs": [
        {
          "output_type": "error",
          "ename": "AttributeError",
          "evalue": "ignored",
          "traceback": [
            "\u001b[0;31m---------------------------------------------------------------------------\u001b[0m",
            "\u001b[0;31mAttributeError\u001b[0m                            Traceback (most recent call last)",
            "\u001b[0;32m<ipython-input-222-41cbe7750377>\u001b[0m in \u001b[0;36m<module>\u001b[0;34m()\u001b[0m\n\u001b[0;32m----> 1\u001b[0;31m \u001b[0mlist\u001b[0m\u001b[0;34m(\u001b[0m\u001b[0mMarket\u001b[0m\u001b[0;34m.\u001b[0m\u001b[0mproduct_on_vitrin_objects\u001b[0m\u001b[0;34m.\u001b[0m\u001b[0mvalues\u001b[0m\u001b[0;34m(\u001b[0m\u001b[0;34m)\u001b[0m\u001b[0;34m)\u001b[0m\u001b[0;34m[\u001b[0m\u001b[0;36m0\u001b[0m\u001b[0;34m]\u001b[0m\u001b[0;34m.\u001b[0m\u001b[0mplayer_obj\u001b[0m\u001b[0;34m\u001b[0m\u001b[0;34m\u001b[0m\u001b[0m\n\u001b[0m",
            "\u001b[0;31mAttributeError\u001b[0m: 'ProductOnVitrin' object has no attribute 'player_obj'"
          ]
        }
      ]
    },
    {
      "cell_type": "code",
      "metadata": {
        "id": "oW4mKzTwBZCC",
        "colab_type": "code",
        "colab": {
          "base_uri": "https://localhost:8080/",
          "height": 183
        },
        "outputId": "ba2f63f8-a1d9-458c-bea7-ce8b9f22ebf4"
      },
      "source": [
        "for i in list(Market.product_on_vitrin_objects.values()):\n",
        "  print(i.player_obj.name)"
      ],
      "execution_count": 220,
      "outputs": [
        {
          "output_type": "error",
          "ename": "AttributeError",
          "evalue": "ignored",
          "traceback": [
            "\u001b[0;31m---------------------------------------------------------------------------\u001b[0m",
            "\u001b[0;31mAttributeError\u001b[0m                            Traceback (most recent call last)",
            "\u001b[0;32m<ipython-input-220-93509b8543dd>\u001b[0m in \u001b[0;36m<module>\u001b[0;34m()\u001b[0m\n\u001b[1;32m      1\u001b[0m \u001b[0;32mfor\u001b[0m \u001b[0mi\u001b[0m \u001b[0;32min\u001b[0m \u001b[0mlist\u001b[0m\u001b[0;34m(\u001b[0m\u001b[0mMarket\u001b[0m\u001b[0;34m.\u001b[0m\u001b[0mproduct_on_vitrin_objects\u001b[0m\u001b[0;34m.\u001b[0m\u001b[0mvalues\u001b[0m\u001b[0;34m(\u001b[0m\u001b[0;34m)\u001b[0m\u001b[0;34m)\u001b[0m\u001b[0;34m:\u001b[0m\u001b[0;34m\u001b[0m\u001b[0;34m\u001b[0m\u001b[0m\n\u001b[0;32m----> 2\u001b[0;31m   \u001b[0mprint\u001b[0m\u001b[0;34m(\u001b[0m\u001b[0mi\u001b[0m\u001b[0;34m.\u001b[0m\u001b[0mplayer_obj\u001b[0m\u001b[0;34m.\u001b[0m\u001b[0mname\u001b[0m\u001b[0;34m)\u001b[0m\u001b[0;34m\u001b[0m\u001b[0;34m\u001b[0m\u001b[0m\n\u001b[0m",
            "\u001b[0;31mAttributeError\u001b[0m: 'ProductOnVitrin' object has no attribute 'player_obj'"
          ]
        }
      ]
    },
    {
      "cell_type": "code",
      "metadata": {
        "id": "6dFShs6CBmCO",
        "colab_type": "code",
        "colab": {
          "base_uri": "https://localhost:8080/",
          "height": 166
        },
        "outputId": "3ee12b88-9e2f-4478-f529-859a77ece801"
      },
      "source": [
        "list(Controller.player_objects[\"milad\"].land_objects.values())[0]. machine_objects"
      ],
      "execution_count": 207,
      "outputs": [
        {
          "output_type": "error",
          "ename": "KeyError",
          "evalue": "ignored",
          "traceback": [
            "\u001b[0;31m---------------------------------------------------------------------------\u001b[0m",
            "\u001b[0;31mKeyError\u001b[0m                                  Traceback (most recent call last)",
            "\u001b[0;32m<ipython-input-207-0cd36e5ed7b4>\u001b[0m in \u001b[0;36m<module>\u001b[0;34m()\u001b[0m\n\u001b[0;32m----> 1\u001b[0;31m \u001b[0mlist\u001b[0m\u001b[0;34m(\u001b[0m\u001b[0mController\u001b[0m\u001b[0;34m.\u001b[0m\u001b[0mplayer_objects\u001b[0m\u001b[0;34m[\u001b[0m\u001b[0;34m\"milad\"\u001b[0m\u001b[0;34m]\u001b[0m\u001b[0;34m.\u001b[0m\u001b[0mland_objects\u001b[0m\u001b[0;34m.\u001b[0m\u001b[0mvalues\u001b[0m\u001b[0;34m(\u001b[0m\u001b[0;34m)\u001b[0m\u001b[0;34m)\u001b[0m\u001b[0;34m[\u001b[0m\u001b[0;36m0\u001b[0m\u001b[0;34m]\u001b[0m\u001b[0;34m.\u001b[0m \u001b[0mmachine_objects\u001b[0m\u001b[0;34m\u001b[0m\u001b[0;34m\u001b[0m\u001b[0m\n\u001b[0m",
            "\u001b[0;31mKeyError\u001b[0m: 'milad'"
          ]
        }
      ]
    },
    {
      "cell_type": "code",
      "metadata": {
        "id": "3xhn_PzZV_qe",
        "colab_type": "code",
        "colab": {}
      },
      "source": [
        "Controller.create_player(\"hasan\")"
      ],
      "execution_count": null,
      "outputs": []
    },
    {
      "cell_type": "code",
      "metadata": {
        "id": "v7_gJp5UPpPz",
        "colab_type": "code",
        "colab": {
          "base_uri": "https://localhost:8080/",
          "height": 52
        },
        "outputId": "a75d8c59-3eb6-4b32-ca6b-410b6174e7f1"
      },
      "source": [
        "Controller.player_objects[\"hasan\"].land_objects \n",
        "for i in Controller.player_objects.keys():\n",
        "  for land in Controller.player_objects[i].land_objects.values():\n",
        "    print(i,land, land.machine_objects.keys())"
      ],
      "execution_count": null,
      "outputs": [
        {
          "output_type": "stream",
          "text": [
            "milad <__main__.Land object at 0x7f7741c377b8> dict_keys([2])\n",
            "hasan <__main__.Land object at 0x7f7741c37160> dict_keys([2])\n"
          ],
          "name": "stdout"
        }
      ]
    },
    {
      "cell_type": "markdown",
      "metadata": {
        "id": "8p_X096sDtL4",
        "colab_type": "text"
      },
      "source": [
        "END   TESTING CODES ######################################################################\n",
        "\n",
        "\n",
        "\n",
        "\n",
        "\n",
        "\n",
        "\n"
      ]
    },
    {
      "cell_type": "code",
      "metadata": {
        "id": "_S-Zr1wfFzYX",
        "colab_type": "code",
        "colab": {}
      },
      "source": [
        "import numpy as np \n",
        "import pandas as pd \n",
        "import random"
      ],
      "execution_count": null,
      "outputs": []
    },
    {
      "cell_type": "code",
      "metadata": {
        "id": "iFY3HwF4wsW5",
        "colab_type": "code",
        "colab": {}
      },
      "source": [
        "class Controller():\n",
        "  return_message=\"\"\n",
        "  turn = 0 \n",
        "  last_turn = 50\n",
        "  player_objects = dict()#name,object\n",
        "\n",
        "  def next_turn():\n",
        "    turn+=1\n",
        "    if turn == Controller.last_turn : \n",
        "      score_board = Controller.score_board()\n",
        "      Controller.return_message = \"End Game. Thank u \" + score_board\n",
        "\n",
        "  \n",
        "  def score_board():\n",
        "    net_worths = pd.Series([])\n",
        "    for player in list(player_objects.keys()):\n",
        "      obj = player_objects[player]\n",
        "      obj.calculate_final_net_worth()\n",
        "      net_worths[player] = obj \n",
        "    net_worths = net_worths.sort(ascending=False)\n",
        "    return net_worths\n",
        "\n",
        "\n",
        "  # def get_status(player_name):\n",
        "    # for land in player_objecs[player_name].\n",
        "\n",
        "  def create_player(player_name):\n",
        "    land_id = random.choice(Land.available_lands) #random از بین لیست زمین های در دسترس\n",
        "    Land.available_lands.remove(land_id)   #remove from available lands\n",
        "    machine_id =  2 # از دیتافریم زمین و ماشین خوانده میشود\n",
        "    Controller.player_objects.update({player_name : Player(player_name)})\n",
        "    Controller.buy_land(player_name, land_id)\n",
        "    Controller.buy_machine(player_name, land_id, machine_id)\n",
        "    \n",
        "  def buy_land(player_name, land_id):\n",
        "    Controller.player_objects[player_name].add_land(land_id)\n",
        "    # Controller.player_objects[name].cash -=         اینجا باید پول زمین رو از حسابش کم کنیم . فعلا لازم نیست  چون خودمون بهش زمین رو اختصاص میدیم \n",
        "\n",
        "  def buy_machine(player_name, land_id, machine_id):\n",
        "    Controller.player_objects[player_name].add_machine(land_id, machine_id)\n",
        "\n",
        "  def start_production(player_name, product_name, amount):# This Func should take machine_id too ( Later Inshallah)\n",
        "    if not (product_name in Product.products_list):\n",
        "      return (\"wtf ?\")\n",
        "    else : \n",
        "      player_obj = Controller.player_objects[player_name]\n",
        "      stockhouse = list(player_obj.land_objects.values())[0].stockhouse\n",
        "      if product_name in stockhouse.inventory_df.index:\n",
        "        stockhouse.inventory_df.loc[product_name, \"total_inventory\"] += amount\n",
        "        stockhouse.inventory_df.loc[product_name, \"inhand_inventory\"] += amount\n",
        "      else:\n",
        "        stockhouse.inventory_df.loc[product_name, \"total_inventory\"] = amount \n",
        "        stockhouse.inventory_df.loc[product_name, \"inhand_inventory\"] = amount \n",
        "\n",
        "\n",
        "  def put_into_market(player_name, product_name, amount, price):# it doesn't get stockhouse_id or etc. until we have more than one stockhouse\n",
        "    product_on_vitrin_id = random.choice([i for i in range(1000) if not(i in list(Market.product_on_vitrin_objects.keys()))])   # a random unique id , that will assign to vitrin objects\n",
        "    player_obj = Controller.player_objects[player_name]\n",
        "    stockhouse_obj = list(player_obj.land_objects.values())[0].stockhouse\n",
        "    \n",
        "\n",
        "    #check the inventory\n",
        "    if not (product_name in stockhouse_obj.inventory_df.index):\n",
        "      return (\"Doesn't Exist\")\n",
        "    else:\n",
        "      if stockhouse_obj.inventory_df.loc[product_name, \"inhand_inventory\"] < amount : \n",
        "         return(\"No Enough Inventory\")\n",
        "      else :\n",
        "        Market.product_on_vitrin_objects.update({product_on_vitrin_id : ProductOnVitrin(player_obj, stockhouse_obj, product_name, amount, price)})\n",
        "        stockhouse.inventory_df.loc[product_name, \"inhand_inventory\"] -= amount\n",
        "        return(\"Done :)\")\n",
        "    \n",
        "  \n",
        "  def upgrade_stockhouse(player_name, land_id):\n",
        "    pass\n",
        "\n",
        "  def show_product_market_info():\n",
        "    return Market.products_on_vitrin\n",
        "\n",
        "  def buy_product(player_name, product_on_vitrin_id, amount): # آیدی محصول داخل ویترین رو میده که بریم از روی دیکشنری توی مارکت آبجکتش رو پیدا کنیم و انتقال رو انجام بدیم \n",
        "    player_obj = Controller.player_objects[player_name]\n",
        "    stockhouse = list(player_obj.land_objects.values())[0].stockhouse\n",
        "    product_on_vitrin_obj = Market.product_on_vitrin_objects[product_on_vitrin_id]\n",
        "    seller_player = product_on_vitrin_obj.seller_obj\n",
        "    if amount > stockhouser.remaining_cap:\n",
        "      return (\"No Enough Space\")\n",
        "    elif player_obj.cash < product_on_vitrin_obj.price * amount :\n",
        "      return (\"No Enough Cash\")\n",
        "    elif amount > product_obj.amount :\n",
        "      return (\"No Enough Product In Vitrin\")\n",
        "    else:\n",
        "      stockhouse.add(_, amount) #add to inventory  # هنوز معلوم نیست چجوری قراره پروداکت رو شناسایی کنیم . بی هویته \n",
        "      player_obj.cash -= amount * product_on_vitrin_obj.price #update cash\n",
        "      seller_stockhouse = list(seller_player.land_objects.values())[0].stockhouse\n",
        "      seller_player.cash += amount*price\n",
        "      seller_stockhouse.remove(product_id, amount) # removing selled products from origin stockhouse\n",
        "      product_on_vitrin_obj.player_obj.cash += amount * product_on_vitrin_obj.price # add cash to seller player\n",
        "      return(\"Done :)\")\n",
        "    \n",
        "   "
      ],
      "execution_count": 188,
      "outputs": []
    },
    {
      "cell_type": "code",
      "metadata": {
        "id": "UAVI6tfGyhrI",
        "colab_type": "code",
        "colab": {}
      },
      "source": [
        "class Player():\n",
        "  players_name=[]\n",
        "\n",
        "  def __init__(self, player_name):\n",
        "    self.name = player_name\n",
        "    #remove from available\n",
        "    self.cash = 1000000 # بودجه اولیه\n",
        "    self.land_objects=dict()\n",
        "\n",
        "  def calculate_final_net_worth(self):\n",
        "    inventory_value_list = []\n",
        "    for land in list(self.land_objects.keys()):\n",
        "      inventory_value_list.append(self.land_objects[land].calculate_inventory_value()) # تو هر خونه این لیست ، ارزش دارایی های یک زمین از زمین های بازیکن ثبت میشه\n",
        "    inventory_value_sum = sum(inventory_value_list)\n",
        "    net_worth = inventory_value_sum + self.cash \n",
        "    return net_worth \n",
        "\n",
        "  def add_land(self, land_id):\n",
        "    self.land_objects.update({land_id : Land(land_id)}) # یه اینستنس از لند میسازه که ورودی بهش آیدی میدیم . بعد توی خود لند ، بر حسب آیدی بقیه فیچر های لند رو ست میکنیم\n",
        "    \n",
        "\n",
        "  def add_machine(self, land_id, machine_id):\n",
        "    self.land_objects[land_id].add_machine(machine_id)\n",
        "\n",
        "\n",
        "\n",
        "\n",
        "\n"
      ],
      "execution_count": null,
      "outputs": []
    },
    {
      "cell_type": "code",
      "metadata": {
        "id": "u9sOTqeIcQw0",
        "colab_type": "code",
        "colab": {}
      },
      "source": [
        "class Gamein_Bazaar():\n",
        "\n",
        "  def put_into_market():\n",
        "    pass"
      ],
      "execution_count": null,
      "outputs": []
    },
    {
      "cell_type": "code",
      "metadata": {
        "id": "fy_ZbwI4nT8Q",
        "colab_type": "code",
        "colab": {
          "base_uri": "https://localhost:8080/",
          "height": 34
        },
        "outputId": "963c7d58-c72b-434c-f237-b293e9218e82"
      },
      "source": [
        "Land.available_lands"
      ],
      "execution_count": 67,
      "outputs": [
        {
          "output_type": "execute_result",
          "data": {
            "text/plain": [
              "[1, 2, 3, 4, 5, 6]"
            ]
          },
          "metadata": {
            "tags": []
          },
          "execution_count": 67
        }
      ]
    },
    {
      "cell_type": "code",
      "metadata": {
        "id": "nxzbUOx-4vyl",
        "colab_type": "code",
        "colab": {}
      },
      "source": [
        "class Land():\n",
        "  lands_list =[] #amirreza یه دیتا فریم که یه آی دی زمین داره و ماشین\n",
        "  available_lands= list(range(100)) #آی دی های باقی مانده\n",
        "  \n",
        "  def __init__(self, land_id):\n",
        "    self.machine_objects = dict()\n",
        "    self.land_id = land_id\n",
        "    self.stockhouse = StockHouse()# اینجا دیگه دیکشنری نیست چون فرض بر اینه که یه دونه انبار بیشتر نداریم \n",
        "\n",
        "\n",
        "    # self.stockhouse = StockHouse()\n",
        "  def add_machine(self, machine_id):\n",
        "    self.machine_objects.update({machine_id: Machine(machine_id)})\n",
        "\n",
        "    \n",
        "\n",
        "\n",
        "  "
      ],
      "execution_count": 88,
      "outputs": []
    },
    {
      "cell_type": "code",
      "metadata": {
        "id": "zBJoGtsnKT5a",
        "colab_type": "code",
        "colab": {}
      },
      "source": [
        "\n",
        "class StockHouse():\n",
        "  def __init__(self):\n",
        "    self.remaining_cap = 3000\n",
        "    self.inventory_df = pd.DataFrame([], columns= [\"total_inventory\", \"inhand_inventory\"]) # indexes = product names \n",
        "    self.cost_per_product = 100\n",
        "  def add(self, product_name, amount):\n",
        "    self.remaining_cap -= amount\n",
        "    self.inventory_df[product_name] += amount\n",
        "  def remove(self, product_name, amount):\n",
        "    pass \n",
        "\n",
        "\n",
        "  "
      ],
      "execution_count": 146,
      "outputs": []
    },
    {
      "cell_type": "code",
      "metadata": {
        "id": "4od28VxTKTuq",
        "colab_type": "code",
        "colab": {}
      },
      "source": [
        ""
      ],
      "execution_count": null,
      "outputs": []
    },
    {
      "cell_type": "code",
      "metadata": {
        "id": "CH8jlR1tKG81",
        "colab_type": "code",
        "colab": {}
      },
      "source": [
        "class Machine():\n",
        "  machines_list = _\n",
        "\n",
        "  def __init__(self,machine_id):\n",
        "    self.production_id = _\n",
        "    self.price = _ \n",
        "    self.enabled = True\n",
        "    self.cost_per_production = _\n",
        "    self.working = 0\n",
        "    self.remaining_production = _\n",
        "    \n",
        "  def start_production(self):\n",
        "    pass\n",
        "  def stop_production(self):\n",
        "    pass\n",
        "  \n",
        "\n",
        "  "
      ],
      "execution_count": null,
      "outputs": []
    },
    {
      "cell_type": "code",
      "metadata": {
        "id": "d9StvdmzJvpc",
        "colab_type": "code",
        "colab": {}
      },
      "source": [
        "class Product():\n",
        "  products_list = [\"corn\",\"rice\",\"tomato\",\"potato\",\"salad_olvie\",\"gheyme\"]\n",
        "  def __init__(self):\n",
        "    self.material_needed = _\n",
        "    self.lower_band = _\n",
        "    self.upper_band = _\n",
        "\n",
        "    \n",
        "  "
      ],
      "execution_count": 105,
      "outputs": []
    },
    {
      "cell_type": "code",
      "metadata": {
        "id": "sY19sQdGuXWa",
        "colab_type": "code",
        "colab": {}
      },
      "source": [
        "class Material():\n",
        "  Prices = _ #dict (id , price)"
      ],
      "execution_count": null,
      "outputs": []
    },
    {
      "cell_type": "code",
      "metadata": {
        "id": "QL16AIzCutHl",
        "colab_type": "code",
        "colab": {}
      },
      "source": [
        "class Market():\n",
        "  product_on_vitrin_objects = dict()\n",
        "  \n",
        "  products_on_vitrin = pd.DataFrame([], columns=[\"Supplier\", \"Product\", \"Amount\", \"Price\", \"Storehouse_object\"])\n",
        "def add_to_market(player_obj, stockhouse_obj, product_obj, amount, price):\n",
        "  product_on_vitrin_objects.update({product_on_vitrin_id : ProductOnVitrin(player_obj, stockhouse_obj, amount, price)})\n",
        "  pass\n",
        "def remove_from_market():\n",
        "  pass "
      ],
      "execution_count": 210,
      "outputs": []
    },
    {
      "cell_type": "code",
      "metadata": {
        "id": "gfeack45vKsM",
        "colab_type": "code",
        "colab": {}
      },
      "source": [
        "class ProductOnVitrin():\n",
        "  def __init__(self, player_obj, stockhouse_obj, product_obj, amount, price):\n",
        "    self.seller_obj = player_obj\n",
        "    self.stockhouse_obj = stockhouse_obj\n",
        "    self.product_obj = product_obj\n",
        "    self.amount = amount\n",
        "    self.price = price"
      ],
      "execution_count": null,
      "outputs": []
    },
    {
      "cell_type": "code",
      "metadata": {
        "id": "jlT8w9kVmtNB",
        "colab_type": "code",
        "colab": {}
      },
      "source": [
        ""
      ],
      "execution_count": null,
      "outputs": []
    }
  ]
}